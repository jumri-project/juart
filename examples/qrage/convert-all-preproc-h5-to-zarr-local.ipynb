{
 "cells": [
  {
   "cell_type": "code",
   "execution_count": null,
   "id": "ae1deb81-cdf2-4663-bcb9-288e5ce610ac",
   "metadata": {},
   "outputs": [],
   "source": [
    "import os\n",
    "\n",
    "import h5py\n",
    "import zarr"
   ]
  },
  {
   "cell_type": "code",
   "execution_count": null,
   "id": "1d7d5d50-5608-4d92-83cb-168f759d06d1",
   "metadata": {},
   "outputs": [],
   "source": [
    "path = \"/home/projects/qrage/sessions\""
   ]
  },
  {
   "cell_type": "code",
   "execution_count": null,
   "id": "0e376cf2-f437-47d0-b50c-580fe952832d",
   "metadata": {},
   "outputs": [],
   "source": [
    "sessions = os.listdir(path)"
   ]
  },
  {
   "cell_type": "code",
   "execution_count": null,
   "id": "5ca08272-a7bb-44b8-b8d5-295490a60462",
   "metadata": {},
   "outputs": [],
   "source": [
    "sessions.sort()"
   ]
  },
  {
   "cell_type": "code",
   "execution_count": null,
   "id": "818e1f01-2bc9-4108-a83c-16d706498da9",
   "metadata": {},
   "outputs": [],
   "source": [
    "for session in sessions:\n",
    "    print(session)\n",
    "\n",
    "    if os.path.isfile(\n",
    "        f\"{path}/{session}/preproc/mz_me_mpnrage3d_grappa.h5\"\n",
    "    ) and not os.path.isdir(f\"{path}/{session}/preproc.zarr\"):\n",
    "\n",
    "        print(f\"Processing {session}\")\n",
    "\n",
    "        store = zarr.storage.LocalStore(\n",
    "            f\"{path}/{session}/preproc.zarr/preproc.zarr\",\n",
    "        )\n",
    "\n",
    "        root = zarr.create_group(\n",
    "            store=store,\n",
    "            overwrite=True,\n",
    "        )\n",
    "\n",
    "        try:\n",
    "            with h5py.File(\n",
    "                f\"{path}/{session}/preproc/mz_me_mpnrage3d_grappa.h5\",\n",
    "                mode=\"r\",\n",
    "                libver=\"latest\",\n",
    "            ) as hf:\n",
    "                for key in hf.keys():\n",
    "                    print(key, hf[key].shape, hf[key].chunks, hf[key].dtype)\n",
    "                    array = root.create_array(\n",
    "                        name=key,\n",
    "                        shape=hf[key].shape,\n",
    "                        chunks=hf[key].chunks,\n",
    "                        dtype=hf[key].dtype,\n",
    "                        overwrite=True,\n",
    "                    )\n",
    "                    array[:] = hf[key][:]\n",
    "\n",
    "            os.remove(f\"{path}/{session}/preproc/mz_me_mpnrage3d_grappa.h5\")\n",
    "\n",
    "        except:\n",
    "            print(f\"{session} failed.\")"
   ]
  },
  {
   "cell_type": "code",
   "execution_count": null,
   "id": "eddb15b2-b8f4-4441-b6c2-1a52a76f1018",
   "metadata": {},
   "outputs": [],
   "source": []
  }
 ],
 "metadata": {
  "kernelspec": {
   "display_name": "Python 3 (ipykernel)",
   "language": "python",
   "name": "python3"
  },
  "language_info": {
   "codemirror_mode": {
    "name": "ipython",
    "version": 3
   },
   "file_extension": ".py",
   "mimetype": "text/x-python",
   "name": "python",
   "nbconvert_exporter": "python",
   "pygments_lexer": "ipython3",
   "version": "3.13.7"
  }
 },
 "nbformat": 4,
 "nbformat_minor": 5
}
