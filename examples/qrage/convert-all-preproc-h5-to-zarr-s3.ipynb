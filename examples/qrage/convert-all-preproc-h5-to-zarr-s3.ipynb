{
 "cells": [
  {
   "cell_type": "code",
   "execution_count": null,
   "id": "77fdd2fe-ede8-4035-8455-4ebf4ddaa6d7",
   "metadata": {},
   "outputs": [],
   "source": [
    "# Note: It is important to not call any other function such as store.list_dir\n",
    "# after creating the store and before creating the group, as this will lead to an error\n",
    "# \"got Future <Future pending> attached to a different loop\"\n",
    "\n",
    "# async for item in store.list_dir(\"\"):\n",
    "#     print(item)"
   ]
  },
  {
   "cell_type": "code",
   "execution_count": null,
   "id": "6476c656-8ce7-4408-9b4d-de7bac6eaa45",
   "metadata": {},
   "outputs": [],
   "source": [
    "# mamba install h5py zarr --channel conda-forge\n",
    "\n",
    "# There is a bug with the newest versions of botocore (1.36 and 1.37)\n",
    "# mamba install botocore=1.35"
   ]
  },
  {
   "cell_type": "code",
   "execution_count": null,
   "id": "ae1deb81-cdf2-4663-bcb9-288e5ce610ac",
   "metadata": {},
   "outputs": [],
   "source": [
    "import os\n",
    "\n",
    "import h5py\n",
    "import zarr\n",
    "from s3fs import S3FileSystem"
   ]
  },
  {
   "cell_type": "code",
   "execution_count": null,
   "id": "1d7d5d50-5608-4d92-83cb-168f759d06d1",
   "metadata": {},
   "outputs": [],
   "source": [
    "path = \"qrage/sessions\""
   ]
  },
  {
   "cell_type": "code",
   "execution_count": null,
   "id": "1db725cb-a110-4f61-a1f0-dda2afb4b2b1",
   "metadata": {},
   "outputs": [],
   "source": [
    "fs_sync = S3FileSystem(\n",
    "    anon=False,\n",
    "    endpoint_url=\"https://s3.fz-juelich.de\",\n",
    "    key=os.getenv(\"AWS_ACCESS_KEY_ID\"),\n",
    "    secret=os.getenv(\"AWS_SECRET_ACCESS_KEY\"),\n",
    ")"
   ]
  },
  {
   "cell_type": "code",
   "execution_count": null,
   "id": "0351d80d-c5f0-4e52-8163-e883d2868f31",
   "metadata": {},
   "outputs": [],
   "source": [
    "fs_async = S3FileSystem(\n",
    "    anon=False,\n",
    "    endpoint_url=\"https://s3.fz-juelich.de\",\n",
    "    key=os.getenv(\"AWS_ACCESS_KEY_ID\"),\n",
    "    secret=os.getenv(\"AWS_SECRET_ACCESS_KEY\"),\n",
    "    asynchronous=True,\n",
    ")"
   ]
  },
  {
   "cell_type": "code",
   "execution_count": null,
   "id": "aad022f5-eb3c-465c-aea6-5894545260d0",
   "metadata": {},
   "outputs": [],
   "source": [
    "sessions = fs_sync.ls(path, refresh=True)\n",
    "sessions.sort()"
   ]
  },
  {
   "cell_type": "raw",
   "id": "47666730-1a65-444f-a004-4aa31911d44d",
   "metadata": {},
   "source": [
    "session = sessions[10]"
   ]
  },
  {
   "cell_type": "raw",
   "id": "c8a6de38-9c23-4850-9930-1dc7bb270197",
   "metadata": {},
   "source": [
    "folders = fs_sync.ls(session, refresh=True)\n",
    "folders = [f for f in folders if \"preproc\" in f]\n",
    "folders = [f for f in folders if not f.endswith(\".zarr\")]\n",
    "folders.sort()"
   ]
  },
  {
   "cell_type": "raw",
   "id": "bf5e6259-2a16-4f55-93cf-0a66664f44a3",
   "metadata": {},
   "source": [
    "folder = folders[0]"
   ]
  },
  {
   "cell_type": "raw",
   "id": "c0df7b6e-687a-413c-b3b9-aaaf75dbd080",
   "metadata": {},
   "source": [
    "print(session, folder)"
   ]
  },
  {
   "cell_type": "code",
   "execution_count": null,
   "id": "818e1f01-2bc9-4108-a83c-16d706498da9",
   "metadata": {},
   "outputs": [],
   "source": [
    "for session in sessions:\n",
    "    print(session)\n",
    "\n",
    "    \"\"\"\n",
    "    # Delete all zarr files\n",
    "    if fs_sync.isdir(f'{session}/preproc.zarr'):\n",
    "        print(f'Deleting {session}/preproc.zarr ...')\n",
    "        fs_sync.rm(f'{session}/preproc.zarr', recursive=True)\n",
    "    \"\"\"\n",
    "\n",
    "    \"\"\"\n",
    "    # Delete all h5 files\n",
    "    if fs_sync.isdir(f'{session}/preproc'):\n",
    "        print(f'Deleting {session}/preproc ...')\n",
    "        fs_sync.rm(f'{session}/preproc', recursive=True)\n",
    "    \"\"\"\n",
    "\n",
    "    if not fs_sync.isdir(f\"{session}/preproc.zarr\"):\n",
    "        store = zarr.storage.FsspecStore(\n",
    "            fs_async,\n",
    "            path=f\"{session}/preproc.zarr/preproc.zarr\",\n",
    "        )\n",
    "\n",
    "        root = zarr.create_group(\n",
    "            store=store,\n",
    "            overwrite=True,\n",
    "        )\n",
    "\n",
    "        try:\n",
    "            # with fs_sync.open(f'{folder}/mz_me_mpnrage3d_grappa.h5', mode='rb') as f:\n",
    "            # with h5py.File(f, mode='r', libver='latest') as hf:\n",
    "            with h5py.File(\n",
    "                f\"/home/projects/{session}/preproc/mz_me_mpnrage3d_grappa.h5\",\n",
    "                mode=\"r\",\n",
    "                libver=\"latest\",\n",
    "            ) as hf:\n",
    "                for key in hf.keys():\n",
    "                    print(key, hf[key].shape, hf[key].chunks, hf[key].dtype)\n",
    "                    array = root.create_array(\n",
    "                        name=key,\n",
    "                        shape=hf[key].shape,\n",
    "                        chunks=hf[key].chunks,\n",
    "                        dtype=hf[key].dtype,\n",
    "                        overwrite=True,\n",
    "                    )\n",
    "                    array[:] = hf[key][:]\n",
    "\n",
    "        except:\n",
    "            print(f\"{session} failed.\")"
   ]
  },
  {
   "cell_type": "code",
   "execution_count": null,
   "id": "eddb15b2-b8f4-4441-b6c2-1a52a76f1018",
   "metadata": {},
   "outputs": [],
   "source": []
  }
 ],
 "metadata": {
  "kernelspec": {
   "display_name": "Python 3 (ipykernel)",
   "language": "python",
   "name": "python3"
  },
  "language_info": {
   "codemirror_mode": {
    "name": "ipython",
    "version": 3
   },
   "file_extension": ".py",
   "mimetype": "text/x-python",
   "name": "python",
   "nbconvert_exporter": "python",
   "pygments_lexer": "ipython3",
   "version": "3.13.7"
  }
 },
 "nbformat": 4,
 "nbformat_minor": 5
}
