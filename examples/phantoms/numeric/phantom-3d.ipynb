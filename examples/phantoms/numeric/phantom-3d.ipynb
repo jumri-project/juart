{
 "cells": [
  {
   "cell_type": "code",
   "execution_count": null,
   "id": "22a7b330-66f7-4e6c-a89f-ae436075166b",
   "metadata": {
    "tags": []
   },
   "outputs": [],
   "source": [
    "%matplotlib widget\n",
    "\n",
    "import sys\n",
    "\n",
    "import numpy as np\n",
    "\n",
    "sys.path.insert(0, \"../../../src\")\n",
    "\n",
    "from juart.phantoms.mni import (\n",
    "    BrainPhantom5D,\n",
    "    dipole_convolution,\n",
    "    label_map,\n",
    "    parameter_maps,\n",
    "    tissue_map,\n",
    ")\n",
    "from juart.vis.interactive import InteractiveFigure3D"
   ]
  },
  {
   "cell_type": "code",
   "execution_count": null,
   "id": "1ec9b3b6-e4ad-42a3-836d-1cfbf2e2c3c8",
   "metadata": {
    "tags": []
   },
   "outputs": [],
   "source": [
    "phantom = BrainPhantom5D(B0=7, B0_shimming=False)"
   ]
  },
  {
   "cell_type": "code",
   "execution_count": null,
   "id": "1d148ac7-fd43-48f0-adf6-2c23625c52be",
   "metadata": {
    "tags": []
   },
   "outputs": [],
   "source": [
    "dTE, TE0, nTE = 5, 5, 1\n",
    "dTI, TI0, nTI = 100, 20, 1\n",
    "\n",
    "TE = TE0 + dTE * np.arange(nTE)\n",
    "TI = TI0 + dTI * np.arange(nTI)\n",
    "\n",
    "TR = 1e6\n",
    "IE = 1"
   ]
  },
  {
   "cell_type": "code",
   "execution_count": null,
   "id": "18de3efa-8d22-447a-afb2-686b4ec37cad",
   "metadata": {
    "tags": []
   },
   "outputs": [],
   "source": [
    "x_image = phantom.signal(TI, TE, TR, IE)"
   ]
  },
  {
   "cell_type": "code",
   "execution_count": null,
   "id": "c142fae2-9bd4-4fec-9975-11bd0f76fd1f",
   "metadata": {},
   "outputs": [],
   "source": [
    "x_image.shape"
   ]
  },
  {
   "cell_type": "code",
   "execution_count": null,
   "id": "404ccdd6-9b08-47a8-aea2-9ce582255a71",
   "metadata": {
    "tags": []
   },
   "outputs": [],
   "source": [
    "InteractiveFigure3D(\n",
    "    np.abs(x_image[..., 0, 0]),\n",
    "    vmin=0,\n",
    "    vmax=1,\n",
    "    title=\"Contrast images\",\n",
    "    cmap=\"gray\",\n",
    ").interactive"
   ]
  },
  {
   "cell_type": "code",
   "execution_count": null,
   "id": "29a2462a-8719-489f-be4d-bf64aefcdf37",
   "metadata": {},
   "outputs": [],
   "source": [
    "B0 = 1.5"
   ]
  },
  {
   "cell_type": "code",
   "execution_count": null,
   "id": "230f1993-7526-4587-8549-5ba8ec0fd946",
   "metadata": {},
   "outputs": [],
   "source": [
    "tm = tissue_map(B0)\n",
    "lm = label_map()\n",
    "\n",
    "# Load parameter maps\n",
    "M0, T1, T2, T2s, CS, X = parameter_maps(lm, tm)\n",
    "FM = dipole_convolution(X, B0)"
   ]
  },
  {
   "cell_type": "code",
   "execution_count": null,
   "id": "2f2b0a25-dc8c-4ec8-9775-8a6694881e7d",
   "metadata": {},
   "outputs": [],
   "source": [
    "InteractiveFigure3D(\n",
    "    T1,\n",
    "    vmin=0,\n",
    "    vmax=3000,\n",
    "    title=\"T1 map\",\n",
    "    cmap=\"inferno\",\n",
    ").interactive"
   ]
  },
  {
   "cell_type": "code",
   "execution_count": null,
   "id": "df49e552-ca68-4ce3-abdb-a16cdb2c53e5",
   "metadata": {},
   "outputs": [],
   "source": [
    "InteractiveFigure3D(\n",
    "    T2s,\n",
    "    vmin=0,\n",
    "    vmax=150,\n",
    "    title=\"T1 map\",\n",
    "    cmap=\"inferno\",\n",
    ").interactive"
   ]
  },
  {
   "cell_type": "code",
   "execution_count": null,
   "id": "2282f361-4516-4d20-bd27-bc1f392a13eb",
   "metadata": {},
   "outputs": [],
   "source": [
    "InteractiveFigure3D(\n",
    "    X,\n",
    "    vmin=-9.5,\n",
    "    vmax=-8.5,\n",
    "    title=\"T1 map\",\n",
    "    cmap=\"inferno\",\n",
    ").interactive"
   ]
  },
  {
   "cell_type": "code",
   "execution_count": null,
   "id": "5e9367b9-fee5-40d8-a02c-e3f755ae5a2f",
   "metadata": {},
   "outputs": [],
   "source": []
  }
 ],
 "metadata": {
  "kernelspec": {
   "display_name": "Python 3 (ipykernel)",
   "language": "python",
   "name": "python3"
  },
  "language_info": {
   "codemirror_mode": {
    "name": "ipython",
    "version": 3
   },
   "file_extension": ".py",
   "mimetype": "text/x-python",
   "name": "python",
   "nbconvert_exporter": "python",
   "pygments_lexer": "ipython3",
   "version": "3.12.11"
  }
 },
 "nbformat": 4,
 "nbformat_minor": 5
}
