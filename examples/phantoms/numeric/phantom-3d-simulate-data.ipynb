{
 "cells": [
  {
   "cell_type": "code",
   "execution_count": null,
   "id": "22a7b330-66f7-4e6c-a89f-ae436075166b",
   "metadata": {
    "tags": []
   },
   "outputs": [],
   "source": [
    "%load_ext autoreload\n",
    "%autoreload 2\n",
    "%matplotlib widget\n",
    "\n",
    "import sys\n",
    "\n",
    "import numpy as np\n",
    "import torch\n",
    "import matplotlib.pyplot as plt\n",
    "\n",
    "sys.path.insert(0, \"../../../src\")\n",
    "\n",
    "from juart.conopt.functional.fourier import nonuniform_fourier_transform_forward\n",
    "from juart.parim.analytic import cyclic_head_coil\n",
    "from juart.phantoms.mni import BrainPhantom5D\n",
    "from juart.sampling.spherical import spherical_trajectory_3d\n",
    "from juart.vis.interactive import InteractiveFigure4D\n",
    "import zarr"
   ]
  },
  {
   "cell_type": "code",
   "execution_count": null,
   "id": "1ec9b3b6-e4ad-42a3-836d-1cfbf2e2c3c8",
   "metadata": {
    "tags": []
   },
   "outputs": [],
   "source": [
    "phantom = BrainPhantom5D(\n",
    "    B0=3,\n",
    "    B0_shimming=True,\n",
    ")"
   ]
  },
  {
   "cell_type": "code",
   "execution_count": null,
   "id": "1d148ac7-fd43-48f0-adf6-2c23625c52be",
   "metadata": {
    "tags": []
   },
   "outputs": [],
   "source": [
    "dTE, TE0, nTE = 5, 5, 1\n",
    "dTI, TI0, nTI = 100, 20, 1\n",
    "\n",
    "TE = TE0 + dTE * np.arange(nTE)\n",
    "TI = TI0 + dTI * np.arange(nTI)\n",
    "\n",
    "TR = 1e6\n",
    "IE = 1"
   ]
  },
  {
   "cell_type": "code",
   "execution_count": null,
   "id": "18de3efa-8d22-447a-afb2-686b4ec37cad",
   "metadata": {
    "tags": []
   },
   "outputs": [],
   "source": [
    "x_image = phantom.signal(TI, TE, TR, IE)\n",
    "x_image = x_image / np.abs(x_image).max()\n",
    "x_image = torch.from_numpy(x_image).to(torch.complex64)"
   ]
  },
  {
   "cell_type": "code",
   "execution_count": null,
   "id": "c2dcd48a-b7fb-45a6-94af-3f439e969586",
   "metadata": {},
   "outputs": [],
   "source": [
    "k_unraveled = spherical_trajectory_3d(256, 256**2)"
   ]
  },
  {
   "cell_type": "code",
   "execution_count": null,
   "id": "93818f44-2cb0-4f95-9afb-8dd8bf8e4904",
   "metadata": {},
   "outputs": [],
   "source": [
    "fig = plt.figure()\n",
    "ax = fig.add_subplot(projection=\"3d\")\n",
    "\n",
    "ax.scatter(\n",
    "    k_unraveled[0, -1, :],\n",
    "    k_unraveled[1, -1, :],\n",
    "    k_unraveled[2, -1, :],\n",
    ")\n",
    "\n",
    "ax.set_xlabel(\"X Label\")\n",
    "ax.set_ylabel(\"Y Label\")\n",
    "ax.set_zlabel(\"Z Label\")\n",
    "\n",
    "plt.show()"
   ]
  },
  {
   "cell_type": "code",
   "execution_count": null,
   "id": "280c6300-a6a0-400a-aadc-6e004bd60541",
   "metadata": {},
   "outputs": [],
   "source": [
    "k = k_unraveled.reshape((3, -1))"
   ]
  },
  {
   "cell_type": "code",
   "execution_count": null,
   "id": "a0b9b098-61ef-425e-ab79-03194ff48f83",
   "metadata": {},
   "outputs": [],
   "source": [
    "C = cyclic_head_coil((8, 256, 256, 256))"
   ]
  },
  {
   "cell_type": "code",
   "execution_count": null,
   "id": "eb25f55d-04b8-4f63-9fe3-853ccc4bfaa4",
   "metadata": {},
   "outputs": [],
   "source": [
    "coil_images = C * x_image[None, ..., 0, 0]"
   ]
  },
  {
   "cell_type": "code",
   "execution_count": null,
   "id": "404ccdd6-9b08-47a8-aea2-9ce582255a71",
   "metadata": {
    "tags": []
   },
   "outputs": [],
   "source": [
    "InteractiveFigure4D(\n",
    "    torch.abs(coil_images).numpy(),\n",
    "    vmin=0,\n",
    "    vmax=1,\n",
    "    title=\"Contrast images\",\n",
    "    axes=(1, 2, 3, 0),\n",
    "    cmap=\"gray\",\n",
    "    description=(\"Slice\", \"Channel\"),\n",
    ").interactive"
   ]
  },
  {
   "cell_type": "code",
   "execution_count": null,
   "id": "f9be0348-df42-4ae5-ab11-e421357ca88f",
   "metadata": {},
   "outputs": [],
   "source": [
    "d = nonuniform_fourier_transform_forward(\n",
    "    k,\n",
    "    coil_images,\n",
    ")"
   ]
  },
  {
   "cell_type": "code",
   "execution_count": null,
   "id": "914d0f99-561d-4b33-94c3-9a3bd85860d4",
   "metadata": {},
   "outputs": [],
   "source": [
    "store = zarr.storage.LocalStore(\"/home/jovyan/datasets/num_phantom_sph_traj\")"
   ]
  },
  {
   "cell_type": "code",
   "execution_count": null,
   "id": "7b33dd55-3c76-4405-925b-e01325ada18c",
   "metadata": {},
   "outputs": [],
   "source": [
    "group = zarr.create_group(\n",
    "    store,\n",
    "    overwrite=True,\n",
    ")"
   ]
  },
  {
   "cell_type": "code",
   "execution_count": null,
   "id": "f7bbd050-b461-42ea-9739-ad6fceb0bdac",
   "metadata": {},
   "outputs": [],
   "source": [
    "group.create_array(\n",
    "    \"C\",\n",
    "    shape=C.shape,\n",
    "    dtype=np.complex64,\n",
    "    overwrite=True,\n",
    ")\n",
    "group.create_array(\n",
    "    \"k\", \n",
    "    shape=k.shape,\n",
    "    dtype=np.float32,\n",
    "    overwrite=True,\n",
    ")\n",
    "group.create_array(\n",
    "    \"d\", \n",
    "    shape=d.shape,\n",
    "    dtype=np.complex64,\n",
    "    overwrite=True,\n",
    ")"
   ]
  },
  {
   "cell_type": "code",
   "execution_count": null,
   "id": "98d8bd2a-0512-4ed7-98da-cf834948161a",
   "metadata": {},
   "outputs": [],
   "source": [
    "group[\"C\"] = C.numpy()"
   ]
  },
  {
   "cell_type": "code",
   "execution_count": null,
   "id": "7292ecea-e599-4169-b8dd-5ec15c16af12",
   "metadata": {},
   "outputs": [],
   "source": [
    "group[\"k\"] = k.numpy()"
   ]
  },
  {
   "cell_type": "code",
   "execution_count": null,
   "id": "f35c2846-af78-4d61-8a93-0057bf913775",
   "metadata": {},
   "outputs": [],
   "source": [
    "group[\"d\"] = d.numpy()"
   ]
  },
  {
   "cell_type": "code",
   "execution_count": null,
   "id": "cd478811-fdc5-4884-9a45-648385313e25",
   "metadata": {},
   "outputs": [],
   "source": []
  }
 ],
 "metadata": {
  "kernelspec": {
   "display_name": "Python 3 (ipykernel)",
   "language": "python",
   "name": "python3"
  },
  "language_info": {
   "codemirror_mode": {
    "name": "ipython",
    "version": 3
   },
   "file_extension": ".py",
   "mimetype": "text/x-python",
   "name": "python",
   "nbconvert_exporter": "python",
   "pygments_lexer": "ipython3",
   "version": "3.13.7"
  }
 },
 "nbformat": 4,
 "nbformat_minor": 5
}
