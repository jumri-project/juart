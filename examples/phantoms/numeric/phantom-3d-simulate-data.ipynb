{
 "cells": [
  {
   "cell_type": "markdown",
   "id": "026a59dd-4cb3-4eaa-b326-9845cd8038c3",
   "metadata": {},
   "source": [
    "# Creating numeric Coil sensitivities and k space trajectories\n",
    "### Importing necessary classes and functions"
   ]
  },
  {
   "cell_type": "code",
   "execution_count": null,
   "id": "22a7b330-66f7-4e6c-a89f-ae436075166b",
   "metadata": {
    "tags": []
   },
   "outputs": [],
   "source": [
    "%load_ext autoreload\n",
    "%autoreload 2\n",
    "%matplotlib widget\n",
    "\n",
    "import sys\n",
    "\n",
    "import numpy as np\n",
    "import torch\n",
    "import matplotlib.pyplot as plt\n",
    "from torch.nn.functional import interpolate\n",
    "\n",
    "sys.path.insert(0, \"../../../src\")\n",
    "\n",
    "from juart.conopt.functional.fourier import nonuniform_fourier_transform_forward\n",
    "from juart.parim.analytic import cyclic_head_coil\n",
    "from juart.phantoms.mni import BrainPhantom5D\n",
    "from juart.sampling.spherical import spherical_trajectory_3d\n",
    "from juart.vis.interactive import InteractiveFigure3D, InteractiveFigure4D\n",
    "import zarr"
   ]
  },
  {
   "cell_type": "markdown",
   "id": "181f036b-2fcd-4e7c-90fb-c9e29659e9f9",
   "metadata": {},
   "source": [
    "### Creating numerical image of the Brain\n",
    "A 5D phantom will be created nX, nY, nZ, nTI, nTE. "
   ]
  },
  {
   "cell_type": "code",
   "execution_count": null,
   "id": "1ec9b3b6-e4ad-42a3-836d-1cfbf2e2c3c8",
   "metadata": {
    "tags": []
   },
   "outputs": [],
   "source": [
    "phantom = BrainPhantom5D(\n",
    "    B0=3,\n",
    "    B0_shimming=True,\n",
    ")"
   ]
  },
  {
   "cell_type": "code",
   "execution_count": null,
   "id": "1d148ac7-fd43-48f0-adf6-2c23625c52be",
   "metadata": {
    "tags": []
   },
   "outputs": [],
   "source": [
    "dTE, TE0, nTE = 5, 5, 1\n",
    "dTI, TI0, nTI = 100, 20, 1\n",
    "\n",
    "TE = TE0 + dTE * np.arange(nTE)\n",
    "TI = TI0 + dTI * np.arange(nTI)\n",
    "\n",
    "TR = 1e6\n",
    "IE = 1"
   ]
  },
  {
   "cell_type": "markdown",
   "id": "c099a0d9-1b07-4c17-8d17-81d37474dbb4",
   "metadata": {},
   "source": [
    "### Creating x_image from the phantom\n",
    "The signal function will create one or multiple echo images from the phantom. The T parameters from the cell above will determine how many images and at which time of the decay process."
   ]
  },
  {
   "cell_type": "code",
   "execution_count": null,
   "id": "18de3efa-8d22-447a-afb2-686b4ec37cad",
   "metadata": {
    "tags": []
   },
   "outputs": [],
   "source": [
    "x_image = phantom.signal(TI, TE, TR, IE)\n",
    "x_image = x_image / np.abs(x_image).max()\n",
    "x_image = torch.from_numpy(x_image).to(torch.complex64)"
   ]
  },
  {
   "cell_type": "markdown",
   "id": "befb43ad-89ed-4c25-8a83-5ea921f4be3b",
   "metadata": {},
   "source": [
    "### Reduce resolution\n",
    "Unfortunately its for memory reasons necessary to decrease the resolution. The interpolate function can do this but just for real values and not for complex. That is why the interpolation is split in real and imaginary part and then its sticked back together to get the complex x image back again."
   ]
  },
  {
   "cell_type": "code",
   "execution_count": null,
   "id": "0db25d67-d684-41ea-aa97-e74ca46cf2cf",
   "metadata": {},
   "outputs": [],
   "source": [
    "x_image = torch.complex(\n",
    "    interpolate(x_image[None, None, ..., 0, 0].real, (128, 128, 128)),\n",
    "    interpolate(x_image[None, None, ..., 0, 0].imag, (128, 128, 128)),\n",
    ")[0, 0, ..., None, None]"
   ]
  },
  {
   "cell_type": "markdown",
   "id": "02d34e28-2015-47e7-ac44-ad004f64d944",
   "metadata": {},
   "source": [
    "### Plot of the x image"
   ]
  },
  {
   "cell_type": "code",
   "execution_count": null,
   "id": "e71507a7-0f96-40e5-aaf3-b353993f6b9a",
   "metadata": {},
   "outputs": [],
   "source": [
    "InteractiveFigure3D(\n",
    "    torch.abs(x_image[..., 0, 0]).cpu().numpy(),\n",
    "    vmin=0,\n",
    "    vmax=1,\n",
    "    title=\"Reconstructed images\",\n",
    "    cmap=\"gray\",\n",
    ").interactive"
   ]
  },
  {
   "cell_type": "markdown",
   "id": "b1930d2f-f7a5-4580-92af-19b57327a23e",
   "metadata": {},
   "source": [
    "### Create a spherical trajectory\n",
    "The spherical trajectory of the kspace is created and its possible to set the resolution of the kspace. The second argument will decide how many samples there are. If undersampling is desired, it is possible to do this with the second argument."
   ]
  },
  {
   "cell_type": "code",
   "execution_count": null,
   "id": "c2dcd48a-b7fb-45a6-94af-3f439e969586",
   "metadata": {},
   "outputs": [],
   "source": [
    "k_unraveled = spherical_trajectory_3d(128, 128*32)"
   ]
  },
  {
   "cell_type": "markdown",
   "id": "d7e9e9d1-64f8-49c7-aad5-3c71133f5d3d",
   "metadata": {},
   "source": [
    "#### Draw plot of the just created kspace trajectories"
   ]
  },
  {
   "cell_type": "code",
   "execution_count": null,
   "id": "93818f44-2cb0-4f95-9afb-8dd8bf8e4904",
   "metadata": {},
   "outputs": [],
   "source": [
    "fig = plt.figure()\n",
    "ax = fig.add_subplot(projection=\"3d\")\n",
    "\n",
    "ax.scatter(\n",
    "    k_unraveled[0, -1, :],\n",
    "    k_unraveled[1, -1, :],\n",
    "    k_unraveled[2, -1, :],\n",
    ")\n",
    "\n",
    "ax.set_xlabel(\"X Label\")\n",
    "ax.set_ylabel(\"Y Label\")\n",
    "ax.set_zlabel(\"Z Label\")\n",
    "\n",
    "plt.show()"
   ]
  },
  {
   "cell_type": "code",
   "execution_count": null,
   "id": "280c6300-a6a0-400a-aadc-6e004bd60541",
   "metadata": {},
   "outputs": [],
   "source": [
    "k = k_unraveled.reshape((3, -1))"
   ]
  },
  {
   "cell_type": "markdown",
   "id": "f503eb12-7229-4e5b-acdc-033d6cedd47e",
   "metadata": {},
   "source": [
    "### Create coil sensitivities for a head coil with 8 channels"
   ]
  },
  {
   "cell_type": "code",
   "execution_count": null,
   "id": "a0b9b098-61ef-425e-ab79-03194ff48f83",
   "metadata": {},
   "outputs": [],
   "source": [
    "C = cyclic_head_coil((8, 128, 128, 128))"
   ]
  },
  {
   "cell_type": "markdown",
   "id": "76a27254-45ea-4901-93a7-4f71dc020703",
   "metadata": {},
   "source": [
    "#### Create the parts of the image that every single coil acquires"
   ]
  },
  {
   "cell_type": "code",
   "execution_count": null,
   "id": "eb25f55d-04b8-4f63-9fe3-853ccc4bfaa4",
   "metadata": {},
   "outputs": [],
   "source": [
    "coil_images = C * x_image[None, ..., 0, 0]"
   ]
  },
  {
   "cell_type": "markdown",
   "id": "0996b26c-7d1c-421c-8ce2-9555c9315509",
   "metadata": {},
   "source": [
    "### Illustration of the image parts of the single coils"
   ]
  },
  {
   "cell_type": "code",
   "execution_count": null,
   "id": "404ccdd6-9b08-47a8-aea2-9ce582255a71",
   "metadata": {
    "tags": []
   },
   "outputs": [],
   "source": [
    "InteractiveFigure4D(\n",
    "    torch.abs(coil_images).numpy(),\n",
    "    vmin=0,\n",
    "    vmax=1,\n",
    "    title=\"Contrast images\",\n",
    "    axes=(1, 2, 3, 0),\n",
    "    cmap=\"gray\",\n",
    "    description=(\"Slice\", \"Channel\"),\n",
    ").interactive"
   ]
  },
  {
   "cell_type": "markdown",
   "id": "008a0856-9273-4327-892b-740afe141cd6",
   "metadata": {},
   "source": [
    "### Computing k space data out of the images\n",
    "The computed kspace data contains the signal of every single coil at every specific location (nC, nX * nY * nZ)."
   ]
  },
  {
   "cell_type": "code",
   "execution_count": null,
   "id": "f9be0348-df42-4ae5-ab11-e421357ca88f",
   "metadata": {},
   "outputs": [],
   "source": [
    "d = nonuniform_fourier_transform_forward(\n",
    "    k,\n",
    "    coil_images,\n",
    "    isign=-1,\n",
    ")"
   ]
  },
  {
   "cell_type": "code",
   "execution_count": null,
   "id": "cb4d0c0c-2be6-4010-836e-a8486fca33ef",
   "metadata": {},
   "outputs": [],
   "source": [
    "C.shape, k.shape ,d.shape"
   ]
  },
  {
   "cell_type": "markdown",
   "id": "d4d0810d-999a-4d2d-82a6-518cb459ea86",
   "metadata": {},
   "source": [
    "### Saving\n",
    "Saving the variables that were just created. \n",
    "- C (nC, nX, nY ,nZ)\n",
    "- k (ndim, nX * nY * nZ)\n",
    "- d (nC, nX * nY * nZ)"
   ]
  },
  {
   "cell_type": "code",
   "execution_count": null,
   "id": "914d0f99-561d-4b33-94c3-9a3bd85860d4",
   "metadata": {},
   "outputs": [],
   "source": [
    "store = zarr.storage.LocalStore(\"/home/jovyan/datasets/num_phantom_sph_traj\")"
   ]
  },
  {
   "cell_type": "code",
   "execution_count": null,
   "id": "7b33dd55-3c76-4405-925b-e01325ada18c",
   "metadata": {},
   "outputs": [],
   "source": [
    "group = zarr.create_group(\n",
    "    store,\n",
    "    overwrite=True,\n",
    ")"
   ]
  },
  {
   "cell_type": "code",
   "execution_count": null,
   "id": "f7bbd050-b461-42ea-9739-ad6fceb0bdac",
   "metadata": {},
   "outputs": [],
   "source": [
    "group.create_array(\n",
    "    \"C\",\n",
    "    shape=C.shape,\n",
    "    dtype=np.complex64,\n",
    "    overwrite=True,\n",
    ")\n",
    "group.create_array(\n",
    "    \"k\", \n",
    "    shape=k.shape,\n",
    "    dtype=np.float32,\n",
    "    overwrite=True,\n",
    ")\n",
    "group.create_array(\n",
    "    \"d\", \n",
    "    shape=d.shape,\n",
    "    dtype=np.complex64,\n",
    "    overwrite=True,\n",
    ")"
   ]
  },
  {
   "cell_type": "code",
   "execution_count": null,
   "id": "98d8bd2a-0512-4ed7-98da-cf834948161a",
   "metadata": {},
   "outputs": [],
   "source": [
    "group[\"C\"] = C.numpy()"
   ]
  },
  {
   "cell_type": "code",
   "execution_count": null,
   "id": "7292ecea-e599-4169-b8dd-5ec15c16af12",
   "metadata": {},
   "outputs": [],
   "source": [
    "group[\"k\"] = k.numpy()"
   ]
  },
  {
   "cell_type": "code",
   "execution_count": null,
   "id": "f35c2846-af78-4d61-8a93-0057bf913775",
   "metadata": {},
   "outputs": [],
   "source": [
    "group[\"d\"] = d.numpy()"
   ]
  },
  {
   "cell_type": "code",
   "execution_count": null,
   "id": "cd478811-fdc5-4884-9a45-648385313e25",
   "metadata": {},
   "outputs": [],
   "source": []
  }
 ],
 "metadata": {
  "kernelspec": {
   "display_name": "Python 3 (ipykernel)",
   "language": "python",
   "name": "python3"
  },
  "language_info": {
   "codemirror_mode": {
    "name": "ipython",
    "version": 3
   },
   "file_extension": ".py",
   "mimetype": "text/x-python",
   "name": "python",
   "nbconvert_exporter": "python",
   "pygments_lexer": "ipython3",
   "version": "3.13.7"
  }
 },
 "nbformat": 4,
 "nbformat_minor": 5
}
