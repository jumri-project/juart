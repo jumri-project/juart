{
 "cells": [
  {
   "cell_type": "markdown",
   "id": "aab6b8f3-e983-448f-af6d-a218be5c8fd2",
   "metadata": {},
   "source": [
    "This notebook shows the reconstruction of a 3D GRE with two almost identical echotimes sampled with 3D Lissajous variable density shell trajectories.\n"
   ]
  },
  {
   "cell_type": "code",
   "execution_count": null,
   "id": "3bddadca-7d64-4f9e-8cee-cd184f7467e4",
   "metadata": {},
   "outputs": [],
   "source": [
    "%load_ext autoreload\n",
    "%autoreload 2\n",
    "%matplotlib widget\n",
    "\n",
    "import sys\n",
    "\n",
    "sys.path.insert(0, \"../src\")\n",
    "\n",
    "import ipywidgets as widgets\n",
    "import matplotlib.pyplot as plt\n",
    "import numpy as np\n",
    "import torch\n",
    "import zarr\n",
    "\n",
    "from juart.conopt.functional.fourier import nonuniform_fourier_transform_adjoint\n",
    "from juart.conopt.tfs.fourier import nonuniform_transfer_function\n",
    "from juart.recon.sense import SENSE\n",
    "from juart.vis.interactive import InteractiveFigure3D"
   ]
  },
  {
   "cell_type": "markdown",
   "id": "0669749c-c770-4067-b87f-b59bf7f4ff09",
   "metadata": {},
   "source": [
    "# Load preprocessed dataset"
   ]
  },
  {
   "cell_type": "code",
   "execution_count": null,
   "id": "e0faca22-cecd-4a38-8203-6d6988c057f3",
   "metadata": {},
   "outputs": [],
   "source": [
    "store = zarr.storage.LocalStore(\n",
    "    \"/home/jovyan/datasets/num_phantom_sph_traj\",\n",
    ")\n",
    "group = zarr.open_group(store, mode=\"r\")\n",
    "k = group[\"k\"][:]\n",
    "C = group[\"C\"][:]\n",
    "d = group[\"d\"][:]"
   ]
  },
  {
   "cell_type": "markdown",
   "id": "2667a5e3-5929-42b4-90f1-4284546b62e8",
   "metadata": {},
   "source": [
    "# Convert data to JUART format"
   ]
  },
  {
   "cell_type": "code",
   "execution_count": null,
   "id": "2959cb00-895a-4d92-8e6b-5da1065ff12b",
   "metadata": {},
   "outputs": [],
   "source": [
    "# Scale trajectory to [-0.5, 0.5]\n",
    "print(f\"Min/Max of trajectory: {k.min()} / {k.max()}\")\n",
    "k = k / (2 * k.max())\n",
    "print(f\"Min/Max of trajectory: {k.min()} / {k.max()}\")\n",
    "\n",
    "k = torch.from_numpy(k)\n",
    "C = torch.from_numpy(C)\n",
    "d = torch.from_numpy(d)"
   ]
  },
  {
   "cell_type": "markdown",
   "id": "99d7173a-ff1f-4938-bf18-e41bd6a04023",
   "metadata": {},
   "source": [
    "# Perform 3D CG-SENSE reconstruction"
   ]
  },
  {
   "cell_type": "code",
   "execution_count": null,
   "id": "a9dba386-dd41-42bf-a9f3-6123df9546d5",
   "metadata": {},
   "outputs": [],
   "source": [
    "AHd = nonuniform_fourier_transform_adjoint(k, d, (128, 128, 128))\n",
    "AHd = torch.sum(torch.conj(C) * AHd, dim=0, keepdim=True)"
   ]
  },
  {
   "cell_type": "code",
   "execution_count": null,
   "id": "b5b60941-985e-4f16-9493-c8eb9ef4c4c8",
   "metadata": {},
   "outputs": [],
   "source": [
    "H = nonuniform_transfer_function(k, (1, 128, 128, 128), oversampling=(2, 2, 2))"
   ]
  },
  {
   "cell_type": "raw",
   "id": "d0de88d1-bb2b-49cf-b9c1-2488af7f67ab",
   "metadata": {},
   "source": [
    "C = C[..., None]\n",
    "H = H[..., None, None]\n",
    "AHd = AHd[..., None, None]"
   ]
  },
  {
   "cell_type": "code",
   "execution_count": null,
   "id": "4b25fb28-5621-4fcd-a98d-b2f564556b37",
   "metadata": {},
   "outputs": [],
   "source": [
    "C.shape, AHd.shape, H.shape"
   ]
  },
  {
   "cell_type": "code",
   "execution_count": null,
   "id": "a8faf17f-61e0-4b20-9814-a0d256b0cc2d",
   "metadata": {},
   "outputs": [],
   "source": [
    "C.dtype, AHd.dtype, H.dtype"
   ]
  },
  {
   "cell_type": "code",
   "execution_count": null,
   "id": "eb68414e-e931-4184-9011-7a66b47e14d2",
   "metadata": {},
   "outputs": [],
   "source": [
    "device='cuda:2'"
   ]
  },
  {
   "cell_type": "code",
   "execution_count": null,
   "id": "7ed43d6c-9dc7-48df-8c87-143022d7f5be",
   "metadata": {},
   "outputs": [],
   "source": [
    "cg_solver = SENSE(\n",
    "    C[..., None].to(device),\n",
    "    AHd[..., None, None].to(device),\n",
    "    H[..., None, None].to(device),\n",
    "    axes=(1, 2, 3),\n",
    "    maxiter=200,\n",
    "    verbose=True,\n",
    "    device=device\n",
    ")"
   ]
  },
  {
   "cell_type": "code",
   "execution_count": null,
   "id": "b8d6ffb0-0fcc-4b37-838d-bf8a1cc690ca",
   "metadata": {},
   "outputs": [],
   "source": [
    "shape = (128, 128, 128)"
   ]
  },
  {
   "cell_type": "code",
   "execution_count": null,
   "id": "3d25cb57-7beb-4d48-a54f-f70989337a37",
   "metadata": {},
   "outputs": [],
   "source": [
    "cg_image = cg_solver.solve().view(torch.complex64).reshape(shape)"
   ]
  },
  {
   "cell_type": "code",
   "execution_count": null,
   "id": "32c6e3e7-f2d1-4ced-8f71-59b703d69f34",
   "metadata": {},
   "outputs": [],
   "source": [
    "InteractiveFigure3D(\n",
    "    torch.abs(cg_image).cpu().numpy(),\n",
    "    vmin=0,\n",
    "    vmax=20,\n",
    "    title=\"Reconstructed images\",\n",
    "    cmap=\"gray\",\n",
    ").interactive"
   ]
  },
  {
   "cell_type": "code",
   "execution_count": null,
   "id": "46317d5d-2a92-4517-b2c0-61b2d7a5f503",
   "metadata": {},
   "outputs": [],
   "source": [
    "cg_image.shape"
   ]
  },
  {
   "cell_type": "code",
   "execution_count": null,
   "id": "30a6ac2a-17c2-42b1-b291-0cddcb2a18f2",
   "metadata": {},
   "outputs": [],
   "source": []
  }
 ],
 "metadata": {
  "kernelspec": {
   "display_name": "Python 3 (ipykernel)",
   "language": "python",
   "name": "python3"
  },
  "language_info": {
   "codemirror_mode": {
    "name": "ipython",
    "version": 3
   },
   "file_extension": ".py",
   "mimetype": "text/x-python",
   "name": "python",
   "nbconvert_exporter": "python",
   "pygments_lexer": "ipython3",
   "version": "3.13.7"
  }
 },
 "nbformat": 4,
 "nbformat_minor": 5
}
