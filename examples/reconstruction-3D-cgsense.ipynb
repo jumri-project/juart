{
 "cells": [
  {
   "cell_type": "markdown",
   "id": "aab6b8f3-e983-448f-af6d-a218be5c8fd2",
   "metadata": {},
   "source": [
    "This notebook shows the reconstruction of a 3D GRE with two almost identical echotimes sampled with 3D Lissajous variable density shell trajectories.\n"
   ]
  },
  {
   "cell_type": "code",
   "execution_count": 1,
   "id": "3bddadca-7d64-4f9e-8cee-cd184f7467e4",
   "metadata": {},
   "outputs": [],
   "source": [
    "import h5py\n",
    "import torch\n",
    "import numpy"
   ]
  },
  {
   "cell_type": "markdown",
   "id": "0669749c-c770-4067-b87f-b59bf7f4ff09",
   "metadata": {},
   "source": [
    "# Load preprocessed dataset"
   ]
  },
  {
   "cell_type": "code",
   "execution_count": 9,
   "id": "969c7c2c-dfd0-403c-aa29-4d4154da7bbc",
   "metadata": {},
   "outputs": [
    {
     "name": "stdout",
     "output_type": "stream",
     "text": [
      "Dataset holds following data: <KeysViewHDF5 ['coilsens', 'd', 'k']>\n",
      "Coilsensitivity info: Shape (Channels, Nx, Ny, Nz).\n",
      "Trajectory info: Shape (Dimensions, Samples, Echotimes). Scaled in units of cycle/fov\n",
      "Signal info: Shape (Channels, Samples, Echotimes).\n",
      "Coilsensitivity shape (8, 156, 156, 156)\n",
      "Trajectory shape (3, 2001191, 2)\n",
      "Signal shape (8, 2001191, 2)\n"
     ]
    }
   ],
   "source": [
    "data_path = \"data/3DLiss_vd_preproc.h5\"\n",
    "with h5py.File(data_path, \"r\") as f:\n",
    "    print(f\"Dataset holds following data: {f.keys()}\")\n",
    "\n",
    "    print(f\"Coilsensitivity info: {f['coilsens'].attrs['info']}\")\n",
    "    print(f\"Trajectory info: {f['k'].attrs['info']}\")\n",
    "    print(f\"Signal info: {f['d'].attrs['info']}\")\n",
    "\n",
    "    ktraj = f['k'][:]\n",
    "    coilsens = f['coilsens'][:]\n",
    "    d = f['d'][:]\n",
    "\n",
    "    print(f\"Coilsensitivity shape {coilsens.shape}\")\n",
    "    print(f\"Trajectory shape {ktraj.shape}\")\n",
    "    print(f\"Signal shape {d.shape}\")\n",
    "    "
   ]
  },
  {
   "cell_type": "markdown",
   "id": "2667a5e3-5929-42b4-90f1-4284546b62e8",
   "metadata": {},
   "source": [
    "# Convert data to JUART format"
   ]
  },
  {
   "cell_type": "code",
   "execution_count": 12,
   "id": "2959cb00-895a-4d92-8e6b-5da1065ff12b",
   "metadata": {},
   "outputs": [
    {
     "name": "stdout",
     "output_type": "stream",
     "text": [
      "Min/Max of trajectory: -0.5000181198120117 / 0.5\n",
      "Min/Max of trajectory: -0.5000181198120117 / 0.5\n"
     ]
    }
   ],
   "source": [
    "# Scale trajectory to [-0.5, 0.5]\n",
    "print(f\"Min/Max of trajectory: {ktraj.min()} / {ktraj.max()}\")\n",
    "ktraj = ktraj / (2*ktraj.max())\n",
    "print(f\"Min/Max of trajectory: {ktraj.min()} / {ktraj.max()}\")\n",
    "\n",
    "ktraj = torch.from_numpy(ktraj)\n",
    "coilsens = torch.from_numpy(coilsens)\n",
    "d = torch.from_numpy(d)\n"
   ]
  },
  {
   "cell_type": "markdown",
   "id": "99d7173a-ff1f-4938-bf18-e41bd6a04023",
   "metadata": {},
   "source": [
    "# Perform 3D CG-SENSE reconstruction"
   ]
  },
  {
   "cell_type": "markdown",
   "id": "d1a172c1-0326-44e9-ba3a-d569bf667456",
   "metadata": {},
   "source": []
  }
 ],
 "metadata": {
  "kernelspec": {
   "display_name": "Python 3 (ipykernel)",
   "language": "python",
   "name": "python3"
  },
  "language_info": {
   "codemirror_mode": {
    "name": "ipython",
    "version": 3
   },
   "file_extension": ".py",
   "mimetype": "text/x-python",
   "name": "python",
   "nbconvert_exporter": "python",
   "pygments_lexer": "ipython3",
   "version": "3.11.9"
  }
 },
 "nbformat": 4,
 "nbformat_minor": 5
}
