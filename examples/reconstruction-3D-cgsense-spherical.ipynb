{
 "cells": [
  {
   "cell_type": "markdown",
   "id": "aab6b8f3-e983-448f-af6d-a218be5c8fd2",
   "metadata": {},
   "source": [
    "This notebook shows the reconstruction of a 3D GRE with two almost identical echotimes sampled with 3D Lissajous variable density shell trajectories.\n"
   ]
  },
  {
   "cell_type": "code",
   "execution_count": 10,
   "id": "3bddadca-7d64-4f9e-8cee-cd184f7467e4",
   "metadata": {},
   "outputs": [
    {
     "name": "stdout",
     "output_type": "stream",
     "text": [
      "The autoreload extension is already loaded. To reload it, use:\n",
      "  %reload_ext autoreload\n"
     ]
    }
   ],
   "source": [
    "%load_ext autoreload\n",
    "%autoreload 2\n",
    "%matplotlib widget\n",
    "\n",
    "import sys\n",
    "\n",
    "sys.path.insert(0, \"../src\")\n",
    "\n",
    "import h5py\n",
    "import ipywidgets as widgets\n",
    "import matplotlib.pyplot as plt\n",
    "import numpy as np\n",
    "import torch\n",
    "\n",
    "from juart.conopt.functional.fourier import nonuniform_fourier_transform_adjoint\n",
    "from juart.conopt.tfs.fourier import nonuniform_transfer_function\n",
    "from juart.recon.sense import SENSE"
   ]
  },
  {
   "cell_type": "markdown",
   "id": "0669749c-c770-4067-b87f-b59bf7f4ff09",
   "metadata": {},
   "source": [
    "# Load preprocessed dataset"
   ]
  },
  {
   "cell_type": "code",
   "execution_count": 11,
   "id": "969c7c2c-dfd0-403c-aa29-4d4154da7bbc",
   "metadata": {},
   "outputs": [
    {
     "name": "stdout",
     "output_type": "stream",
     "text": [
      "Dataset holds following data: <KeysViewHDF5 ['coilsens', 'd', 'k']>\n",
      "Coilsensitivity info: Shape (Channels, Nx, Ny, Nz).\n",
      "Trajectory info: Shape (Dimensions, Samples, Echotimes). Scaled in units of cycle/fov\n",
      "Signal info: Shape (Channels, Samples, Echotimes).\n",
      "Coilsensitivity shape (8, 156, 156, 156)\n",
      "Trajectory shape (3, 2001191, 2)\n",
      "Signal shape (8, 2001191, 2)\n"
     ]
    }
   ],
   "source": [
    "data_path = \"data/3DLiss_vd_preproc.h5\"\n",
    "with h5py.File(data_path, \"r\") as f:\n",
    "    print(f\"Dataset holds following data: {f.keys()}\")\n",
    "\n",
    "    print(f\"Coilsensitivity info: {f['coilsens'].attrs['info']}\")\n",
    "    print(f\"Trajectory info: {f['k'].attrs['info']}\")\n",
    "    print(f\"Signal info: {f['d'].attrs['info']}\")\n",
    "\n",
    "    shape = (156, 156, 156, 2)\n",
    "    ktraj = f[\"k\"][:]\n",
    "    coilsens = f[\"coilsens\"][:]\n",
    "    d = f[\"d\"][:]\n",
    "\n",
    "    print(f\"Coilsensitivity shape {coilsens.shape}\")\n",
    "    print(f\"Trajectory shape {ktraj.shape}\")\n",
    "    print(f\"Signal shape {d.shape}\")"
   ]
  },
  {
   "cell_type": "markdown",
   "id": "2667a5e3-5929-42b4-90f1-4284546b62e8",
   "metadata": {},
   "source": [
    "# Convert data to JUART format"
   ]
  },
  {
   "cell_type": "code",
   "execution_count": 12,
   "id": "2959cb00-895a-4d92-8e6b-5da1065ff12b",
   "metadata": {},
   "outputs": [
    {
     "name": "stdout",
     "output_type": "stream",
     "text": [
      "Min/Max of trajectory: -78.62955474853516 / 78.626708984375\n",
      "Min/Max of trajectory: -0.5000181198120117 / 0.5\n"
     ]
    }
   ],
   "source": [
    "# Scale trajectory to [-0.5, 0.5]\n",
    "print(f\"Min/Max of trajectory: {ktraj.min()} / {ktraj.max()}\")\n",
    "ktraj = ktraj / (2 * ktraj.max())\n",
    "print(f\"Min/Max of trajectory: {ktraj.min()} / {ktraj.max()}\")\n",
    "\n",
    "ktraj = torch.from_numpy(ktraj)\n",
    "coilsens = torch.from_numpy(coilsens)\n",
    "d = torch.from_numpy(d)"
   ]
  },
  {
   "cell_type": "markdown",
   "id": "99d7173a-ff1f-4938-bf18-e41bd6a04023",
   "metadata": {},
   "source": [
    "# Perform 3D CG-SENSE reconstruction"
   ]
  },
  {
   "cell_type": "markdown",
   "id": "d1a172c1-0326-44e9-ba3a-d569bf667456",
   "metadata": {},
   "source": []
  },
  {
   "cell_type": "code",
   "execution_count": 15,
   "id": "a9dba386-dd41-42bf-a9f3-6123df9546d5",
   "metadata": {},
   "outputs": [
    {
     "name": "stdout",
     "output_type": "stream",
     "text": [
      "torch.Size([156, 156, 156, 2])\n"
     ]
    }
   ],
   "source": [
    "AHd = nonuniform_fourier_transform_adjoint(ktraj, d, (156, 156, 156))\n",
    "AHd = torch.sum(torch.conj(coilsens[..., None]) * AHd, dim=0)\n",
    "\n",
    "print(AHd.shape)"
   ]
  },
  {
   "cell_type": "code",
   "execution_count": 5,
   "id": "b5b60941-985e-4f16-9493-c8eb9ef4c4c8",
   "metadata": {},
   "outputs": [],
   "source": [
    "H = nonuniform_transfer_function(ktraj, (1, 156, 156, 156, 2), oversampling=(2, 2, 2))"
   ]
  },
  {
   "cell_type": "code",
   "execution_count": 6,
   "id": "7ed43d6c-9dc7-48df-8c87-143022d7f5be",
   "metadata": {},
   "outputs": [],
   "source": [
    "cg_solver = SENSE(coilsens, AHd, H, axes=(1, 2, 3), maxiter=10, verbose=True)"
   ]
  },
  {
   "cell_type": "code",
   "execution_count": 7,
   "id": "3d25cb57-7beb-4d48-a54f-f70989337a37",
   "metadata": {},
   "outputs": [
    {
     "name": "stderr",
     "output_type": "stream",
     "text": [
      "[CG] Iter: 09 Res: 1.29E-01 : 100%|██████████| 10/10 [01:30<00:00,  9.04s/it]\n"
     ]
    }
   ],
   "source": [
    "cg_image = cg_solver.solve().view(torch.complex64).reshape(shape)"
   ]
  },
  {
   "cell_type": "code",
   "execution_count": 8,
   "id": "32c6e3e7-f2d1-4ced-8f71-59b703d69f34",
   "metadata": {},
   "outputs": [
    {
     "data": {
      "application/vnd.jupyter.widget-view+json": {
       "model_id": "4cb1289c5e2c43cd88ba1ae2b7460a2c",
       "version_major": 2,
       "version_minor": 0
      },
      "text/plain": [
       "interactive(children=(IntSlider(value=77, description='z', max=155), Output()), _dom_classes=('widget-interact…"
      ]
     },
     "metadata": {},
     "output_type": "display_data"
    },
    {
     "data": {
      "text/plain": [
       "<function __main__.plot_image(z)>"
      ]
     },
     "execution_count": 8,
     "metadata": {},
     "output_type": "execute_result"
    }
   ],
   "source": [
    "def plot_image(z):\n",
    "    vmax = cg_image[:, :, z].abs().max()\n",
    "    plt.imshow(np.abs(cg_image[:, :, z, 1]), cmap=\"gray\", vmax=vmax)\n",
    "    plt.show()\n",
    "\n",
    "\n",
    "Slider = widgets.IntSlider(\n",
    "    value=80,\n",
    "    min=0,\n",
    "    max=155,\n",
    "    step=1,\n",
    ")\n",
    "\n",
    "plt.figure(figsize=(10, 5))\n",
    "plt.title(\"CG-SENSE Recon\")\n",
    "\n",
    "widgets.interact(plot_image, z=(0, 155, 1))"
   ]
  },
  {
   "cell_type": "code",
   "execution_count": null,
   "id": "46317d5d-2a92-4517-b2c0-61b2d7a5f503",
   "metadata": {},
   "outputs": [],
   "source": []
  }
 ],
 "metadata": {
  "kernelspec": {
   "display_name": "Python 3 (ipykernel)",
   "language": "python",
   "name": "python3"
  },
  "language_info": {
   "codemirror_mode": {
    "name": "ipython",
    "version": 3
   },
   "file_extension": ".py",
   "mimetype": "text/x-python",
   "name": "python",
   "nbconvert_exporter": "python",
   "pygments_lexer": "ipython3",
   "version": "3.13.7"
  }
 },
 "nbformat": 4,
 "nbformat_minor": 5
}
