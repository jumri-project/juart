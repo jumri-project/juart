{
 "cells": [
  {
   "cell_type": "code",
   "execution_count": null,
   "id": "d689b73b",
   "metadata": {},
   "outputs": [],
   "source": [
    "%load_ext autoreload\n",
    "%autoreload 2\n",
    "%matplotlib widget\n",
    "\n",
    "import math\n",
    "\n",
    "import h5py\n",
    "import matplotlib.pyplot as plt\n",
    "import torch\n",
    "from tqdm.auto import tqdm\n",
    "\n",
    "from juart import (\n",
    "    NonCartesianGrappa,\n",
    "    cgnufft,\n",
    "    cgsense,\n",
    "    fourier_transform_adjoint,\n",
    "    resize,\n",
    ")"
   ]
  },
  {
   "cell_type": "markdown",
   "id": "5f32f70f",
   "metadata": {},
   "source": [
    "# Non-Cartesian GRAPPA Reconstruction\n",
    "This is an example for the non-cartesian GRAPPA algorithm using spiral k-space data from a water phantom measurement.\n",
    "\n",
    "The non-cartesian GRAPPA algorithm uses a sampling mask in an additional spatial dimension of the non-cartesian k-space trajectory\n",
    "to identifiy unsampled (k[-1]=0) and sampled (k[-1]=1) data. <br>\n",
    "The actual trajectory values are scaled in units of [cycles/fov].\n",
    "\n",
    "The k-space signal data should contain zeros at the unsampled locations.\n",
    "\n",
    "A small autocalibration region is used to perform the calibration of the non-cartesian GRAPPA kernel.\n",
    "\n",
    "For further information about the implementation refere to: <br> \n",
    "Luo, Tianrui, Douglas C. Noll, Jeffrey A. Fessler, and Jon-Fredrik Nielsen. ‘A GRAPPA Algorithm for Arbitrary 2D/3D Non-Cartesian Sampling Trajectories with Rapid Calibration’. Magnetic Resonance in Medicine 82, no. 3 (2019): 1101–12. https://doi.org/10.1002/mrm.27801.\n"
   ]
  },
  {
   "cell_type": "code",
   "execution_count": null,
   "id": "57886432",
   "metadata": {},
   "outputs": [],
   "source": [
    "# Define device\n",
    "device = torch.device(\"cuda\" if torch.cuda.is_available() else \"cpu\")\n",
    "\n",
    "print(f\"Using device: {device}\")"
   ]
  },
  {
   "cell_type": "markdown",
   "id": "5aa0c535",
   "metadata": {},
   "source": [
    "## Load example dataset"
   ]
  },
  {
   "cell_type": "code",
   "execution_count": null,
   "id": "05093f48",
   "metadata": {},
   "outputs": [],
   "source": [
    "with h5py.File(\"data/recon.h5\", \"r\") as f:\n",
    "    print(f\"Datset contains the following keys: {f.keys()}\")\n",
    "    print(f\"ACS region contains the following keys: {f['acs'].keys()}\")\n",
    "\n",
    "    # Load k-space data and trajectory\n",
    "    ksp_spiral = torch.tensor(f[\"image/data\"][:], dtype=torch.complex64, device=device)\n",
    "    ktraj_spiral = torch.tensor(f[\"image/ktraj\"][:], dtype=torch.float32, device=device)\n",
    "\n",
    "    # Load ACS data and coil sensitivities\n",
    "    ksp_acs = torch.tensor(f[\"acs/data_comp\"][:], dtype=torch.complex64, device=device)\n",
    "    coil_sens = torch.tensor(\n",
    "        f[\"acs/sens_maps\"][:], dtype=torch.complex64, device=device\n",
    "    )\n",
    "\n",
    "    # Load metadata\n",
    "    fov = torch.tensor(f.attrs[\"fov\"], dtype=torch.float32)\n",
    "    matrix = torch.tensor(f.attrs[\"matrix\"], dtype=torch.int32)\n",
    "\n",
    "    # Bring to Juart format\n",
    "    ksp_acs = ksp_acs.moveaxis(3, 0)  # Move coil dimension to the front\n",
    "    coil_sens = coil_sens.moveaxis(3, 0)  # Move coil dimension to the front\n",
    "\n",
    "    num_dim, num_col, num_slc, num_eco = ktraj_spiral.shape\n",
    "    num_cha, *_ = ksp_spiral.shape\n",
    "\n",
    "    print(\"Field of view [m]: \", fov)\n",
    "    print(\"Matrix size: \", matrix)\n",
    "    print(\"k-space signal shape: \", ksp_spiral.shape)\n",
    "    print(\"k-space trajectory shape: \", ktraj_spiral.shape)\n",
    "    print(\"ACS signal shape: \", ksp_acs.shape)\n",
    "    print(\"Coil sensitivity maps shape: \", coil_sens.shape)\n",
    "\n",
    "    # Scale trajectory in units of cycles per FOV\n",
    "    ktraj_spiral = ktraj_spiral * fov[:-1]\n",
    "    print(\n",
    "        \"Scaled k-space trajectory min/max:\"\n",
    "        f\"{ktraj_spiral.min().item()} / {ktraj_spiral.max().item()}\"\n",
    "    )"
   ]
  },
  {
   "cell_type": "markdown",
   "id": "6cc33b3e",
   "metadata": {},
   "source": [
    "## Visual inspection of the data"
   ]
  },
  {
   "cell_type": "markdown",
   "id": "71a4164b",
   "metadata": {},
   "source": [
    "Show k-space trajectory and the signal magnitude"
   ]
  },
  {
   "cell_type": "code",
   "execution_count": null,
   "id": "3349fd82",
   "metadata": {},
   "outputs": [],
   "source": [
    "fig, axes = plt.subplots(1, 2, figsize=(10, 5), sharex=True, sharey=True)\n",
    "\n",
    "n_center_slc = num_slc // 2\n",
    "\n",
    "for n_eco in range(num_eco):\n",
    "    axes[n_eco].set_title(f\"Echo {n_eco}, Slice {n_center_slc}\")\n",
    "    axes[n_eco].scatter(\n",
    "        ktraj_spiral[0, :, n_center_slc, n_eco],\n",
    "        ktraj_spiral[1, :, n_center_slc, n_eco],\n",
    "        s=10,\n",
    "        c=torch.abs(ksp_spiral[0, :, n_center_slc, n_eco]),\n",
    "        norm=\"log\",\n",
    "    )\n",
    "    axes[n_eco].set_xlabel(r\"$k_x$ / cycles/fov\")\n",
    "    axes[n_eco].set_ylabel(r\"$k_y$ / cycles/fov\")\n",
    "\n",
    "plt.show()"
   ]
  },
  {
   "cell_type": "markdown",
   "id": "725ee786",
   "metadata": {},
   "source": [
    "Show sensitivity maps calculated from the ACS data."
   ]
  },
  {
   "cell_type": "code",
   "execution_count": null,
   "id": "df03bc1c",
   "metadata": {},
   "outputs": [],
   "source": [
    "fig, ax = plt.subplots(figsize=(10, 5))\n",
    "\n",
    "ax.set_title(\"Coil Sensitivity Maps\")\n",
    "ax.imshow(\n",
    "    torch.abs(coil_sens[..., 0, n_center_slc].reshape(-1, coil_sens.shape[2]).T),\n",
    ")\n",
    "ax.set_axis_off()\n",
    "plt.show()"
   ]
  },
  {
   "cell_type": "markdown",
   "id": "8bb7bdbc",
   "metadata": {},
   "source": [
    "# Non-Cartesian GRAPPA reconstruction\n",
    "\n",
    "The data does yet not include the unsampled locations in k-space which have to be interpolated by the GRAPPA reconstruction.\n",
    "\n",
    "Therefore, we reconstruct the data directly on a cartesian grid."
   ]
  },
  {
   "cell_type": "code",
   "execution_count": null,
   "id": "16c8c1fe",
   "metadata": {},
   "outputs": [],
   "source": [
    "# Create a cartesian grid in k-space\n",
    "xs = torch.arange(-matrix[0] // 2, matrix[0] // 2, device=device, dtype=torch.float32)\n",
    "ys = torch.arange(-matrix[1] // 2, matrix[1] // 2, device=device, dtype=torch.float32)\n",
    "x, y = torch.meshgrid(xs, ys, indexing=\"xy\")\n",
    "grid = torch.stack([x, y], dim=0)\n",
    "\n",
    "# Ravel grid and repeat for slices and echoes\n",
    "grid_ravel = grid.reshape(2, -1, 1, 1).repeat(1, 1, num_slc, num_eco)\n",
    "grid_samples = torch.zeros(\n",
    "    (num_cha, *grid_ravel.shape[1:]), dtype=torch.complex64, device=device\n",
    ")\n",
    "\n",
    "# Add a sampling mask containing zeros for the cartesian sample points to calibrate\n",
    "grid_ravel = torch.cat(\n",
    "    [grid_ravel, torch.zeros(1, *grid_ravel.shape[1:], device=device)],\n",
    "    dim=0,\n",
    ")\n",
    "\n",
    "# Add a sampling mask containing ones for the measured spiral sample points.\n",
    "ktraj_comb_grid = torch.cat(\n",
    "    [ktraj_spiral, torch.ones(1, *ktraj_spiral.shape[1:], device=device)],\n",
    "    dim=0,\n",
    ")\n",
    "\n",
    "# Combine ktraj\n",
    "ktraj_comb_grid = torch.cat([ktraj_comb_grid, grid_ravel], dim=1)\n",
    "\n",
    "# Combine ksp\n",
    "ksp_comb_grid = torch.cat([ksp_spiral, grid_samples], dim=1)\n",
    "\n",
    "\n",
    "print(\"Combined k-space signal shape: \", ksp_comb_grid.shape)\n",
    "print(\"Combined k-space trajectory shape: \", ktraj_comb_grid.shape)"
   ]
  },
  {
   "cell_type": "markdown",
   "id": "9facabbd",
   "metadata": {},
   "source": [
    "## Prepare ACS k-space data\n",
    "\n",
    "ACS data must have quadrativ support in k-space"
   ]
  },
  {
   "cell_type": "code",
   "execution_count": null,
   "id": "03bf67c6",
   "metadata": {},
   "outputs": [],
   "source": [
    "# Cut ACS to support region\n",
    "acs_size = 30\n",
    "ksp_acs = resize(ksp_acs, size=(acs_size, acs_size), dims=(1, 2))"
   ]
  },
  {
   "cell_type": "markdown",
   "id": "a1a4b32d",
   "metadata": {},
   "source": [
    "# Perform GRAPPA reconstruction to a cartesian grid"
   ]
  },
  {
   "cell_type": "code",
   "execution_count": null,
   "id": "fbe62789",
   "metadata": {},
   "outputs": [],
   "source": [
    "img_ncgrappa_grid = torch.zeros(\n",
    "    (num_cha, *tuple(matrix[:-1].tolist()), num_slc, num_eco),\n",
    "    dtype=torch.complex64,\n",
    "    device=device,\n",
    ")\n",
    "\n",
    "prog_bar = tqdm(total=num_slc * num_eco, desc=\"Reconstructing slices and echoes\")\n",
    "for n_slc in range(num_slc):\n",
    "    for n_eco in range(num_eco):\n",
    "        # Calculate weights for ncgrappa\n",
    "        ncgrappa = NonCartesianGrappa(\n",
    "            ktraj=ktraj_comb_grid[:, :, n_slc, n_eco],\n",
    "            calib_signal=ksp_acs[..., 0, n_slc],\n",
    "            kernel_size=(7, 7),\n",
    "            tik=5e-9,\n",
    "            verbose=0,\n",
    "        )\n",
    "\n",
    "        # Apply weights to reconstruct missing k-space points\n",
    "        ksp_filled = ncgrappa.apply(ksp=ksp_comb_grid[:, :, n_slc, n_eco])\n",
    "\n",
    "        # Take only cartesian data from filled ksp\n",
    "        sample_mask = ktraj_comb_grid[-1, :, n_slc, n_eco] == 1\n",
    "        ksp_filled_cart = ksp_filled[:, ~sample_mask]\n",
    "\n",
    "        ksp_filled_cart = ksp_filled_cart.reshape(num_cha, *tuple(matrix[:-1].tolist()))\n",
    "\n",
    "        img_tmp = fourier_transform_adjoint(ksp_filled_cart, axes=(1, 2))\n",
    "\n",
    "        img_ncgrappa_grid[:, :, :, n_slc, n_eco] = img_tmp\n",
    "\n",
    "        prog_bar.update(1)\n",
    "\n",
    "prog_bar.close()"
   ]
  },
  {
   "cell_type": "markdown",
   "id": "12c22205",
   "metadata": {},
   "source": [
    "Calculate normalized root-sum-of-squares (RSS) image"
   ]
  },
  {
   "cell_type": "code",
   "execution_count": null,
   "id": "ef71d07b",
   "metadata": {},
   "outputs": [],
   "source": [
    "img_rss_ncgrappa_grid = torch.sqrt(\n",
    "    torch.sum(torch.abs(img_ncgrappa_grid) ** 2, dim=0, keepdim=True)\n",
    ")\n",
    "img_rss_ncgrappa_grid = img_rss_ncgrappa_grid / img_rss_ncgrappa_grid.max()"
   ]
  },
  {
   "cell_type": "markdown",
   "id": "a3f8757a",
   "metadata": {},
   "source": [
    "Show reconstructed images for the non-cartesian GRAPPA reconstruction on a cartesian grid."
   ]
  },
  {
   "cell_type": "code",
   "execution_count": null,
   "id": "750fa16b",
   "metadata": {},
   "outputs": [],
   "source": [
    "show_slc = 15\n",
    "\n",
    "fig, axes = plt.subplots(1, 2, figsize=(8, 4), sharex=True, sharey=True)\n",
    "\n",
    "for n_eco in range(num_eco):\n",
    "    axes[n_eco].set_title(f\"Non-cart. GRAPPA on Grid \\n Echo {n_eco}, Slice {show_slc}\")\n",
    "    axes[n_eco].imshow(\n",
    "        torch.abs(img_rss_ncgrappa_grid[0, :, :, show_slc, n_eco]),\n",
    "        cmap=\"gray\",\n",
    "    )\n",
    "    axes[n_eco].set_axis_off()\n",
    "plt.tight_layout()\n",
    "plt.show()"
   ]
  },
  {
   "cell_type": "markdown",
   "id": "af73f62e",
   "metadata": {},
   "source": [
    "# Perform GRAPPA reconstruction to spiral trajectory"
   ]
  },
  {
   "cell_type": "markdown",
   "id": "dea7a018",
   "metadata": {},
   "source": [
    "We can also reconstruct the locations of the missing spiral interleaves.\n",
    "The locations in k-space are rotated copies of the single interleave we have measured."
   ]
  },
  {
   "cell_type": "code",
   "execution_count": null,
   "id": "7b4b6e5b",
   "metadata": {},
   "outputs": [],
   "source": [
    "# Create missing trajectory points by rotating the original trajectory\n",
    "num_lve = 1\n",
    "pi_acc = 2\n",
    "total_lve = num_lve * pi_acc\n",
    "\n",
    "dphi = 2 * torch.pi / total_lve\n",
    "\n",
    "rot_mat = torch.tensor(\n",
    "    [\n",
    "        [math.cos(dphi), -math.sin(dphi)],\n",
    "        [math.sin(dphi), math.cos(dphi)],\n",
    "    ],\n",
    "    device=device,\n",
    ")\n",
    "\n",
    "ktraj_spiral_missing = ktraj_spiral @ rot_mat.T\n",
    "\n",
    "# Add sampling masks\n",
    "mask_spiral_missing = torch.zeros(1, *ktraj_spiral_missing.shape[1:], device=device)\n",
    "ktraj_spiral_missing = torch.cat([ktraj_spiral_missing, mask_spiral_missing], dim=0)\n",
    "\n",
    "mask_sprial_measured = torch.ones(1, *ktraj_spiral.shape[1:], device=device)\n",
    "ktraj_spiral_comb = torch.cat([ktraj_spiral, mask_sprial_measured], dim=0)\n",
    "\n",
    "# Add unsampled and sampled trajectory\n",
    "ktraj_spiral_comb = torch.cat([ktraj_spiral_comb, ktraj_spiral_missing], dim=1)\n",
    "\n",
    "# Add k-space data and zeros for missing points\n",
    "ksp_spiral_missing = torch.zeros(ksp_spiral.shape, dtype=torch.complex64, device=device)\n",
    "ksp_spiral_comb = torch.cat([ksp_spiral, ksp_spiral_missing], dim=1)\n",
    "\n",
    "print(\"Shape of combined trajectory: \", list(ktraj_spiral_comb.shape))\n",
    "print(\"Shape of combined k-space data: \", list(ksp_spiral_comb.shape))"
   ]
  },
  {
   "cell_type": "code",
   "execution_count": null,
   "id": "a28ac173",
   "metadata": {},
   "outputs": [],
   "source": [
    "fig, axes = plt.subplots(1, 2, figsize=(10, 5), sharex=True, sharey=True)\n",
    "\n",
    "fig.suptitle(\"Spiral Trajectory and Signal Magnitude (Measured + Missing)\")\n",
    "\n",
    "n_center_slc = num_slc // 2\n",
    "\n",
    "for n_eco in range(num_eco):\n",
    "    axes[n_eco].set_title(f\"Echo {n_eco}, Slice {n_center_slc}\")\n",
    "    axes[n_eco].scatter(\n",
    "        ktraj_spiral_comb[0, :, n_center_slc, n_eco],\n",
    "        ktraj_spiral_comb[1, :, n_center_slc, n_eco],\n",
    "        s=10,\n",
    "        c=torch.abs(ksp_spiral_comb[0, :, n_center_slc, n_eco]) + 1e-6,\n",
    "        norm=\"log\",\n",
    "    )\n",
    "\n",
    "    axes[n_eco].set_xlabel(r\"$k_x$ / cycles/fov\")\n",
    "    axes[n_eco].set_ylabel(r\"$k_y$ / cycles/fov\")\n",
    "\n",
    "plt.show()"
   ]
  },
  {
   "cell_type": "code",
   "execution_count": null,
   "id": "bbd56e1b",
   "metadata": {},
   "outputs": [],
   "source": [
    "# Perform GRAPPA reconstruction to a spiral interleaves\n",
    "img_ncgrappa_leaves = torch.zeros(\n",
    "    (num_cha, *tuple(matrix[:-1].tolist()), num_slc, num_eco),\n",
    "    dtype=torch.complex64,\n",
    "    device=device,\n",
    ")\n",
    "\n",
    "prog_bar = tqdm(total=num_slc * num_eco, desc=\"Reconstructing slices and echoes\")\n",
    "\n",
    "for n_slc in range(num_slc):\n",
    "    for n_eco in range(num_eco):\n",
    "        # Calculate weights for ncgrappa\n",
    "        ncgrappa = NonCartesianGrappa(\n",
    "            ktraj=ktraj_spiral_comb[:, :, n_slc, n_eco],\n",
    "            calib_signal=ksp_acs[..., 0, n_slc],\n",
    "            kernel_size=(7, 7),\n",
    "            tik=5e-9,\n",
    "            verbose=0,\n",
    "        )\n",
    "\n",
    "        # Apply weights to reconstruct missing k-space points\n",
    "        ksp_filled = ncgrappa.apply(ksp=ksp_spiral_comb[:, :, n_slc, n_eco])\n",
    "\n",
    "        # Different scaling\n",
    "        ktraj_tmp = ktraj_spiral_comb[:-1, :, n_slc, n_eco] / (matrix[0])\n",
    "        img_tmp = cgnufft(\n",
    "            ksp=ksp_filled,\n",
    "            ktraj=ktraj_tmp,\n",
    "            img_size=matrix[:-1].tolist(),\n",
    "            maxiter=15,\n",
    "            l2_reg=1e-9,\n",
    "            device=device,\n",
    "        )\n",
    "\n",
    "        img_ncgrappa_leaves[:, :, :, n_slc, n_eco] = img_tmp.squeeze()\n",
    "\n",
    "        prog_bar.update(1)\n",
    "\n",
    "prog_bar.close()\n",
    "\n",
    "# Caluculate root-sum-of-squares image\n",
    "img_rss_ncgrappa_leaves = torch.sqrt(\n",
    "    torch.sum(torch.abs(img_ncgrappa_leaves) ** 2, dim=0, keepdim=True)\n",
    ")"
   ]
  },
  {
   "cell_type": "markdown",
   "id": "bf58bc3b",
   "metadata": {},
   "source": [
    "## Show non-cartesian GRAPPA reconstruction on spiral interleave"
   ]
  },
  {
   "cell_type": "code",
   "execution_count": null,
   "id": "e8d9a180",
   "metadata": {},
   "outputs": [],
   "source": [
    "show_slc = 10\n",
    "\n",
    "fig, axes = plt.subplots(1, 2, figsize=(8, 4), sharex=True, sharey=True)\n",
    "\n",
    "for n_eco in range(num_eco):\n",
    "    axes[n_eco].set_title(f\"Non-cart. GRAPPA on Grid \\n Echo {n_eco}, Slice {show_slc}\")\n",
    "    axes[n_eco].imshow(\n",
    "        torch.abs(img_rss_ncgrappa_leaves[0, :, :, show_slc, n_eco]),\n",
    "        cmap=\"gray\",\n",
    "    )\n",
    "    axes[n_eco].set_axis_off()\n",
    "plt.tight_layout()\n",
    "plt.show()"
   ]
  },
  {
   "cell_type": "markdown",
   "id": "95301cb2",
   "metadata": {},
   "source": [
    "# SENSE Reconstruction"
   ]
  },
  {
   "cell_type": "code",
   "execution_count": null,
   "id": "0c04123b",
   "metadata": {},
   "outputs": [],
   "source": [
    "img = cgsense(\n",
    "    ksp=ksp_spiral,\n",
    "    ktraj=ktraj_spiral / matrix[0],\n",
    "    coilsens=coil_sens,\n",
    "    maxiter=15,\n",
    "    l2_reg=3e-6,\n",
    "    verbose=True,\n",
    ")"
   ]
  },
  {
   "cell_type": "code",
   "execution_count": null,
   "id": "300342d6",
   "metadata": {},
   "outputs": [],
   "source": [
    "show_slc = 10\n",
    "\n",
    "fig, axes = plt.subplots(1, 2, figsize=(8, 4), sharex=True, sharey=True)\n",
    "\n",
    "for n_eco in range(num_eco):\n",
    "    axes[n_eco].set_title(f\"CG-SENSE \\n Echo {n_eco}, Slice {show_slc}\")\n",
    "    axes[n_eco].imshow(\n",
    "        torch.abs(img[0, :, :, 0, show_slc, n_eco]),\n",
    "        cmap=\"gray\",\n",
    "    )\n",
    "    axes[n_eco].set_axis_off()\n",
    "plt.tight_layout()\n",
    "plt.show()"
   ]
  },
  {
   "cell_type": "code",
   "execution_count": null,
   "id": "289c6e45",
   "metadata": {},
   "outputs": [],
   "source": []
  }
 ],
 "metadata": {
  "kernelspec": {
   "display_name": "base",
   "language": "python",
   "name": "python3"
  },
  "language_info": {
   "codemirror_mode": {
    "name": "ipython",
    "version": 3
   },
   "file_extension": ".py",
   "mimetype": "text/x-python",
   "name": "python",
   "nbconvert_exporter": "python",
   "pygments_lexer": "ipython3",
   "version": "3.12.9"
  }
 },
 "nbformat": 4,
 "nbformat_minor": 5
}
