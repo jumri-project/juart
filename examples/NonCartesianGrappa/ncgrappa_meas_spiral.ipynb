{
 "cells": [
  {
   "cell_type": "code",
   "execution_count": null,
   "id": "d689b73b",
   "metadata": {},
   "outputs": [],
   "source": [
    "%load_ext autoreload\n",
    "%autoreload 2\n",
    "%matplotlib inline\n",
    "\n",
    "import h5py\n",
    "import matplotlib.pyplot as plt\n",
    "import torch\n",
    "\n",
    "from juart.conopt.functional.fourier import fourier_transform_adjoint\n",
    "from juart.recon.ncgrappa import NonCartGrappa"
   ]
  },
  {
   "cell_type": "code",
   "execution_count": null,
   "id": "05093f48",
   "metadata": {},
   "outputs": [],
   "source": [
    "spiral_dset = h5py.File(\"recon.h5\", \"r\")\n",
    "print(spiral_dset.keys())\n",
    "print(spiral_dset[\"acs\"].keys())\n",
    "\n",
    "fov = spiral_dset.attrs[\"fov\"]\n",
    "matrix = spiral_dset.attrs[\"matrix\"]"
   ]
  },
  {
   "cell_type": "code",
   "execution_count": null,
   "id": "8eb741b9",
   "metadata": {},
   "outputs": [],
   "source": [
    "ksp_spiral = torch.from_numpy(spiral_dset[\"image/data\"][:])\n",
    "ktraj_spiral = torch.from_numpy(spiral_dset[\"image/ktraj\"][:])\n",
    "\n",
    "# Bring to Juart format\n",
    "ktraj_spiral[0] = ktraj_spiral[0] * fov[0] / matrix[0]\n",
    "ktraj_spiral[1] = ktraj_spiral[1] * fov[1] / matrix[1]\n",
    "\n",
    "print(\"Shape of ksp_spiral:\", ksp_spiral.shape)\n",
    "print(\"Shape of ktraj_spiral:\", ktraj_spiral.shape)\n",
    "\n",
    "num_dim, num_col, num_slc, num_eco = ktraj_spiral.shape\n",
    "num_cha, *_ = ksp_spiral.shape"
   ]
  },
  {
   "cell_type": "code",
   "execution_count": null,
   "id": "5e75a2e6",
   "metadata": {},
   "outputs": [],
   "source": [
    "fig, axes = plt.subplots(\n",
    "    1,\n",
    "    2,\n",
    "    figsize=(6, 3),\n",
    ")\n",
    "axes[0].set_title(\"Echo 0\")\n",
    "axes[0].scatter(\n",
    "    ktraj_spiral[0, :, num_slc // 2, 0],\n",
    "    ktraj_spiral[1, :, num_slc // 2, 0],\n",
    "    s=0.1,\n",
    "    c=torch.abs(ksp_spiral[0, :, num_slc // 2, 0]),\n",
    "    norm=\"log\",\n",
    ")\n",
    "\n",
    "axes[1].set_title(\"Echo 1\")\n",
    "axes[1].scatter(\n",
    "    ktraj_spiral[0, :, num_slc // 2, 1],\n",
    "    ktraj_spiral[1, :, num_slc // 2, 1],\n",
    "    s=0.1,\n",
    "    c=torch.abs(ksp_spiral[0, :, num_slc // 2, 1]),\n",
    "    norm=\"log\",\n",
    ")\n",
    "\n",
    "for ax in axes:\n",
    "    ax.axis(\"equal\")"
   ]
  },
  {
   "cell_type": "code",
   "execution_count": null,
   "id": "57435b10",
   "metadata": {},
   "outputs": [],
   "source": [
    "ksp_acs = torch.from_numpy(spiral_dset[\"acs/data_comp\"][:])\n",
    "coil_sens = torch.from_numpy(spiral_dset[\"acs/sens_maps\"][:])\n",
    "\n",
    "# Bring to Juart format\n",
    "ksp_acs = ksp_acs.moveaxis(3, 0)  # Move coil dimension to the front\n",
    "coil_sens = coil_sens.moveaxis(3, 0)  # Move coil dimension to the front\n",
    "\n",
    "print(\"Shape of ksp_acs:\", ksp_acs.shape)\n",
    "print(\"Shape of coil_sens:\", coil_sens.shape)"
   ]
  },
  {
   "cell_type": "code",
   "execution_count": null,
   "id": "df03bc1c",
   "metadata": {},
   "outputs": [],
   "source": [
    "fig = plt.figure(figsize=(6, 5))\n",
    "ax = fig.add_subplot()\n",
    "\n",
    "ax.set_title(\"Coil Sensitivity Maps\")\n",
    "ax.imshow(\n",
    "    torch.abs(coil_sens[..., 0, num_slc // 2].reshape(-1, coil_sens.shape[2]).T),\n",
    ")"
   ]
  },
  {
   "cell_type": "markdown",
   "id": "8bb7bdbc",
   "metadata": {},
   "source": [
    "# Non-Cartesian GRAPPA reconstruction"
   ]
  },
  {
   "cell_type": "code",
   "execution_count": null,
   "id": "16c8c1fe",
   "metadata": {},
   "outputs": [],
   "source": [
    "# Reconstruct to a cartesian grid\n",
    "\n",
    "xs = torch.linspace(-0.5, 0.5, steps=matrix[0])\n",
    "ys = torch.linspace(-0.5, 0.5, steps=matrix[1])\n",
    "x, y = torch.meshgrid(xs, ys, indexing=\"xy\")\n",
    "\n",
    "grid = torch.stack([x, y], dim=0)\n",
    "\n",
    "grid_ravel = grid.reshape(2, -1, 1, 1).repeat(1, 1, num_slc, num_eco)\n",
    "\n",
    "grid_samples = torch.zeros(\n",
    "    (num_cha, *grid_ravel.shape[1:]), dtype=torch.complex64, device=ksp_spiral.device\n",
    ")\n",
    "\n",
    "# Combine ksp and ktraj of spiral and cartesian data\n",
    "\n",
    "# Append sampling mask\n",
    "grid_ravel = torch.cat(\n",
    "    [grid_ravel, torch.zeros(1, *grid_ravel.shape[1:], device=grid_ravel.device)],\n",
    "    dim=0,\n",
    ")\n",
    "\n",
    "ktraj_comb = torch.cat(\n",
    "    [ktraj_spiral, torch.ones(1, *ktraj_spiral.shape[1:], device=ktraj_spiral.device)],\n",
    "    dim=0,\n",
    ")\n",
    "\n",
    "# Combine ktraj\n",
    "ktraj_comb = torch.cat([ktraj_comb, grid_ravel], dim=1)\n",
    "\n",
    "# Combine ksp\n",
    "ksp_comb = torch.cat([ksp_spiral, grid_samples], dim=1)"
   ]
  },
  {
   "cell_type": "code",
   "execution_count": null,
   "id": "03bf67c6",
   "metadata": {},
   "outputs": [],
   "source": [
    "# Cut off zero filled ksp of acs region\n",
    "from juart.utils import resize\n",
    "\n",
    "ksp_acs = resize(ksp_acs, size=(30, 30), dims=(1, 2))"
   ]
  },
  {
   "cell_type": "code",
   "execution_count": null,
   "id": "fbe62789",
   "metadata": {},
   "outputs": [],
   "source": [
    "# Calculate weights for ncgrappa\n",
    "ncgrappa = NonCartGrappa(\n",
    "    ktraj=ktraj_comb[:, :, num_slc // 2, 0],\n",
    "    calib_signal=ksp_acs[..., 0, num_slc // 2],\n",
    "    img_size=matrix[0:2],\n",
    "    kernel_size=(7, 7),\n",
    "    tik=1e-7,\n",
    "    shift_tol=1e-6,\n",
    "    verbose=5,\n",
    ")"
   ]
  },
  {
   "cell_type": "code",
   "execution_count": null,
   "id": "e4ee43b6",
   "metadata": {},
   "outputs": [],
   "source": [
    "# Apply ncgrappa weights\n",
    "\n",
    "ksp_filled = ncgrappa.apply(ksp=ksp_comb[:, :, num_slc // 2, 0])"
   ]
  },
  {
   "cell_type": "code",
   "execution_count": null,
   "id": "fe175f73",
   "metadata": {},
   "outputs": [],
   "source": [
    "# Take only cartesian data from filled ksp\n",
    "\n",
    "sample_mask = ktraj_comb[-1, :, num_slc // 2, 0] == 1\n",
    "ksp_filled_cart = ksp_filled[:, ~sample_mask]\n",
    "\n",
    "ksp_filled_cart = ksp_filled_cart.reshape(num_cha, matrix[0], matrix[1])"
   ]
  },
  {
   "cell_type": "code",
   "execution_count": null,
   "id": "750fa16b",
   "metadata": {},
   "outputs": [],
   "source": [
    "img_ncgrappa = fourier_transform_adjoint(x=ksp_filled_cart, axes=(1, 2))\n",
    "\n",
    "img_ncgrappa_rss = torch.sqrt(torch.sum(torch.abs(img_ncgrappa) ** 2, dim=0))\n",
    "\n",
    "fig, ax = plt.subplots(figsize=(6, 6))\n",
    "ax.set_title(\"NCGRAPPA Reconstruction\")\n",
    "ax.imshow(\n",
    "    img_ncgrappa_rss.cpu().numpy(),\n",
    "    cmap=\"gray\",\n",
    "    vmin=0,\n",
    "    vmax=img_ncgrappa_rss.max().item(),\n",
    ")\n",
    "ax.axis(\"off\")\n",
    "\n",
    "plt.show()"
   ]
  },
  {
   "cell_type": "markdown",
   "id": "c90f9a13",
   "metadata": {},
   "source": [
    "# NUFFT Reconstruction"
   ]
  },
  {
   "cell_type": "code",
   "execution_count": null,
   "id": "ce0d2c10",
   "metadata": {},
   "outputs": [],
   "source": [
    "from juart.recon.cgnufft import cgnufft\n",
    "\n",
    "img = cgnufft(\n",
    "    ksp=ksp_spiral[:, :, num_slc // 2, 0],\n",
    "    ktraj=ktraj_spiral[:, :, num_slc // 2, 0],\n",
    "    img_size=(matrix[0], matrix[1]),\n",
    "    maxiter=10,\n",
    ")\n",
    "\n",
    "img_rss = torch.sqrt(torch.sum(torch.abs(img) ** 2, dim=0))\n",
    "\n",
    "fig = plt.figure(figsize=(6, 5))\n",
    "ax = fig.add_subplot()\n",
    "\n",
    "ax.set_title(\"Reconstructed Image (RSS)\")\n",
    "ax.imshow(\n",
    "    img_rss.numpy(),\n",
    "    cmap=\"gray\",\n",
    ")\n",
    "\n",
    "plt.show()"
   ]
  },
  {
   "cell_type": "markdown",
   "id": "95301cb2",
   "metadata": {},
   "source": [
    "# SENSE Reconstruction"
   ]
  },
  {
   "cell_type": "code",
   "execution_count": null,
   "id": "0c04123b",
   "metadata": {},
   "outputs": [],
   "source": [
    "from juart.recon.sense import cgsense\n",
    "\n",
    "coil_sens_flip = coil_sens.clone()\n",
    "# coil_sens_flip = coil_sens_flip.flip(1)\n",
    "# coil_sens_flip = coil_sens_flip.flip(2)\n",
    "# coil_sens_flip = coil_sens_flip.moveaxis(1, 2)\n",
    "\n",
    "img = cgsense(\n",
    "    ksp_data=ksp_spiral[:, :, num_slc // 2, 0].contiguous(),\n",
    "    ktraj=ktraj_spiral[:, :, num_slc // 2, 0].contiguous(),\n",
    "    coil_sensitivities=coil_sens_flip[..., num_slc // 2].contiguous(),\n",
    "    maxiter=15,\n",
    ")\n",
    "\n",
    "fig, ax = plt.subplots(figsize=(6, 6))\n",
    "ax.set_title(\"SENSE Recon\")\n",
    "ax.imshow(\n",
    "    torch.abs(img[0, ..., 0]),\n",
    "    cmap=\"gray\",\n",
    ")"
   ]
  }
 ],
 "metadata": {
  "kernelspec": {
   "display_name": "base",
   "language": "python",
   "name": "python3"
  },
  "language_info": {
   "codemirror_mode": {
    "name": "ipython",
    "version": 3
   },
   "file_extension": ".py",
   "mimetype": "text/x-python",
   "name": "python",
   "nbconvert_exporter": "python",
   "pygments_lexer": "ipython3",
   "version": "3.12.9"
  }
 },
 "nbformat": 4,
 "nbformat_minor": 5
}
