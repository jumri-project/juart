{
 "cells": [
  {
   "cell_type": "code",
   "execution_count": null,
   "id": "5de8df09-c003-4e7a-9af5-5966f04ee639",
   "metadata": {},
   "outputs": [],
   "source": [
    "%load_ext autoreload\n",
    "%autoreload 2\n",
    "%matplotlib widget\n",
    "\n",
    "import sys\n",
    "\n",
    "sys.path.insert(0, \"../../src\")\n",
    "\n",
    "import numpy as np\n",
    "import torch\n",
    "import zarr as z\n",
    "\n",
    "from juart.conopt.functional.fourier import (\n",
    "    nonuniform_fourier_transform_adjoint,\n",
    ")\n",
    "from juart.dl.model.dc import DataConsistency\n",
    "from juart.dl.model.resnet import ResNet\n",
    "from juart.vis.interactive import InteractiveFigure3D, InteractiveMultiPlotter3D"
   ]
  },
  {
   "cell_type": "code",
   "execution_count": null,
   "id": "645ffef2-91e5-4bcd-af58-fd2942e048fc",
   "metadata": {},
   "outputs": [],
   "source": [
    "kspace_cutoff = True\n",
    "nX_cutoff, nY_cutoff, nZ_cutoff = 64, 64, 64\n",
    "nX, nY, nZ, nTI, nTE = 128, 128, 128, 1, 1\n",
    "shape = (nX, nY, nZ, nTI, nTE)\n",
    "\n",
    "device = \"cuda:3\""
   ]
  },
  {
   "cell_type": "code",
   "execution_count": null,
   "id": "774471d3-e91d-454b-9f6a-fd8c84ae39f2",
   "metadata": {},
   "outputs": [],
   "source": [
    "store = z.open(\"/home/jovyan/datasets/num_phantom_128_R1\")\n",
    "\n",
    "C = torch.from_numpy(np.array(store[\"C\"]))\n",
    "k = torch.from_numpy(np.array(store[\"k\"]))[..., None, None]\n",
    "d = torch.from_numpy(np.array(store[\"d\"]))[..., None, None]"
   ]
  },
  {
   "cell_type": "code",
   "execution_count": null,
   "id": "5b17a6e4-acc2-4519-bbb5-fe9eb9f659e3",
   "metadata": {},
   "outputs": [],
   "source": [
    "k_scaled = k / (2 * k.max())\n",
    "\n",
    "generator = torch.Generator()\n",
    "generator.manual_seed(0)\n",
    "kspace_mask = torch.randint(0, 2, (1, k_scaled.shape[1], 1, 1), generator=generator)"
   ]
  },
  {
   "cell_type": "code",
   "execution_count": null,
   "id": "0b4f6286-ae65-4773-9476-b35c050a295b",
   "metadata": {},
   "outputs": [],
   "source": [
    "AHd = nonuniform_fourier_transform_adjoint(k * kspace_mask, d, (nX, nY, nZ))\n",
    "AHd = torch.sum(torch.conj(C[..., None, None]) * AHd, dim=0)\n",
    "print(AHd.shape, C.shape, d.shape, (k * kspace_mask).shape)"
   ]
  },
  {
   "cell_type": "code",
   "execution_count": null,
   "id": "1d01e93e-07a6-4633-8de0-320df2c96806",
   "metadata": {},
   "outputs": [],
   "source": [
    "InteractiveFigure3D(AHd[..., 0, 0].abs().numpy(), cmap=\"gray\").interactive"
   ]
  },
  {
   "cell_type": "code",
   "execution_count": null,
   "id": "ae01f770-14b0-4988-9633-f099080067a0",
   "metadata": {},
   "outputs": [],
   "source": [
    "data = {\n",
    "    \"images_regridded\": AHd,\n",
    "    \"kspace_trajectory\": k,\n",
    "    \"sensitivity_maps\": C,\n",
    "    \"kspace_mask\": kspace_mask,\n",
    "}"
   ]
  },
  {
   "cell_type": "code",
   "execution_count": null,
   "id": "32ca9eed-2336-486a-963b-0fbb9357db96",
   "metadata": {},
   "outputs": [],
   "source": [
    "dc_block = DataConsistency(shape, axes=(1, 2, 3), device=device, verbose=True, niter=80)"
   ]
  },
  {
   "cell_type": "code",
   "execution_count": null,
   "id": "4fa0e760-c127-43bd-9c92-f19b85c9b7af",
   "metadata": {},
   "outputs": [],
   "source": [
    "dc_block.init(\n",
    "    data[\"images_regridded\"],\n",
    "    data[\"kspace_trajectory\"],\n",
    "    sensitivity_maps=data[\"sensitivity_maps\"],\n",
    "    kspace_mask=data[\"kspace_mask\"],\n",
    ")"
   ]
  },
  {
   "cell_type": "code",
   "execution_count": null,
   "id": "2d1f9a76-327b-4dc7-87b0-2671f5202839",
   "metadata": {},
   "outputs": [],
   "source": [
    "print(\n",
    "    data[\"images_regridded\"].shape,\n",
    "    data[\"kspace_trajectory\"].shape,\n",
    "    data[\"sensitivity_maps\"].shape,\n",
    ")"
   ]
  },
  {
   "cell_type": "code",
   "execution_count": null,
   "id": "aaedd23d-122d-4759-9588-5aaac6c4e7ee",
   "metadata": {},
   "outputs": [],
   "source": [
    "with torch.no_grad():\n",
    "    cg_sense = dc_block(data[\"images_regridded\"])"
   ]
  },
  {
   "cell_type": "code",
   "execution_count": null,
   "id": "e4dfb64b-bb03-4b11-b68d-94b0e9068e56",
   "metadata": {},
   "outputs": [],
   "source": [
    "resnet_image = torch.squeeze(cg_sense, dim=(3, 4))\n",
    "resnet_image_unsqueezed = resnet_image.unsqueeze(-1)\n",
    "cg_image = resnet_image.abs()"
   ]
  },
  {
   "cell_type": "code",
   "execution_count": null,
   "id": "d4d031a5-dd10-41dc-b404-25dec44e70b8",
   "metadata": {},
   "outputs": [],
   "source": [
    "InteractiveMultiPlotter3D(\n",
    "    [\n",
    "        torch.abs(cg_sense[..., 0, 0]).cpu().abs().numpy(),\n",
    "        cg_sense2[..., 0, 0].cpu().abs().numpy(),\n",
    "    ],\n",
    "    title=[\"DC1\", \"DC2\"],\n",
    "    vmin=0,\n",
    "    vmax=torch.abs(cg_sense[..., 0, 0]).abs().max(),\n",
    "    cmap=\"gray\",\n",
    ").interactive"
   ]
  },
  {
   "cell_type": "code",
   "execution_count": null,
   "id": "69066dc9-d325-400b-b8e1-3427c5df1fa6",
   "metadata": {},
   "outputs": [],
   "source": [
    "resnet = ResNet(\n",
    "    contrasts=1,\n",
    "    features=32,\n",
    "    dim=3,\n",
    "    num_of_resblocks=10,\n",
    "    device=device,\n",
    "    kernel_size=(3, 3, 3),\n",
    "    ResNetCheckpoints=True,\n",
    ")\n",
    "\n",
    "image = resnet(resnet_image[..., None, None])\n",
    "print(image.shape)"
   ]
  },
  {
   "cell_type": "code",
   "execution_count": null,
   "id": "86cae85a-991d-498f-8e54-2efff9fb9496",
   "metadata": {},
   "outputs": [],
   "source": [
    "InteractiveMultiPlotter3D(\n",
    "    image[..., 0, 0].cpu().abs().detach().numpy(), cmap=\"gray\", vmax=10\n",
    ").interactive"
   ]
  },
  {
   "cell_type": "code",
   "execution_count": null,
   "id": "b0152b0e-881f-4664-be53-88755b06b90f",
   "metadata": {},
   "outputs": [],
   "source": []
  }
 ],
 "metadata": {
  "kernelspec": {
   "display_name": "Python 3 (ipykernel)",
   "language": "python",
   "name": "python3"
  },
  "language_info": {
   "codemirror_mode": {
    "name": "ipython",
    "version": 3
   },
   "file_extension": ".py",
   "mimetype": "text/x-python",
   "name": "python",
   "nbconvert_exporter": "python",
   "pygments_lexer": "ipython3",
   "version": "3.13.7"
  }
 },
 "nbformat": 4,
 "nbformat_minor": 5
}
