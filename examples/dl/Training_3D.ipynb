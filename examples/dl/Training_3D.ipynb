{
 "cells": [
  {
   "cell_type": "markdown",
   "id": "c8543efe-dbcc-4077-ae4f-1040b6f8654d",
   "metadata": {},
   "source": [
    "# Training script for 3D reconstruction models"
   ]
  },
  {
   "cell_type": "markdown",
   "id": "7863bb8b-04e4-4d77-9d10-918e2c3b8148",
   "metadata": {},
   "source": [
    "## Import of needed classes and functions"
   ]
  },
  {
   "cell_type": "code",
   "execution_count": 1,
   "id": "0f803bad-2391-4716-8bef-76c70261ae46",
   "metadata": {},
   "outputs": [],
   "source": [
    "%load_ext autoreload\n",
    "%autoreload 2\n",
    "%matplotlib widget\n",
    "\n",
    "import sys\n",
    "\n",
    "sys.path.insert(0, \"../../src\")\n",
    "\n",
    "import gc\n",
    "import time\n",
    "\n",
    "import h5py\n",
    "import matplotlib.pyplot as plt\n",
    "import numpy as np\n",
    "import torch\n",
    "import torch.distributed as dist\n",
    "import zarr as z\n",
    "\n",
    "from juart.conopt.functional.fourier import (\n",
    "    fourier_transform_adjoint,\n",
    "    fourier_transform_forward,\n",
    "    nonuniform_fourier_transform_adjoint,\n",
    ")\n",
    "from juart.conopt.tfs.fourier import nonuniform_transfer_function\n",
    "from juart.dl.checkpoint.manager import CheckpointManager\n",
    "from juart.dl.loss.loss import JointLoss\n",
    "from juart.dl.model.unrollnet import (\n",
    "    LookaheadModel,\n",
    "    UnrolledNet,\n",
    ")\n",
    "from juart.dl.operation.modules import training, validation\n",
    "from juart.dl.utils.dist import GradientAccumulator\n",
    "from juart.vis.interactive import InteractiveFigure3D"
   ]
  },
  {
   "cell_type": "markdown",
   "id": "67e490d5-b2ee-43db-9f46-b34a89e987a5",
   "metadata": {},
   "source": [
    "## Definition of the most important variables"
   ]
  },
  {
   "cell_type": "code",
   "execution_count": 2,
   "id": "090603f7-cab4-40eb-b91b-1c2dd46c1739",
   "metadata": {},
   "outputs": [],
   "source": [
    "# dataset options\n",
    "nX, nY, nZ = 128, 128, 128  # Number of pixels in x-/y-/z-direction\n",
    "kspace_cutoff = False  # defines if nX,... should be reduced\n",
    "nX_cutoff, nY_cutoff, nZ_cutoff = 64, 64, 64  # defines nX,... for the cutoff state\n",
    "nTI, nTE = 1, 1  # Number of measurements during the T1/T2 decay\n",
    "shape = (nX, nY, nZ, nTI, nTE)  # Defining the shape later used for the model\n",
    "nD = 1  # Number of subjects\n",
    "nP = 20  # Number of slices per subject\n",
    "\n",
    "# device options\n",
    "device = \"cuda:2\"  # defines whether the model should be trained on the cpu or gpu\n",
    "group = None\n",
    "group_rank = 0\n",
    "group_index = 0\n",
    "num_groups = 1\n",
    "\n",
    "# Training loop options\n",
    "num_epochs = 20  # Number of epochs of the training\n",
    "model_training = True  # Activate Training mode\n",
    "model_validation = False  # Activate validation mode\n",
    "save_checkpoint = (\n",
    "    True  # Create save files that contain the current state of the training\n",
    ")\n",
    "checkpoint_frequency = 5  # Sets the number of iterations between creating save files\n",
    "single_epoch = False  # Create a seperate save file after every single epoch\n",
    "batch_size = 1  # Number of slices that should be used for training per batch\n",
    "\n",
    "# model options\n",
    "cgiter = 80\n",
    "num_unroll_blocks = 10\n",
    "activation = \"ReLU\"\n",
    "features = 32\n",
    "disable_progress_bar = False\n",
    "kernel_size = (3, 3, 3)\n",
    "axes = (1, 2, 3)\n",
    "ResNetCheckpoints = True\n",
    "\n",
    "# CheckpointManager Options\n",
    "load_model_state = True  # Load the last saved model state\n",
    "load_averaged_model_state = True  # Load the last saved averaged model state\n",
    "load_optim_state = True  # Load the las saved optimizer state\n",
    "load_metrics = True  # Load the last saved metrics (iterations and loss)\n",
    "directory = (\n",
    "    f\"nummodel_test_{nP}P_{cgiter}DC_{num_epochs}E\"  # Name that is used for the save directory of the model\n",
    ")\n",
    "root_dir = \"/home/jovyan/models\"  # path of the model directory\n",
    "backend = \"local\"  # backend of the model directory\n",
    "\n",
    "batch_size_local = batch_size // num_groups\n",
    "num_iterations = nD * nP * num_epochs  # complete number of iterations\n",
    "iteration = 0  # current iteration number\n",
    "\n",
    "dtype = torch.complex64"
   ]
  },
  {
   "cell_type": "code",
   "execution_count": 3,
   "id": "ccc7b515-c6c4-4e80-843b-087e2192a551",
   "metadata": {},
   "outputs": [],
   "source": [
    "if kspace_cutoff:\n",
    "    nX, nY, nZ = nX_cutoff, nY_cutoff, nZ_cutoff\n",
    "    shape = (nX, nY, nZ, nTI, nTE)"
   ]
  },
  {
   "cell_type": "markdown",
   "id": "1acb39ca-f71a-42fa-a816-97248b3ed566",
   "metadata": {},
   "source": [
    "## Initializing worker groups"
   ]
  },
  {
   "cell_type": "code",
   "execution_count": 4,
   "id": "e8a92c6a-3c4a-4c54-9fb3-4a0ca7e9ea72",
   "metadata": {},
   "outputs": [],
   "source": [
    "dist.init_process_group(\n",
    "    backend=\"gloo\", init_method=\"tcp://127.0.0.1:12345\", world_size=1, rank=0\n",
    ")"
   ]
  },
  {
   "cell_type": "markdown",
   "id": "cf2ef423-a3b1-45ca-8454-d23d36ac923a",
   "metadata": {},
   "source": [
    "## Initializing the neural network\n",
    "### Initializing the model\n",
    "The model is the core of the neural network. Its forward pass describes the main steps of the neural network and the models features property describes the number of hidden features of the neural network and therefore its complexity. Furthermore the activation function and the number of iterations in dataconsistency term and regularization term is defined here."
   ]
  },
  {
   "cell_type": "code",
   "execution_count": 5,
   "id": "89917955-b31b-4f77-8787-91f4322b1c7f",
   "metadata": {},
   "outputs": [],
   "source": [
    "model = UnrolledNet(\n",
    "    shape,\n",
    "    features=features,\n",
    "    CG_Iter=cgiter,\n",
    "    num_unroll_blocks=num_unroll_blocks,\n",
    "    num_res_blocks = 10,\n",
    "    activation=activation,\n",
    "    disable_progress_bar=disable_progress_bar,\n",
    "    timing_level=0,\n",
    "    validation_level=0,\n",
    "    kernel_size=kernel_size,\n",
    "    axes=axes,\n",
    "    ResNetCheckpoints = ResNetCheckpoints,\n",
    "    device=device,\n",
    "    dtype = dtype\n",
    ")"
   ]
  },
  {
   "cell_type": "markdown",
   "id": "51918402-199d-4397-a631-b944aeb1f6f1",
   "metadata": {},
   "source": [
    "### Initializing the loss function\n",
    "The loss function defines how the difference between model prediction and correct result is calculated and it divides the loss into separate kinds of losses:\n",
    "- kspace\n",
    "- ispace\n",
    "- wavelet\n",
    "- hankel\n",
    "- casorati"
   ]
  },
  {
   "cell_type": "code",
   "execution_count": 6,
   "id": "7b7c7e72-6ade-4bdb-b829-3fbd0f813f1a",
   "metadata": {},
   "outputs": [],
   "source": [
    "loss_fn = JointLoss(\n",
    "    shape,\n",
    "    3,\n",
    "    weights_kspace_loss=(0.5, 0.5),\n",
    "    weights_ispace_loss=(0.0, 0.0),\n",
    "    weights_wavelet_loss=(0.0, 0.0),\n",
    "    weights_hankel_loss=(0.0, 0.0),\n",
    "    weights_casorati_loss=(0.0, 0.0),\n",
    "    normalized_loss=True,\n",
    "    timing_level=0,\n",
    "    validation_level=0,\n",
    "    group=group,\n",
    "    device=device,\n",
    "    dtype = dtype\n",
    ")"
   ]
  },
  {
   "cell_type": "markdown",
   "id": "65220517-26bf-44c5-8098-caa2e6afe2c1",
   "metadata": {},
   "source": [
    "### Initializing the optimizer\n",
    "The optimizer determines which impact the calculated loss has on the models parameters. The impact can be variated via the learning rate lr."
   ]
  },
  {
   "cell_type": "code",
   "execution_count": 7,
   "id": "815fcdd7-49cb-45b2-b6ce-337532c98117",
   "metadata": {},
   "outputs": [],
   "source": [
    "optimizer = torch.optim.Adam(\n",
    "    model.parameters(),\n",
    "    lr=0.0001,\n",
    "    betas=[0.9, 0.999],\n",
    "    eps=1.0e-8,\n",
    "    weight_decay=0.0\n",
    ")"
   ]
  },
  {
   "cell_type": "code",
   "execution_count": 8,
   "id": "0af70828-ab59-4afa-b00c-9abd5b7a5b3d",
   "metadata": {},
   "outputs": [],
   "source": [
    "accumulator = GradientAccumulator(\n",
    "    model,\n",
    "    accumulation_steps=batch_size_local,\n",
    "    max_norm=1.0,\n",
    "    normalized_gradient=False\n",
    ")"
   ]
  },
  {
   "cell_type": "markdown",
   "id": "4eb6f03a-b145-444f-9ac9-69c7ea42343f",
   "metadata": {},
   "source": [
    "### Initializing the averaged model\n",
    "The averaged model does not use the models parameters directly it uses the floating average of the model over the last n iterations. Its more robust than using the current average."
   ]
  },
  {
   "cell_type": "code",
   "execution_count": 9,
   "id": "7e0ad0e2-b2fb-4f49-a728-1ebc352ca7ea",
   "metadata": {},
   "outputs": [],
   "source": [
    "averaged_model = LookaheadModel(\n",
    "    model,\n",
    "    alpha=0.5,\n",
    "    k=5\n",
    ")"
   ]
  },
  {
   "cell_type": "markdown",
   "id": "d7b38ece-47dc-4620-854a-4b63e5c7d699",
   "metadata": {},
   "source": [
    "## Checkpoint Manager\n",
    "### Initializing the CheckpointManager\n",
    "The CheckpointManager is useful for saving and/or loading models. In this case here it either creates a new directory for the model or it loads data from an already existing directory to continue the training at the point where it lastly stopped."
   ]
  },
  {
   "cell_type": "code",
   "execution_count": 10,
   "id": "9a7ee50c-4c82-4f70-b4ac-1679327b75fe",
   "metadata": {},
   "outputs": [],
   "source": [
    "checkpoint_manager = CheckpointManager(\n",
    "    directory=directory,\n",
    "    root_dir=root_dir,\n",
    "    backend=backend,\n",
    ")"
   ]
  },
  {
   "cell_type": "markdown",
   "id": "61c9ea11-0729-4999-84fa-d7d55e6dc14d",
   "metadata": {},
   "source": [
    "#### Check if the model is already existing and load its last saved state"
   ]
  },
  {
   "cell_type": "code",
   "execution_count": 11,
   "id": "20075413-eaf6-4b59-8d81-45989230fb49",
   "metadata": {},
   "outputs": [
    {
     "name": "stdout",
     "output_type": "stream",
     "text": [
      "Loading model state ...\n",
      "Could not load model state.\n"
     ]
    }
   ],
   "source": [
    "if load_model_state:\n",
    "    print(\"Loading model state ...\")\n",
    "    checkpoint = checkpoint_manager.load([\"model_state\"], map_location=device)\n",
    "    if all(checkpoint.values()):\n",
    "        model.load_state_dict(checkpoint[\"model_state\"])\n",
    "    else:\n",
    "        print(\"Could not load model state.\")"
   ]
  },
  {
   "cell_type": "markdown",
   "id": "c54eb6d6-b697-4635-b2ed-e26468cc349d",
   "metadata": {},
   "source": [
    "#### Check if the averaged model is already existing and load its last saved state"
   ]
  },
  {
   "cell_type": "code",
   "execution_count": 12,
   "id": "e3bfce16-23aa-4bd8-9996-f9e9a0961bd5",
   "metadata": {},
   "outputs": [
    {
     "name": "stdout",
     "output_type": "stream",
     "text": [
      "Loading averaged model state ...\n",
      "Could not load averaged model state.\n"
     ]
    }
   ],
   "source": [
    "if load_averaged_model_state:\n",
    "    print(f\"Loading averaged model state ...\")\n",
    "    checkpoint = checkpoint_manager.load([\"averaged_model_state\"], map_location=device)\n",
    "    if all(checkpoint.values()):\n",
    "        averaged_model.load_state_dict(checkpoint[\"averaged_model_state\"])\n",
    "    else:\n",
    "        print(\"Could not load averaged model state.\")"
   ]
  },
  {
   "cell_type": "markdown",
   "id": "ee214f54-60a2-4979-b4b6-b5aa8f708965",
   "metadata": {},
   "source": [
    "#### Check if the optimizer is already existing and load its last saved state"
   ]
  },
  {
   "cell_type": "code",
   "execution_count": 13,
   "id": "845b5fcb-d981-46a5-a630-c163cccc3ba5",
   "metadata": {},
   "outputs": [
    {
     "name": "stdout",
     "output_type": "stream",
     "text": [
      "Loading optim state ...\n",
      "Could not load optim state.\n"
     ]
    }
   ],
   "source": [
    "if load_optim_state:\n",
    "    print(\"Loading optim state ...\")\n",
    "    checkpoint = checkpoint_manager.load([\"optim_state\"], map_location=device)\n",
    "    if all(checkpoint.values()):\n",
    "        optimizer.load_state_dict(checkpoint[\"optim_state\"])\n",
    "    else:\n",
    "        print(\"Could not load optim state.\")"
   ]
  },
  {
   "cell_type": "code",
   "execution_count": 14,
   "id": "00f06beb-1fae-4f46-b18f-c315adcaa3a4",
   "metadata": {},
   "outputs": [],
   "source": [
    "total_trn_loss = list()\n",
    "total_val_loss = list()\n",
    "iteration = 0"
   ]
  },
  {
   "cell_type": "markdown",
   "id": "f19fbc05-8e30-4ba8-a508-a7e5304b204b",
   "metadata": {},
   "source": [
    "#### Load the last saved state of the loss and the current iteration if existing"
   ]
  },
  {
   "cell_type": "code",
   "execution_count": 15,
   "id": "3fb75752-08b0-4828-9927-56ccd2ff3c41",
   "metadata": {},
   "outputs": [
    {
     "name": "stdout",
     "output_type": "stream",
     "text": [
      "Loading metrics ...\n",
      "Could not load metrics.\n"
     ]
    }
   ],
   "source": [
    "if load_metrics:\n",
    "    print(\"Loading metrics ...\")\n",
    "    checkpoint = checkpoint_manager.load([\"trn_loss\", \"val_loss\", \"iteration\"])\n",
    "    if all(checkpoint.values()):\n",
    "        total_trn_loss = list(checkpoint[\"trn_loss\"])\n",
    "        total_val_loss = list(checkpoint[\"val_loss\"])\n",
    "        iteration = checkpoint[\"iteration\"]\n",
    "    else:\n",
    "        print(\"Could not load metrics.\")"
   ]
  },
  {
   "cell_type": "code",
   "execution_count": 16,
   "id": "f2e53759-ad14-4265-b6c6-e1f987af6756",
   "metadata": {},
   "outputs": [
    {
     "name": "stdout",
     "output_type": "stream",
     "text": [
      "Continue with iteration 0 ...\n"
     ]
    }
   ],
   "source": [
    "print(f\"Continue with iteration {iteration} ...\")"
   ]
  },
  {
   "cell_type": "markdown",
   "id": "10fdc4b1-6130-4c9f-89c2-91821530f280",
   "metadata": {},
   "source": [
    "## Import the data that should be used for the training"
   ]
  },
  {
   "cell_type": "code",
   "execution_count": 17,
   "id": "33bbb549-78f4-4429-a236-5036a38efafd",
   "metadata": {},
   "outputs": [],
   "source": [
    "# data_path = \"3DLiss_vd_preproc.h5\"\n",
    "# with h5py.File(data_path, \"r\") as f:\n",
    "#     print(f\"Dataset holds following data: {f.keys()}\")\n",
    "\n",
    "#     print(f\"Coilsensitivity info: {f['coilsens'].attrs['info']}\")\n",
    "#     print(f\"Trajectory info: {f['k'].attrs['info']}\")\n",
    "#     print(f\"Signal info: {f['d'].attrs['info']}\")\n",
    "\n",
    "#     shape = (156, 156, 156, 2)\n",
    "#     ktraj = torch.from_numpy(f[\"k\"][:])\n",
    "#     coilsens = torch.from_numpy(f[\"coilsens\"][:])\n",
    "#     d = torch.from_numpy(f[\"d\"][:])\n",
    "\n",
    "#     print(f\"Coilsensitivity shape {coilsens.shape}\")\n",
    "#     print(f\"Trajectory shape {ktraj.shape}\")\n",
    "#     print(f\"Signal shape {d.shape}\")"
   ]
  },
  {
   "cell_type": "code",
   "execution_count": 18,
   "id": "8204bc32-f2cf-4c2d-9f38-24cb037993ab",
   "metadata": {},
   "outputs": [],
   "source": [
    "store = z.open(\"/home/jovyan/datasets/num_phantom_128_R1\")\n",
    "\n",
    "C = torch.from_numpy(np.array(store[\"C\"]))\n",
    "k = torch.from_numpy(np.array(store[\"k\"]))[...,None,None]\n",
    "d = torch.from_numpy(np.array(store[\"d\"]))[...,None,None]\n",
    "\n",
    "coilsens = C"
   ]
  },
  {
   "cell_type": "code",
   "execution_count": 19,
   "id": "8b3f14f1-7d55-4bc0-8025-a5c3dd49977f",
   "metadata": {},
   "outputs": [],
   "source": [
    "if kspace_cutoff == True:\n",
    "\n",
    "    mask = torch.linalg.norm(ktraj, dim=0) <= nX_cutoff // 2\n",
    "\n",
    "    ktraj = torch.stack(\n",
    "        [ktraj[:, mask[:, echo], echo] for echo in range(ktraj.shape[2])], dim=-1\n",
    "    )\n",
    "\n",
    "    d = torch.stack([d[:, mask[:, echo], echo] for echo in range(d.shape[2])], dim=-1)\n",
    "\n",
    "    coilsens_ksp = fourier_transform_forward(coilsens, axes=(1, 2, 3))\n",
    "    low_lim, up_lim = int(156 / 2 - nX / 2), int(156 / 2 + nX / 2)\n",
    "    coilsens_ksp = coilsens_ksp[:, low_lim:up_lim, low_lim:up_lim, low_lim:up_lim]\n",
    "    coilsens = fourier_transform_adjoint(coilsens_ksp, axes=(1, 2, 3))"
   ]
  },
  {
   "cell_type": "markdown",
   "id": "ba035c9a-52f4-4fc0-93d8-1f923ca3a931",
   "metadata": {},
   "source": [
    "### shaping the data\n",
    "#### In the next steps the data is formed into the right shape so that the training function will understand how the data is structured."
   ]
  },
  {
   "cell_type": "code",
   "execution_count": 20,
   "id": "805653c7-3aa4-4c14-a974-3fa02fe20839",
   "metadata": {},
   "outputs": [],
   "source": [
    "k_scaled = k / (2 * k.max())\n",
    "\n",
    "generator = torch.Generator()"
   ]
  },
  {
   "cell_type": "code",
   "execution_count": 21,
   "id": "3f2203bf-9d55-45d8-a5ed-ddf81c71b72e",
   "metadata": {},
   "outputs": [
    {
     "name": "stdout",
     "output_type": "stream",
     "text": [
      "torch.Size([3, 2097152, 1, 1]) torch.Size([8, 128, 128, 128]) torch.Size([8, 2097152, 1, 1])\n"
     ]
    }
   ],
   "source": [
    "print(k_scaled.shape, coilsens.shape,d.shape)"
   ]
  },
  {
   "cell_type": "markdown",
   "id": "df940120-3ab7-41a2-a708-2e24f5150632",
   "metadata": {},
   "source": [
    "## Actual training loop"
   ]
  },
  {
   "cell_type": "code",
   "execution_count": 22,
   "id": "c8bdddfd-4362-4f4a-8d4d-74a7a74846be",
   "metadata": {},
   "outputs": [],
   "source": [
    "while False:#iteration < num_iterations:\n",
    "    print(f\"iteration {iteration} / {num_iterations}\")\n",
    "    tic = time.time()\n",
    "    \n",
    "    generator = torch.Generator()\n",
    "    \n",
    "    generator.manual_seed(iteration%nP)\n",
    "\n",
    "    kspace_mask_source = torch.randint(0, 2, (1, k_scaled.shape[1], 1, 1), generator=generator)\n",
    "    kspace_mask_target = 1 - kspace_mask_source\n",
    "\n",
    "    k_scaled_masked = k_scaled * kspace_mask_source\n",
    "    print(k_scaled_masked.shape, d.shape)\n",
    "    AHd = nonuniform_fourier_transform_adjoint(k_scaled_masked, d, (nX, nY, nZ))\n",
    "    AHd = torch.sum(torch.conj(coilsens[..., None,None]) * AHd, dim=0)\n",
    "    \n",
    "    print(f'shapes:{AHd.shape}, {k_scaled.shape}, {coilsens.shape}, {d.shape}')\n",
    "    \n",
    "    data = [\n",
    "        {\n",
    "            \"images_regridded\": AHd,\n",
    "            \"kspace_trajectory\": k_scaled,\n",
    "            \"sensitivity_maps\": coilsens,\n",
    "            \"kspace_mask_source\": kspace_mask_source,\n",
    "            \"kspace_mask_target\": kspace_mask_target,\n",
    "            \"kspace_data\": d,\n",
    "        }\n",
    "    ]\n",
    "\n",
    "    # TRAINING\n",
    "    if model_training:\n",
    "        trn_loss = training(\n",
    "            [0],\n",
    "            data,\n",
    "            model,\n",
    "            loss_fn,\n",
    "            optimizer,\n",
    "            accumulator,\n",
    "            group=group,\n",
    "            device=device,\n",
    "        )\n",
    "\n",
    "        averaged_model.update_parameters(\n",
    "            model,\n",
    "        )\n",
    "\n",
    "        torch.cuda.empty_cache()\n",
    "        gc.collect()\n",
    "\n",
    "    else:\n",
    "        trn_loss = [0] * batch_size\n",
    "\n",
    "    # VALIDATION\n",
    "    if model_validation:\n",
    "        val_loss = validation(\n",
    "            validation_index,\n",
    "            validation_data,\n",
    "            averaged_model,\n",
    "            loss_fn,\n",
    "            group=group,\n",
    "            device=device,\n",
    "        )\n",
    "        torch.cuda.empty_cache()\n",
    "        gc.collect()\n",
    "\n",
    "    else:\n",
    "        val_loss = [0] * batch_size\n",
    "\n",
    "    total_trn_loss += trn_loss\n",
    "    total_val_loss += val_loss\n",
    "\n",
    "    # SAVING\n",
    "    # Completed epoch\n",
    "    if save_checkpoint and np.mod(iteration + batch_size, nD * nP) == 0:\n",
    "        print(\"Creating tagged checkpoint ...\")\n",
    "\n",
    "        checkpoint = {\n",
    "            \"iteration\": iteration + batch_size,\n",
    "            \"model_state\": model.state_dict(),\n",
    "            \"averaged_model_state\": averaged_model.state_dict(),\n",
    "            \"optim_state\": optimizer.state_dict(),\n",
    "            \"trn_loss\": total_trn_loss,\n",
    "            \"val_loss\": total_val_loss,\n",
    "        }\n",
    "\n",
    "        epoch = (iteration + batch_size) // (nD * nP)\n",
    "        checkpoint_manager.save(checkpoint, tag=f\"_epoch_{epoch}\")\n",
    "\n",
    "        if single_epoch:\n",
    "            # Also save the checkpoint as untagged checkpoint\n",
    "            # Otherwise, training will be stuck in endless loop\n",
    "            checkpoint_manager.save(checkpoint)\n",
    "            checkpoint_manager.release()\n",
    "            break\n",
    "\n",
    "    # Intermediate checkpoint\n",
    "    elif save_checkpoint and np.mod(iteration + batch_size, checkpoint_frequency) == 0:\n",
    "        print(\"Creating untagged checkpoint ...\")\n",
    "\n",
    "        checkpoint = {\n",
    "            \"iteration\": iteration + batch_size,\n",
    "            \"model_state\": model.state_dict(),\n",
    "            \"averaged_model_state\": averaged_model.state_dict(),\n",
    "            \"optim_state\": optimizer.state_dict(),\n",
    "            \"trn_loss\": total_trn_loss,\n",
    "            \"val_loss\": total_val_loss,\n",
    "        }\n",
    "\n",
    "        checkpoint_manager.save(checkpoint, block=False)\n",
    "\n",
    "    toc = time.time() - tic\n",
    "\n",
    "    print(\n",
    "        (\n",
    "            f\"Iteration: {iteration} - \"\n",
    "            + f\"Elapsed time: {toc:.0f} - \"\n",
    "            + f\"Training loss: {[f'{loss:.3f}' for loss in trn_loss]} - \"\n",
    "            + f\"Validation loss: {[f'{loss:.3f}' for loss in val_loss]}\"\n",
    "        )\n",
    "    )\n",
    "\n",
    "    torch.cuda.empty_cache()\n",
    "    gc.collect()\n",
    "\n",
    "    iteration += batch_size\n",
    "    print(f\"current iteration: {iteration}\")"
   ]
  },
  {
   "cell_type": "code",
   "execution_count": 23,
   "id": "dbfc40cd-a866-4141-9358-726f21039964",
   "metadata": {},
   "outputs": [
    {
     "name": "stdout",
     "output_type": "stream",
     "text": [
      "Rank 0 - reading data\n",
      "Rank 0 - reading data done -> model initialization\n"
     ]
    },
    {
     "name": "stderr",
     "output_type": "stream",
     "text": [
      "100%|██████████| 10/10 [01:27<00:00,  8.71s/it]\n"
     ]
    },
    {
     "name": "stdout",
     "output_type": "stream",
     "text": [
      "Rank 0 - model initialization done -> loss fn initialization\n",
      "[KSpaceLoss] torch.Size([8, 2097152, 1, 1]) torch.Size([8, 2097152, 1, 1]) None\n",
      "Rank 0 - Loss k-space: 6.428 - Loss image space: 0.000 - Loss Wavelet 0.000 - Loss Hankel 0.000 - Loss Casorati 0.000\n",
      "Rank 0 - loss fn initialization done -> compute backward pass\n",
      "Rank 0 - compute backward pass done -> compute accumulator\n",
      "Rank 0 - Index 0 - Gradient norm: 1249.134\n",
      "Averaged gradient norm: 1.000\n"
     ]
    }
   ],
   "source": [
    "generator = torch.Generator()\n",
    "generator.manual_seed(0)\n",
    "\n",
    "kspace_mask_source = torch.randint(0, 2, (1, k.shape[1], 1, 1), generator=generator)\n",
    "kspace_mask_target = 1 - kspace_mask_source\n",
    "k_masked = k * kspace_mask_source\n",
    "\n",
    "AHd = nonuniform_fourier_transform_adjoint(k_masked, d, (nX, nY, nZ))\n",
    "AHd = torch.sum(torch.conj(C[..., None,None]) * AHd, dim=0)\n",
    "\n",
    "data = [\n",
    "    {\n",
    "        \"images_regridded\": AHd,\n",
    "        \"kspace_trajectory\": k,\n",
    "        \"sensitivity_maps\": C,\n",
    "        \"kspace_mask_source\": kspace_mask_source,\n",
    "        \"kspace_mask_target\": kspace_mask_target,\n",
    "        \"kspace_data\": d,\n",
    "    }\n",
    "]\n",
    "\n",
    "\n",
    "trn_loss, image = training(\n",
    "    [0],\n",
    "    data,\n",
    "    model,\n",
    "    loss_fn,\n",
    "    optimizer,\n",
    "    accumulator,\n",
    "    group=group,\n",
    "    device=device,\n",
    ")"
   ]
  },
  {
   "cell_type": "code",
   "execution_count": 24,
   "id": "9a6305ad-7753-4fbd-a8f8-64a03fe5e69a",
   "metadata": {},
   "outputs": [
    {
     "data": {
      "application/vnd.jupyter.widget-view+json": {
       "model_id": "4a61d10aa5784d529a7a1496a60ed07e",
       "version_major": 2,
       "version_minor": 0
      },
      "text/plain": [
       "interactive(children=(IntSlider(value=64, description='Dimension 3', max=128, min=1), Output()), _dom_classes=…"
      ]
     },
     "execution_count": 24,
     "metadata": {},
     "output_type": "execute_result"
    },
    {
     "data": {
      "application/vnd.jupyter.widget-view+json": {
       "model_id": "feee4948b14b46a7852fbed44c885b45",
       "version_major": 2,
       "version_minor": 0
      },
      "image/png": "[encoded data removed]",
      "text/html": [
       "\n",
       "            <div style=\"display: inline-block;\">\n",
       "                <div class=\"jupyter-widgets widget-label\" style=\"text-align: center;\">\n",
       "                    Figure\n",
       "                </div>\n",
       "                <img src='data:image/png;base64,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' width=300.0/>\n",
       "            </div>\n",
       "        "
      ],
      "text/plain": [
       "Canvas(toolbar=Toolbar(toolitems=[('Home', 'Reset original view', 'home', 'home'), ('Back', 'Back to previous …"
      ]
     },
     "metadata": {},
     "output_type": "display_data"
    }
   ],
   "source": [
    "InteractiveFigure3D(\n",
    "    image[...,0,0].cpu().abs().detach().numpy(),\n",
    "    cmap='gray',\n",
    "    vmax=10\n",
    ").interactive"
   ]
  },
  {
   "cell_type": "code",
   "execution_count": null,
   "id": "6168d96e-86c7-4cc4-86ed-601e7ad05753",
   "metadata": {},
   "outputs": [],
   "source": []
  }
 ],
 "metadata": {
  "kernelspec": {
   "display_name": "Python 3 (ipykernel)",
   "language": "python",
   "name": "python3"
  },
  "language_info": {
   "codemirror_mode": {
    "name": "ipython",
    "version": 3
   },
   "file_extension": ".py",
   "mimetype": "text/x-python",
   "name": "python",
   "nbconvert_exporter": "python",
   "pygments_lexer": "ipython3",
   "version": "3.13.7"
  }
 },
 "nbformat": 4,
 "nbformat_minor": 5
}
