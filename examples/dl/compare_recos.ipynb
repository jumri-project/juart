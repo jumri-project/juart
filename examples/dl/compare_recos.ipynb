{
 "cells": [
  {
   "cell_type": "code",
   "execution_count": null,
   "id": "99a159f9-9c81-40df-8c03-c6aea39a271b",
   "metadata": {},
   "outputs": [],
   "source": [
    "%load_ext autoreload\n",
    "%autoreload 2\n",
    "%matplotlib widget\n",
    "\n",
    "import torch\n",
    "import matplotlib.pyplot as plt\n",
    "\n",
    "import sys\n",
    "sys.path.insert(0, \"../../src\")\n",
    "\n",
    "from juart.vis.interactive import InteractiveFigure3D, InteractiveMultiPlotter3D\n",
    "from juart.vis.__init__ import MultiPlotter"
   ]
  },
  {
   "cell_type": "code",
   "execution_count": null,
   "id": "e7d4c5c1-277c-40b6-aabc-93af634c89cc",
   "metadata": {},
   "outputs": [],
   "source": [
    "device = \"cuda:3\"\n",
    "\n",
    "image0 = torch.load(\"/home/jovyan/images/corr_model_25P_50DC_20E_epoch_1\").to(device).cpu()[...,0,0].abs().numpy()\n",
    "image1 = torch.load(\"/home/jovyan/images/corr_model_25P_50DC_20E_epoch_4\").to(device).cpu()[...,0,0].abs().numpy()\n",
    "image2 = torch.load(\"/home/jovyan/images/corr_model_25P_50DC_20E_epoch_8\").to(device).cpu()[...,0,0].abs().numpy()\n",
    "image3 = torch.load(\"/home/jovyan/images/corr_model_25P_50DC_20E_epoch_12\").to(device).cpu()[...,0,0].abs().numpy()\n",
    "image4 = torch.load(\"/home/jovyan/images/corr_model_25P_50DC_20E_epoch_16\").to(device).cpu()[...,0,0].abs().numpy()\n",
    "image5 = torch.load(\"/home/jovyan/images/corr_model_25P_50DC_20E_epoch_20\").to(device).cpu()[...,0,0].abs().numpy()"
   ]
  },
  {
   "cell_type": "code",
   "execution_count": null,
   "id": "8d58e34b-299d-4c2d-ad56-1cd85c254452",
   "metadata": {},
   "outputs": [],
   "source": [
    "InteractiveMultiPlotter3D([image0,image1,image2,image3,image3,image5],\n",
    "                          layout = [2,3],\n",
    "                          title = ['1E',\"4E\", \"8E\", \"12E\", \"16E\", \"20E\"],\n",
    "                          cmap=\"gray\",\n",
    "                          activate_colorbar = False).interactive"
   ]
  },
  {
   "cell_type": "code",
   "execution_count": null,
   "id": "58bfde5c-9445-4e38-8577-e29a501ae76f",
   "metadata": {},
   "outputs": [],
   "source": []
  }
 ],
 "metadata": {
  "kernelspec": {
   "display_name": "Python 3 (ipykernel)",
   "language": "python",
   "name": "python3"
  },
  "language_info": {
   "codemirror_mode": {
    "name": "ipython",
    "version": 3
   },
   "file_extension": ".py",
   "mimetype": "text/x-python",
   "name": "python",
   "nbconvert_exporter": "python",
   "pygments_lexer": "ipython3",
   "version": "3.13.7"
  }
 },
 "nbformat": 4,
 "nbformat_minor": 5
}
