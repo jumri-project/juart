{
 "cells": [
  {
   "cell_type": "code",
   "execution_count": null,
   "id": "ce32c101-bad4-4b24-8879-860ba6706014",
   "metadata": {},
   "outputs": [],
   "source": [
    "%load_ext autoreload\n",
    "%autoreload 2\n",
    "%matplotlib widget\n",
    "\n",
    "import sys\n",
    "\n",
    "import numpy as np\n",
    "import torch\n",
    "import zarr as z\n",
    "\n",
    "sys.path.insert(0, \"../../src\")\n",
    "\n",
    "from juart.conopt.functional.fourier import (\n",
    "    nonuniform_fourier_transform_adjoint,\n",
    ")\n",
    "from juart.conopt.tfs.fourier import nonuniform_transfer_function\n",
    "from juart.recon.sense import SENSE\n",
    "from juart.vis.interactive import InteractiveFigure3D\n",
    "\n",
    "store = z.open(\"/home/jovyan/datasets/num_phantom_128_R1\")\n",
    "\n",
    "C = torch.from_numpy(np.array(store[\"C\"]))\n",
    "k = torch.from_numpy(np.array(store[\"k\"]))[..., None, None]\n",
    "d = torch.from_numpy(np.array(store[\"d\"]))[..., None, None]"
   ]
  },
  {
   "cell_type": "code",
   "execution_count": null,
   "id": "20cf6760-311a-410c-a015-c642c8a3e45f",
   "metadata": {},
   "outputs": [],
   "source": [
    "kspace_mask_worker0 = torch.randint(0, 2, (1, k.shape[1], 1, 1))\n",
    "kspace_mask_worker1 = 1 - kspace_mask_worker0"
   ]
  },
  {
   "cell_type": "code",
   "execution_count": null,
   "id": "ced2e9c4-ad1d-4dbd-a075-38a407b77835",
   "metadata": {},
   "outputs": [],
   "source": [
    "k_scaled_masked = k * kspace_mask_worker0\n",
    "AHd = nonuniform_fourier_transform_adjoint(k, d, (128, 128, 128))\n",
    "AHd = torch.sum(torch.conj(C[..., None, None]) * AHd, dim=0)"
   ]
  },
  {
   "cell_type": "code",
   "execution_count": null,
   "id": "4173e9b6-cb66-48ef-8ba6-ba81446c511e",
   "metadata": {},
   "outputs": [],
   "source": [
    "print(k_scaled_masked.shape, AHd.shape, C.shape, d.shape)"
   ]
  },
  {
   "cell_type": "code",
   "execution_count": null,
   "id": "170d4fba-6225-479a-a986-c215a509c2d2",
   "metadata": {},
   "outputs": [],
   "source": [
    "InteractiveFigure3D(AHd[..., 0, 0].abs().numpy()).interactive"
   ]
  },
  {
   "cell_type": "code",
   "execution_count": null,
   "id": "65e7b26e-e347-42ef-8d75-9d29426aa8dd",
   "metadata": {},
   "outputs": [],
   "source": [
    "device = \"cuda:2\"\n",
    "H = nonuniform_transfer_function(k, (1, 128, 128, 128), (2, 2, 2))"
   ]
  },
  {
   "cell_type": "code",
   "execution_count": null,
   "id": "207082b3-d789-42bd-8213-90bcd1f43827",
   "metadata": {},
   "outputs": [],
   "source": [
    "C2 = C[..., None]\n",
    "AHd2 = AHd[None, ...]"
   ]
  },
  {
   "cell_type": "code",
   "execution_count": null,
   "id": "442681de-67b8-4ab6-9821-6f72f0ba77fd",
   "metadata": {},
   "outputs": [],
   "source": [
    "cg_solver = SENSE(\n",
    "    C2.to(device),\n",
    "    AHd2.to(device),\n",
    "    H.to(device),\n",
    "    axes=(1, 2, 3),\n",
    "    maxiter=200,\n",
    "    verbose=True,\n",
    "    device=device,\n",
    ")"
   ]
  },
  {
   "cell_type": "code",
   "execution_count": null,
   "id": "735db230-f8f1-49a6-bd56-481c882bf112",
   "metadata": {},
   "outputs": [],
   "source": [
    "C2.shape, AHd2.shape, H.shape"
   ]
  },
  {
   "cell_type": "code",
   "execution_count": null,
   "id": "e7758e9e-dd17-4b9b-a5da-0117111fd214",
   "metadata": {},
   "outputs": [],
   "source": [
    "C2.dtype, AHd2.dtype, H.dtype"
   ]
  },
  {
   "cell_type": "code",
   "execution_count": null,
   "id": "a8e8b6d1-02ba-4be7-8988-d216274fab7e",
   "metadata": {},
   "outputs": [],
   "source": [
    "cg_image = cg_solver.solve().view(torch.complex64).reshape((128, 128, 128))"
   ]
  },
  {
   "cell_type": "code",
   "execution_count": null,
   "id": "d259c574-2125-4fcc-9397-9f26e45aa464",
   "metadata": {},
   "outputs": [],
   "source": [
    "cg_image.shape"
   ]
  },
  {
   "cell_type": "code",
   "execution_count": null,
   "id": "dc62fa71-d0f2-47ae-91cf-4ec715e7a35a",
   "metadata": {},
   "outputs": [],
   "source": [
    "InteractiveFigure3D(\n",
    "    cg_image[...].cpu().abs().numpy(), cmap=\"gray\", vmax=cg_image.abs().max()\n",
    ").interactive"
   ]
  },
  {
   "cell_type": "code",
   "execution_count": null,
   "id": "7501fbad-2046-419f-8655-e5379edec36b",
   "metadata": {},
   "outputs": [],
   "source": []
  }
 ],
 "metadata": {
  "kernelspec": {
   "display_name": "Python 3 (ipykernel)",
   "language": "python",
   "name": "python3"
  },
  "language_info": {
   "codemirror_mode": {
    "name": "ipython",
    "version": 3
   },
   "file_extension": ".py",
   "mimetype": "text/x-python",
   "name": "python",
   "nbconvert_exporter": "python",
   "pygments_lexer": "ipython3",
   "version": "3.13.7"
  }
 },
 "nbformat": 4,
 "nbformat_minor": 5
}
