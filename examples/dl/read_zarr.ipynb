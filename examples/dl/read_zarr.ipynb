{
 "cells": [
  {
   "cell_type": "code",
   "execution_count": 55,
   "id": "ce32c101-bad4-4b24-8879-860ba6706014",
   "metadata": {},
   "outputs": [],
   "source": [
    "import zarr as z\n",
    "import torch\n",
    "import numpy as np\n",
    "\n",
    "import sys\n",
    "sys.path.insert(0, \"../../src\")\n",
    "\n",
    "from juart.conopt.functional.fourier import (\n",
    "    fourier_transform_adjoint,\n",
    "    fourier_transform_forward,\n",
    "    nonuniform_fourier_transform_adjoint,\n",
    ")\n",
    "\n",
    "store = z.open(\"/home/jovyan/datasets/num_phantom_128_R1\")\n",
    "\n",
    "C = torch.from_numpy(np.array(store[\"C\"]))\n",
    "k = torch.from_numpy(np.array(store[\"k\"]))[...,None,None]\n",
    "d = torch.from_numpy(np.array(store[\"d\"]))[...,None,None]"
   ]
  },
  {
   "cell_type": "code",
   "execution_count": 56,
   "id": "6ee877e4-847f-48ec-a10f-334fa515048c",
   "metadata": {},
   "outputs": [],
   "source": [
    "AHd = nonuniform_fourier_transform_adjoint(k,d,(128,128,128))"
   ]
  },
  {
   "cell_type": "code",
   "execution_count": 57,
   "id": "9dd7d34d-7d42-4bc9-9e2d-b7e39538de3d",
   "metadata": {},
   "outputs": [
    {
     "data": {
      "text/plain": [
       "(torch.Size([8, 128, 128, 128, 1, 1]),\n",
       " torch.Size([8, 2097152, 1, 1]),\n",
       " torch.Size([3, 2097152, 1, 1]))"
      ]
     },
     "execution_count": 57,
     "metadata": {},
     "output_type": "execute_result"
    }
   ],
   "source": [
    "AHd.shape, d.shape, k.shape"
   ]
  },
  {
   "cell_type": "code",
   "execution_count": 58,
   "id": "20cf6760-311a-410c-a015-c642c8a3e45f",
   "metadata": {},
   "outputs": [],
   "source": [
    "kspace_mask_worker0 = torch.randint(0, 2, (1, k.shape[1], 1, 1))\n",
    "kspace_mask_worker1 = 1 - kspace_mask_worker0"
   ]
  },
  {
   "cell_type": "code",
   "execution_count": 59,
   "id": "ced2e9c4-ad1d-4dbd-a075-38a407b77835",
   "metadata": {},
   "outputs": [],
   "source": [
    "k_scaled_masked = k * kspace_mask_worker0\n",
    "AHd = nonuniform_fourier_transform_adjoint(k_scaled_masked, d, (128, 128, 128))\n",
    "AHd = torch.sum(torch.conj(C[...,None,None]) * AHd, dim=0)"
   ]
  },
  {
   "cell_type": "code",
   "execution_count": 60,
   "id": "4173e9b6-cb66-48ef-8ba6-ba81446c511e",
   "metadata": {},
   "outputs": [
    {
     "name": "stdout",
     "output_type": "stream",
     "text": [
      "torch.Size([3, 2097152, 1, 1]) torch.Size([128, 128, 128, 1, 1]) torch.Size([8, 128, 128, 128]) torch.Size([8, 2097152, 1, 1])\n"
     ]
    }
   ],
   "source": [
    "print(k_scaled_masked.shape,AHd.shape,C.shape,d.shape)"
   ]
  },
  {
   "cell_type": "code",
   "execution_count": null,
   "id": "170d4fba-6225-479a-a986-c215a509c2d2",
   "metadata": {},
   "outputs": [],
   "source": []
  }
 ],
 "metadata": {
  "kernelspec": {
   "display_name": "Python 3 (ipykernel)",
   "language": "python",
   "name": "python3"
  },
  "language_info": {
   "codemirror_mode": {
    "name": "ipython",
    "version": 3
   },
   "file_extension": ".py",
   "mimetype": "text/x-python",
   "name": "python",
   "nbconvert_exporter": "python",
   "pygments_lexer": "ipython3",
   "version": "3.13.7"
  }
 },
 "nbformat": 4,
 "nbformat_minor": 5
}
