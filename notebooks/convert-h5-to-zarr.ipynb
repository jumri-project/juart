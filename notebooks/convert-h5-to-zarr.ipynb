{
 "cells": [
  {
   "cell_type": "code",
   "execution_count": null,
   "id": "77fdd2fe-ede8-4035-8455-4ebf4ddaa6d7",
   "metadata": {},
   "outputs": [],
   "source": [
    "# Note: It is important to not call any other function such as store.list_dir\n",
    "# after creating the store and before creating the group, as this will lead to an error\n",
    "# \"got Future <Future pending> attached to a different loop\"\n",
    "\n",
    "# async for item in store.list_dir(\"\"):\n",
    "#     print(item)"
   ]
  },
  {
   "cell_type": "code",
   "execution_count": null,
   "id": "6476c656-8ce7-4408-9b4d-de7bac6eaa45",
   "metadata": {},
   "outputs": [],
   "source": [
    "# mamba install h5py zarr --channel conda-forge\n",
    "\n",
    "# There is a bug with the newest versions of botocore (1.36 and 1.37)\n",
    "# mamba install botocore=1.35"
   ]
  },
  {
   "cell_type": "code",
   "execution_count": null,
   "id": "ae1deb81-cdf2-4663-bcb9-288e5ce610ac",
   "metadata": {},
   "outputs": [],
   "source": [
    "import os\n",
    "\n",
    "import h5py\n",
    "import zarr\n",
    "from s3fs import S3FileSystem"
   ]
  },
  {
   "cell_type": "code",
   "execution_count": null,
   "id": "1d7d5d50-5608-4d92-83cb-168f759d06d1",
   "metadata": {},
   "outputs": [],
   "source": [
    "session = \"7T1027\""
   ]
  },
  {
   "cell_type": "code",
   "execution_count": null,
   "id": "ebcbb76f-4dba-4e86-abc9-efa9f720d21c",
   "metadata": {},
   "outputs": [],
   "source": [
    "h5_preproc_fname = (\n",
    "    \"/home/projects/qrage/sessions/%s/preproc/mz_me_mpnrage3d_grappa.h5\" % session\n",
    ")\n",
    "zarr_preproc_fname = (\n",
    "    \"qrage/sessions/%s/preproc.zarr/mz_me_mpnrage3d_grappa.zarr\" % session\n",
    ")"
   ]
  },
  {
   "cell_type": "code",
   "execution_count": null,
   "id": "c0d4b6ce-f6bc-4e49-b974-a08b52c2430c",
   "metadata": {},
   "outputs": [],
   "source": [
    "fs = S3FileSystem(\n",
    "    anon=False,\n",
    "    endpoint_url=\"https://s3.fz-juelich.de\",\n",
    "    key=os.getenv(\"AWS_ACCESS_KEY_ID\"),\n",
    "    secret=os.getenv(\"AWS_SECRET_ACCESS_KEY\"),\n",
    "    asynchronous=True,\n",
    ")"
   ]
  },
  {
   "cell_type": "code",
   "execution_count": null,
   "id": "9af5cf1a-5b66-4d38-b70e-fde59c22abde",
   "metadata": {},
   "outputs": [],
   "source": [
    "store = zarr.storage.FsspecStore(\n",
    "    fs,\n",
    "    path=zarr_preproc_fname,\n",
    ")"
   ]
  },
  {
   "cell_type": "code",
   "execution_count": null,
   "id": "223706dd-71e0-4f0e-b888-4fa0e6eeba2f",
   "metadata": {},
   "outputs": [],
   "source": [
    "root = zarr.create_group(\n",
    "    store=store,\n",
    "    overwrite=True,\n",
    ")"
   ]
  },
  {
   "cell_type": "code",
   "execution_count": null,
   "id": "9726a031-e7ea-41ae-886a-9d94d1bafa70",
   "metadata": {},
   "outputs": [],
   "source": [
    "with h5py.File(h5_preproc_fname, \"r\") as f:\n",
    "    for key in f.keys():\n",
    "        print(key)\n",
    "        array = root.create_array(\n",
    "            name=key,\n",
    "            shape=f[key].shape,\n",
    "            chunks=f[key].chunks,\n",
    "            dtype=f[key].dtype,\n",
    "            overwrite=True,\n",
    "        )\n",
    "        array[:] = f[key][:]"
   ]
  },
  {
   "cell_type": "code",
   "execution_count": null,
   "id": "388e3ddf-33a8-49f5-9258-d78ce8abfcdc",
   "metadata": {},
   "outputs": [],
   "source": [
    "root.tree()"
   ]
  }
 ],
 "metadata": {
  "kernelspec": {
   "display_name": "Python 3 (ipykernel)",
   "language": "python",
   "name": "python3"
  },
  "language_info": {
   "codemirror_mode": {
    "name": "ipython",
    "version": 3
   },
   "file_extension": ".py",
   "mimetype": "text/x-python",
   "name": "python",
   "nbconvert_exporter": "python",
   "pygments_lexer": "ipython3",
   "version": "3.12.9"
  }
 },
 "nbformat": 4,
 "nbformat_minor": 5
}
