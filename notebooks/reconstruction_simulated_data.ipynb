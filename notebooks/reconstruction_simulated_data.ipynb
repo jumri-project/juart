{
 "cells": [
  {
   "cell_type": "markdown",
   "metadata": {
    "editable": true,
    "slideshow": {
     "slide_type": ""
    },
    "tags": []
   },
   "source": [
    "# Accelerated Parameter Mapping of Multiple-Echo Gradient-Echo Data Using Model-Based Iterative Reconstruction"
   ]
  },
  {
   "cell_type": "markdown",
   "metadata": {},
   "source": [
    "*M. Zimmermann, Z. Abbas, K. Dzieciol and N. J. Shah, \"Accelerated Parameter Mapping of Multiple-Echo Gradient-Echo Data Using Model-Based Iterative Reconstruction,\" in IEEE Transactions on Medical Imaging, vol. 37, no. 2, pp. 626-637, Feb. 2018, doi: 10.1109/TMI.2017.2771504.*"
   ]
  },
  {
   "cell_type": "markdown",
   "metadata": {},
   "source": [
    "# Load data"
   ]
  },
  {
   "cell_type": "code",
   "execution_count": 1,
   "metadata": {
    "editable": true,
    "slideshow": {
     "slide_type": ""
    },
    "tags": []
   },
   "outputs": [
    {
     "data": {
      "text/plain": [
       "<torch.autograd.grad_mode.set_grad_enabled at 0xffff6aaf6690>"
      ]
     },
     "execution_count": 1,
     "metadata": {},
     "output_type": "execute_result"
    }
   ],
   "source": [
    "%load_ext autoreload\n",
    "%autoreload 2\n",
    "# %matplotlib widget\n",
    "\n",
    "import os\n",
    "import sys\n",
    "\n",
    "sys.path.insert(0, \"../src\")\n",
    "\n",
    "import h5py\n",
    "import matplotlib.pyplot as plt\n",
    "import numpy as np\n",
    "import torch\n",
    "\n",
    "from juart.conopt.functional.fourier import nonuniform_fourier_transform_adjoint\n",
    "from juart.conopt.tfs.fourier import nonuniform_transfer_function\n",
    "from juart.recon.mirage import MIRAGE\n",
    "from juart.recon.monitoring import ConvergenceMonitor\n",
    "from juart.vis import MultiPlotter\n",
    "\n",
    "torch.set_num_threads(16)\n",
    "torch.set_grad_enabled(False)"
   ]
  },
  {
   "cell_type": "markdown",
   "metadata": {},
   "source": [
    "## Load sequence parameters"
   ]
  },
  {
   "cell_type": "code",
   "execution_count": 2,
   "metadata": {},
   "outputs": [],
   "source": [
    "with h5py.File(os.path.join('..', 'LocalData', 'Simulations', 'qrage_info.h5'), 'r') as f:\n",
    "    num_spokes = f['num_spokes'][...]\n",
    "    num_sets = f['num_sets'][...]\n",
    "    num_echoes = f['num_echoes'][...]\n",
    "    num_partitions_per_block = f['num_partitions_per_block'][...]\n",
    "    num_autocalibration_lines = f['num_autocalibration_lines'][...]\n",
    "    acceleration_factor = f['acceleration_factor'][...]\n",
    "    matrix_size = f['matrix_size'][...]\n",
    "    readout_bandwidth = f['readout_bandwidth'][...]\n",
    "    dTI = f['dTI'][...]\n",
    "    TI0 = f['TI0'][...]\n",
    "    dTE = f['dTE'][...]\n",
    "    TE0 = f['TE0'][...]\n",
    "    TR = f['TR'][...]"
   ]
  },
  {
   "cell_type": "code",
   "execution_count": 3,
   "metadata": {
    "tags": [
     "parameters"
    ]
   },
   "outputs": [],
   "source": [
    "nUS = num_spokes\n",
    "iS = matrix_size[2]//2"
   ]
  },
  {
   "cell_type": "code",
   "execution_count": 4,
   "metadata": {
    "editable": true,
    "slideshow": {
     "slide_type": ""
    },
    "tags": []
   },
   "outputs": [],
   "source": [
    "filepath = '/workspaces/juart-dev'\n",
    "# filepath = '/home/jovyan/juart-dev'\n",
    "h5_preproc_fname = os.path.join('LocalData', 'Simulations','qrage_grappa_pytorch.h5')\n",
    "h5_image_fname =  os.path.join('LocalData', 'Simulations','mz_me_mpnrage3d_grappa_%s_%s.h5' % (iS, nUS))"
   ]
  },
  {
   "cell_type": "code",
   "execution_count": 5,
   "metadata": {
    "tags": []
   },
   "outputs": [],
   "source": [
    "full_h5_preproc_fname = os.path.join(filepath, h5_preproc_fname)\n",
    "full_h5_image_fname = os.path.join(filepath, h5_image_fname)"
   ]
  },
  {
   "cell_type": "code",
   "execution_count": 6,
   "metadata": {
    "editable": true,
    "slideshow": {
     "slide_type": ""
    },
    "tags": []
   },
   "outputs": [
    {
     "name": "stdout",
     "output_type": "stream",
     "text": [
      "/workspaces/juart-dev/LocalData/Simulations/qrage_grappa_pytorch.h5\n",
      "/workspaces/juart-dev/LocalData/Simulations/mz_me_mpnrage3d_grappa_0_16.h5\n"
     ]
    }
   ],
   "source": [
    "print(full_h5_preproc_fname)\n",
    "print(full_h5_image_fname)"
   ]
  },
  {
   "cell_type": "code",
   "execution_count": 7,
   "metadata": {
    "editable": true,
    "slideshow": {
     "slide_type": ""
    },
    "tags": []
   },
   "outputs": [
    {
     "ename": "KeyError",
     "evalue": "\"Unable to synchronously open object (object 'C' doesn't exist)\"",
     "output_type": "error",
     "traceback": [
      "\u001b[31m---------------------------------------------------------------------------\u001b[39m",
      "\u001b[31mKeyError\u001b[39m                                  Traceback (most recent call last)",
      "\u001b[36mCell\u001b[39m\u001b[36m \u001b[39m\u001b[32mIn[7]\u001b[39m\u001b[32m, line 7\u001b[39m\n\u001b[32m      1\u001b[39m \u001b[38;5;28;01mwith\u001b[39;00m h5py.File(\n\u001b[32m      2\u001b[39m     full_h5_preproc_fname,\n\u001b[32m      3\u001b[39m     \u001b[33m\"\u001b[39m\u001b[33mr\u001b[39m\u001b[33m\"\u001b[39m,\n\u001b[32m      4\u001b[39m     libver=\u001b[33m\"\u001b[39m\u001b[33mlatest\u001b[39m\u001b[33m\"\u001b[39m,\n\u001b[32m      5\u001b[39m     swmr=\u001b[38;5;28;01mTrue\u001b[39;00m,\n\u001b[32m      6\u001b[39m ) \u001b[38;5;28;01mas\u001b[39;00m h5_preproc_file:\n\u001b[32m----> \u001b[39m\u001b[32m7\u001b[39m     nC, nX, nY, nZ, nS = \u001b[43mh5_preproc_file\u001b[49m\u001b[43m[\u001b[49m\u001b[33;43m\"\u001b[39;49m\u001b[33;43mC\u001b[39;49m\u001b[33;43m\"\u001b[39;49m\u001b[43m]\u001b[49m.shape[:\u001b[32m5\u001b[39m]\n\u001b[32m      8\u001b[39m     nC, spokes, baseresolution, nZ, nS, nTI, nTE = h5_preproc_file[\u001b[33m\"\u001b[39m\u001b[33md\u001b[39m\u001b[33m\"\u001b[39m].shape\n\u001b[32m     10\u001b[39m     shape = (nX, nY, nZ, \u001b[32m1\u001b[39m, nTI, nTE)\n",
      "\u001b[36mFile \u001b[39m\u001b[32mh5py/_objects.pyx:56\u001b[39m, in \u001b[36mh5py._objects.with_phil.wrapper\u001b[39m\u001b[34m()\u001b[39m\n",
      "\u001b[36mFile \u001b[39m\u001b[32mh5py/_objects.pyx:57\u001b[39m, in \u001b[36mh5py._objects.with_phil.wrapper\u001b[39m\u001b[34m()\u001b[39m\n",
      "\u001b[36mFile \u001b[39m\u001b[32m/opt/conda/lib/python3.12/site-packages/h5py/_hl/group.py:360\u001b[39m, in \u001b[36mGroup.__getitem__\u001b[39m\u001b[34m(self, name)\u001b[39m\n\u001b[32m    358\u001b[39m         \u001b[38;5;28;01mraise\u001b[39;00m \u001b[38;5;167;01mValueError\u001b[39;00m(\u001b[33m\"\u001b[39m\u001b[33mInvalid HDF5 object reference\u001b[39m\u001b[33m\"\u001b[39m)\n\u001b[32m    359\u001b[39m \u001b[38;5;28;01melif\u001b[39;00m \u001b[38;5;28misinstance\u001b[39m(name, (\u001b[38;5;28mbytes\u001b[39m, \u001b[38;5;28mstr\u001b[39m)):\n\u001b[32m--> \u001b[39m\u001b[32m360\u001b[39m     oid = \u001b[43mh5o\u001b[49m\u001b[43m.\u001b[49m\u001b[43mopen\u001b[49m\u001b[43m(\u001b[49m\u001b[38;5;28;43mself\u001b[39;49m\u001b[43m.\u001b[49m\u001b[43mid\u001b[49m\u001b[43m,\u001b[49m\u001b[43m \u001b[49m\u001b[38;5;28;43mself\u001b[39;49m\u001b[43m.\u001b[49m\u001b[43m_e\u001b[49m\u001b[43m(\u001b[49m\u001b[43mname\u001b[49m\u001b[43m)\u001b[49m\u001b[43m,\u001b[49m\u001b[43m \u001b[49m\u001b[43mlapl\u001b[49m\u001b[43m=\u001b[49m\u001b[38;5;28;43mself\u001b[39;49m\u001b[43m.\u001b[49m\u001b[43m_lapl\u001b[49m\u001b[43m)\u001b[49m\n\u001b[32m    361\u001b[39m \u001b[38;5;28;01melse\u001b[39;00m:\n\u001b[32m    362\u001b[39m     \u001b[38;5;28;01mraise\u001b[39;00m \u001b[38;5;167;01mTypeError\u001b[39;00m(\u001b[33m\"\u001b[39m\u001b[33mAccessing a group is done with bytes or str, \u001b[39m\u001b[33m\"\u001b[39m\n\u001b[32m    363\u001b[39m                     \u001b[33m\"\u001b[39m\u001b[33mnot \u001b[39m\u001b[38;5;132;01m{}\u001b[39;00m\u001b[33m\"\u001b[39m.format(\u001b[38;5;28mtype\u001b[39m(name)))\n",
      "\u001b[36mFile \u001b[39m\u001b[32mh5py/_objects.pyx:56\u001b[39m, in \u001b[36mh5py._objects.with_phil.wrapper\u001b[39m\u001b[34m()\u001b[39m\n",
      "\u001b[36mFile \u001b[39m\u001b[32mh5py/_objects.pyx:57\u001b[39m, in \u001b[36mh5py._objects.with_phil.wrapper\u001b[39m\u001b[34m()\u001b[39m\n",
      "\u001b[36mFile \u001b[39m\u001b[32mh5py/h5o.pyx:257\u001b[39m, in \u001b[36mh5py.h5o.open\u001b[39m\u001b[34m()\u001b[39m\n",
      "\u001b[31mKeyError\u001b[39m: \"Unable to synchronously open object (object 'C' doesn't exist)\""
     ]
    }
   ],
   "source": [
    "with h5py.File(\n",
    "    full_h5_preproc_fname,\n",
    "    \"r\",\n",
    "    libver=\"latest\",\n",
    "    swmr=True,\n",
    ") as h5_preproc_file:\n",
    "    nC, nX, nY, nZ, nS = h5_preproc_file[\"C\"].shape[:5]\n",
    "    nC, spokes, baseresolution, nZ, nS, nTI, nTE = h5_preproc_file[\"d\"].shape\n",
    "\n",
    "    shape = (nX, nY, nZ, 1, nTI, nTE)\n",
    "\n",
    "    print(\"Reconstructing slice %s of %s.\" % (iS, nS))\n",
    "\n",
    "    nK = baseresolution * nUS\n",
    "\n",
    "    # Read data\n",
    "    C = h5_preproc_file[\"C\"][:, :, :, :, iS : iS + 1, :, :]\n",
    "    k = h5_preproc_file[\"k\"][:, :nUS, :, :, :, :, :]\n",
    "    d = h5_preproc_file[\"d\"][:, :nUS, :, :, iS : iS + 1, :, :] / 1e3 / 50\n",
    "\n",
    "    # nC = 1\n",
    "\n",
    "    k = k.reshape((2, nK, 1, nTI, nTE))\n",
    "    d = d.reshape((nC, nK, 1, nTI, nTE))\n",
    "\n",
    "    C = torch.tensor(C, dtype=torch.complex64)\n",
    "    k = torch.tensor(k, dtype=torch.float32)\n",
    "    d = torch.tensor(d, dtype=torch.complex64)"
   ]
  },
  {
   "cell_type": "code",
   "execution_count": null,
   "metadata": {},
   "outputs": [],
   "source": [
    "MultiPlotter(\n",
    "    np.abs(C[..., 0, 0].numpy()),\n",
    "    (1, nC),\n",
    "    axis=0,\n",
    "    fig=plt.figure(figsize=(10, 3)),\n",
    "    cbar_size=\"2.5%\",\n",
    "    cbar_pad=0.1,\n",
    ")"
   ]
  },
  {
   "cell_type": "code",
   "execution_count": null,
   "metadata": {},
   "outputs": [],
   "source": [
    "MultiPlotter(\n",
    "    np.angle(C[..., 0, 0].numpy()),\n",
    "    (1, nC),\n",
    "    axis=0,\n",
    "    fig=plt.figure(figsize=(10, 3)),\n",
    "    cbar_size=\"2.5%\",\n",
    "    cbar_pad=0.1,\n",
    ")"
   ]
  },
  {
   "cell_type": "code",
   "execution_count": null,
   "metadata": {},
   "outputs": [],
   "source": [
    "AHd = nonuniform_fourier_transform_adjoint(\n",
    "    k,\n",
    "    d,\n",
    "    (nX, nY),\n",
    "    modeord=0,\n",
    "    isign=1,\n",
    ")\n",
    "AHd = torch.sum(torch.conj(C) * AHd, dim=0)"
   ]
  },
  {
   "cell_type": "code",
   "execution_count": null,
   "metadata": {},
   "outputs": [],
   "source": [
    "H = nonuniform_transfer_function(k, (1, nX, nY, nZ, 1, nTI, nTE), oversampling=(2, 2))"
   ]
  },
  {
   "cell_type": "code",
   "execution_count": null,
   "metadata": {},
   "outputs": [],
   "source": [
    "MultiPlotter(\n",
    "    np.abs(H[0, :, :, 0, 0, :, :].numpy()),\n",
    "    (nTE, nTI),\n",
    "    axis=(3, 2),\n",
    "    fig=plt.figure(figsize=(10, 6)),\n",
    "    cmap=\"viridis\",\n",
    "    vmin=0,\n",
    "    vmax=1,\n",
    "    cbar_size=\"2.5%\",\n",
    "    cbar_pad=0.1,\n",
    ")"
   ]
  },
  {
   "cell_type": "code",
   "execution_count": null,
   "metadata": {},
   "outputs": [],
   "source": [
    "MultiPlotter(\n",
    "    np.abs(AHd[..., 0, 0, :, :].numpy()),\n",
    "    (nTE, nTI),\n",
    "    axis=(3, 2),\n",
    "    fig=plt.figure(figsize=(10, 6)),\n",
    "    cmap=\"gray\",\n",
    "#     vmin=0,\n",
    "#     vmax=0.0125,\n",
    "    cbar_size=\"2.5%\",\n",
    "    cbar_pad=0.1,\n",
    ")"
   ]
  },
  {
   "cell_type": "code",
   "execution_count": null,
   "metadata": {},
   "outputs": [],
   "source": [
    "MultiPlotter(\n",
    "    np.angle(AHd[..., 0, 0, :, :].numpy()),\n",
    "    (nTE, nTI),\n",
    "    axis=(3, 2),\n",
    "    fig=plt.figure(figsize=(10, 6)),\n",
    "    cmap=\"gray\",\n",
    "    vmin=-np.pi,\n",
    "    vmax=np.pi,\n",
    "    cbar_size=\"2.5%\",\n",
    "    cbar_pad=0.1,\n",
    ")"
   ]
  },
  {
   "cell_type": "code",
   "execution_count": null,
   "metadata": {},
   "outputs": [],
   "source": [
    "support = torch.abs(C).max(dim=0).values > 0\n",
    "\n",
    "cm = ConvergenceMonitor(support + torch.zeros(shape), support, logfile=None)\n",
    "\n",
    "solver = MIRAGE(\n",
    "    C[..., 0, 0],\n",
    "    AHd,\n",
    "    H,\n",
    "    lambda_wavelet=1e-3,\n",
    "    lambda_hankel=None,\n",
    "    lambda_casorati=None,\n",
    "    weight_wavelet=1,\n",
    "    weight_hankel=0.5,\n",
    "    weight_casorati=0.5,\n",
    "    cg_maxiter=5,\n",
    "    admm_maxiter=30,\n",
    "    callback=cm.callback,\n",
    ")"
   ]
  },
  {
   "cell_type": "code",
   "execution_count": null,
   "metadata": {
    "tags": []
   },
   "outputs": [],
   "source": [
    "# Run MIRAGE reconstruction\n",
    "solver.solve()"
   ]
  },
  {
   "cell_type": "code",
   "execution_count": null,
   "metadata": {},
   "outputs": [],
   "source": [
    "z_image = solver.solver.results[\"v\"].view(torch.complex64).reshape(shape)"
   ]
  },
  {
   "cell_type": "code",
   "execution_count": null,
   "metadata": {},
   "outputs": [],
   "source": [
    "MultiPlotter(\n",
    "    np.abs(z_image[..., 0, 0, :, :]),\n",
    "    (nTE, nTI),\n",
    "    axis=(3, 2),\n",
    "    fig=plt.figure(figsize=(10, 6)),\n",
    "    cmap=\"gray\",\n",
    "#     vmin=0,\n",
    "#     vmax=20,\n",
    "    cbar_size=\"2.5%\",\n",
    "    cbar_pad=0.1,\n",
    ")"
   ]
  },
  {
   "cell_type": "code",
   "execution_count": null,
   "metadata": {},
   "outputs": [],
   "source": [
    "with h5py.File(full_h5_image_fname, \"w\", libver='latest') as h5_preproc_file:\n",
    "    dset = h5_preproc_file.create_dataset(\"x\", data=z_image, chunks=(nX, nY, nZ, 1, 1, 1))"
   ]
  },
  {
   "cell_type": "code",
   "execution_count": null,
   "metadata": {},
   "outputs": [],
   "source": [
    "# plt.savefig(os.path.join(filepath, 'reconstruction_idea.png'), dpi=1200, transparent=True)"
   ]
  },
  {
   "cell_type": "code",
   "execution_count": null,
   "metadata": {},
   "outputs": [],
   "source": []
  }
 ],
 "metadata": {
  "kernelspec": {
   "display_name": "base",
   "language": "python",
   "name": "python3"
  },
  "language_info": {
   "codemirror_mode": {
    "name": "ipython",
    "version": 3
   },
   "file_extension": ".py",
   "mimetype": "text/x-python",
   "name": "python",
   "nbconvert_exporter": "python",
   "pygments_lexer": "ipython3",
   "version": "3.12.10"
  }
 },
 "nbformat": 4,
 "nbformat_minor": 4
}
