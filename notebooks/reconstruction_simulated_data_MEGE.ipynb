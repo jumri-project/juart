{
 "cells": [
  {
   "cell_type": "markdown",
   "metadata": {
    "editable": true,
    "slideshow": {
     "slide_type": ""
    },
    "tags": []
   },
   "source": [
    "# Accelerated Parameter Mapping of Multiple-Echo Gradient-Echo Data Using Model-Based Iterative Reconstruction"
   ]
  },
  {
   "cell_type": "markdown",
   "metadata": {},
   "source": [
    "*M. Zimmermann, Z. Abbas, K. Dzieciol and N. J. Shah, \"Accelerated Parameter Mapping of Multiple-Echo Gradient-Echo Data Using Model-Based Iterative Reconstruction,\" in IEEE Transactions on Medical Imaging, vol. 37, no. 2, pp. 626-637, Feb. 2018, doi: 10.1109/TMI.2017.2771504.*"
   ]
  },
  {
   "cell_type": "markdown",
   "metadata": {},
   "source": [
    "# Load data"
   ]
  },
  {
   "cell_type": "code",
   "execution_count": 1,
   "metadata": {
    "editable": true,
    "slideshow": {
     "slide_type": ""
    },
    "tags": []
   },
   "outputs": [
    {
     "data": {
      "text/plain": [
       "torch.autograd.grad_mode.set_grad_enabled(mode=False)"
      ]
     },
     "execution_count": 1,
     "metadata": {},
     "output_type": "execute_result"
    }
   ],
   "source": [
    "%load_ext autoreload\n",
    "%autoreload 2\n",
    "# %matplotlib widget\n",
    "\n",
    "import os\n",
    "import sys\n",
    "\n",
    "sys.path.insert(0, \"../src\")\n",
    "\n",
    "import h5py\n",
    "import matplotlib.pyplot as plt\n",
    "import numpy as np\n",
    "import torch\n",
    "\n",
    "from juart.conopt.functional.fourier import nonuniform_fourier_transform_adjoint\n",
    "from juart.conopt.tfs.fourier import nonuniform_transfer_function\n",
    "from juart.recon.mirage import MIRAGE\n",
    "from juart.recon.monitoring import ConvergenceMonitor\n",
    "from juart.vis import MultiPlotter\n",
    "\n",
    "torch.set_num_threads(16)\n",
    "torch.set_grad_enabled(False)"
   ]
  },
  {
   "cell_type": "markdown",
   "metadata": {},
   "source": [
    "## Load sequence parameters"
   ]
  },
  {
   "cell_type": "code",
   "execution_count": 2,
   "metadata": {},
   "outputs": [],
   "source": [
    "with h5py.File(os.path.join('..', 'LocalData', 'Simulations', 'mege_info.h5'), 'r') as f:\n",
    "    num_spokes = f['num_spokes'][...]\n",
    "    num_echoes = f['num_echoes'][...]\n",
    "    num_partitions_per_block = f['num_partitions_per_block'][...]\n",
    "    num_autocalibration_lines = f['num_autocalibration_lines'][...]\n",
    "    acceleration_factor = f['acceleration_factor'][...]\n",
    "    matrix_size = f['matrix_size'][...]\n",
    "    readout_bandwidth = f['readout_bandwidth'][...]\n",
    "    dTE = f['dTE'][...]\n",
    "    TE0 = f['TE0'][...]"
   ]
  },
  {
   "cell_type": "code",
   "execution_count": 3,
   "metadata": {
    "tags": [
     "parameters"
    ]
   },
   "outputs": [
    {
     "name": "stdout",
     "output_type": "stream",
     "text": [
      "Number of spokes: 32\n",
      "Center slice number: 5\n"
     ]
    }
   ],
   "source": [
    "nUS = num_spokes\n",
    "iS = matrix_size[2]//2 - 1\n",
    "# iS = 0\n",
    "\n",
    "print(f\"Number of spokes: {nUS}\")\n",
    "print(f\"Center slice number: {iS}\")"
   ]
  },
  {
   "cell_type": "code",
   "execution_count": 8,
   "metadata": {
    "editable": true,
    "slideshow": {
     "slide_type": ""
    },
    "tags": []
   },
   "outputs": [],
   "source": [
    "filepath = '/workspaces/juart-dev'\n",
    "# filepath = '/home/jovyan/juart-dev'\n",
    "h5_preproc_fname = os.path.join('LocalData', 'Simulations','mege_grappa_pytorch.h5')\n",
    "h5_image_fname =  os.path.join('LocalData', 'Simulations','mz_me_mpnrage3d_grappa_%s_%s.h5' % (iS, nUS))"
   ]
  },
  {
   "cell_type": "code",
   "execution_count": 9,
   "metadata": {
    "tags": []
   },
   "outputs": [],
   "source": [
    "full_h5_preproc_fname = os.path.join(filepath, h5_preproc_fname)\n",
    "full_h5_image_fname = os.path.join(filepath, h5_image_fname)"
   ]
  },
  {
   "cell_type": "code",
   "execution_count": 10,
   "metadata": {
    "editable": true,
    "slideshow": {
     "slide_type": ""
    },
    "tags": []
   },
   "outputs": [
    {
     "name": "stdout",
     "output_type": "stream",
     "text": [
      "/workspaces/juart-dev/LocalData/Simulations/mege_grappa_pytorch.h5\n",
      "/workspaces/juart-dev/LocalData/Simulations/mz_me_mpnrage3d_grappa_5_32.h5\n"
     ]
    }
   ],
   "source": [
    "print(full_h5_preproc_fname)\n",
    "print(full_h5_image_fname)"
   ]
  },
  {
   "cell_type": "code",
   "execution_count": 11,
   "metadata": {
    "editable": true,
    "slideshow": {
     "slide_type": ""
    },
    "tags": []
   },
   "outputs": [
    {
     "name": "stdout",
     "output_type": "stream",
     "text": [
      "Reconstructing slice 5 of 12.\n"
     ]
    }
   ],
   "source": [
    "with h5py.File(\n",
    "    full_h5_preproc_fname,\n",
    "    \"r\",\n",
    "    libver=\"latest\",\n",
    "    swmr=True,\n",
    ") as h5_preproc_file:\n",
    "    nC, nX, nY, nZ, nS = h5_preproc_file[\"C\"].shape[:5]\n",
    "    nC, spokes, baseresolution, nZ, nS, nTI, nTE = h5_preproc_file[\"d\"].shape\n",
    "\n",
    "    shape = (nX, nY, nZ, 1, nTI, nTE)\n",
    "\n",
    "    print(\"Reconstructing slice %s of %s.\" % (iS, nS))\n",
    "\n",
    "    nK = baseresolution * nUS\n",
    "\n",
    "    # Read data\n",
    "    C = h5_preproc_file[\"C\"][:, :, :, :, iS : iS + 1, :, :]\n",
    "    k = h5_preproc_file[\"k\"][:, :nUS, :, :, :, :, :]\n",
    "    d = h5_preproc_file[\"d\"][:, :nUS, :, :, iS : iS + 1, :, :] / 1e3 / 50\n",
    "\n",
    "    # nC = 1\n",
    "\n",
    "    k = k.reshape((2, nK, 1, nTI, nTE))\n",
    "    d = d.reshape((nC, nK, 1, nTI, nTE))\n",
    "\n",
    "    C = torch.tensor(C, dtype=torch.complex64)\n",
    "    k = torch.tensor(k, dtype=torch.float32)\n",
    "    d = torch.tensor(d, dtype=torch.complex64)"
   ]
  },
  {
   "cell_type": "code",
   "execution_count": 12,
   "metadata": {},
   "outputs": [
    {
     "data": {
      "text/plain": [
       "<juart.vis.MultiPlotter at 0xffff4d9ad4c0>"
      ]
     },
     "execution_count": 12,
     "metadata": {},
     "output_type": "execute_result"
    },
    {
     "data": {
      "image/png": "[encoded data removed]",
      "text/plain": [
       "<Figure size 1000x300 with 2 Axes>"
      ]
     },
     "metadata": {},
     "output_type": "display_data"
    }
   ],
   "source": [
    "MultiPlotter(\n",
    "    np.abs(C[..., 0, 0].numpy()),\n",
    "    (1, nC),\n",
    "    axis=0,\n",
    "    fig=plt.figure(figsize=(10, 3)),\n",
    "    cbar_size=\"2.5%\",\n",
    "    cbar_pad=0.1,\n",
    ")"
   ]
  },
  {
   "cell_type": "code",
   "execution_count": 13,
   "metadata": {},
   "outputs": [
    {
     "data": {
      "text/plain": [
       "<juart.vis.MultiPlotter at 0xffff4d9f7f20>"
      ]
     },
     "execution_count": 13,
     "metadata": {},
     "output_type": "execute_result"
    },
    {
     "data": {
      "image/png": "[encoded data removed]",
      "text/plain": [
       "<Figure size 1000x300 with 2 Axes>"
      ]
     },
     "metadata": {},
     "output_type": "display_data"
    }
   ],
   "source": [
    "MultiPlotter(\n",
    "    np.angle(C[..., 0, 0].numpy()),\n",
    "    (1, nC),\n",
    "    axis=0,\n",
    "    fig=plt.figure(figsize=(10, 3)),\n",
    "    cbar_size=\"2.5%\",\n",
    "    cbar_pad=0.1,\n",
    ")"
   ]
  },
  {
   "cell_type": "code",
   "execution_count": 14,
   "metadata": {},
   "outputs": [],
   "source": [
    "AHd = nonuniform_fourier_transform_adjoint(\n",
    "    k,\n",
    "    d,\n",
    "    (nX, nY),\n",
    "    modeord=0,\n",
    "    isign=1,\n",
    ")\n",
    "AHd = torch.sum(torch.conj(C) * AHd, dim=0)"
   ]
  },
  {
   "cell_type": "code",
   "execution_count": 15,
   "metadata": {},
   "outputs": [],
   "source": [
    "H = nonuniform_transfer_function(k, (1, nX, nY, nZ, 1, nTI, nTE), oversampling=(2, 2))"
   ]
  },
  {
   "cell_type": "code",
   "execution_count": 16,
   "metadata": {},
   "outputs": [
    {
     "data": {
      "text/plain": [
       "<juart.vis.MultiPlotter at 0xffff4d89ff20>"
      ]
     },
     "execution_count": 16,
     "metadata": {},
     "output_type": "execute_result"
    },
    {
     "data": {
      "image/png": "[encoded data removed]",
      "text/plain": [
       "<Figure size 1000x600 with 2 Axes>"
      ]
     },
     "metadata": {},
     "output_type": "display_data"
    }
   ],
   "source": [
    "MultiPlotter(\n",
    "    np.abs(H[0, :, :, 0, 0, :, :].numpy()),\n",
    "    (nTE, nTI),\n",
    "    axis=(3, 2),\n",
    "    fig=plt.figure(figsize=(10, 6)),\n",
    "    cmap=\"viridis\",\n",
    "    vmin=0,\n",
    "    vmax=1,\n",
    "    cbar_size=\"2.5%\",\n",
    "    cbar_pad=0.1,\n",
    ")"
   ]
  },
  {
   "cell_type": "code",
   "execution_count": 17,
   "metadata": {},
   "outputs": [
    {
     "data": {
      "text/plain": [
       "<juart.vis.MultiPlotter at 0xffff4d8acc20>"
      ]
     },
     "execution_count": 17,
     "metadata": {},
     "output_type": "execute_result"
    },
    {
     "data": {
      "image/png": "[encoded data removed]",
      "text/plain": [
       "<Figure size 1000x600 with 2 Axes>"
      ]
     },
     "metadata": {},
     "output_type": "display_data"
    }
   ],
   "source": [
    "MultiPlotter(\n",
    "    np.abs(AHd[:, :, 0, 0, :, :].numpy()),\n",
    "    (nTE, nTI),\n",
    "    axis=(3, 2),\n",
    "    fig=plt.figure(figsize=(10, 6)),\n",
    "    cmap=\"gray\",\n",
    "#     vmin=0,\n",
    "#     vmax=0.0125,\n",
    "    cbar_size=\"2.5%\",\n",
    "    cbar_pad=0.1,\n",
    ")"
   ]
  },
  {
   "cell_type": "code",
   "execution_count": 18,
   "metadata": {},
   "outputs": [
    {
     "data": {
      "text/plain": [
       "<juart.vis.MultiPlotter at 0xffff4580b0b0>"
      ]
     },
     "execution_count": 18,
     "metadata": {},
     "output_type": "execute_result"
    },
    {
     "data": {
      "image/png": "[encoded data removed]",
      "text/plain": [
       "<Figure size 1000x600 with 2 Axes>"
      ]
     },
     "metadata": {},
     "output_type": "display_data"
    }
   ],
   "source": [
    "MultiPlotter(\n",
    "    np.angle(AHd[..., 0, 0, :, :].numpy()),\n",
    "    (nTE, nTI),\n",
    "    axis=(3, 2),\n",
    "    fig=plt.figure(figsize=(10, 6)),\n",
    "    cmap=\"gray\",\n",
    "    vmin=-np.pi,\n",
    "    vmax=np.pi,\n",
    "    cbar_size=\"2.5%\",\n",
    "    cbar_pad=0.1,\n",
    ")"
   ]
  },
  {
   "cell_type": "code",
   "execution_count": 19,
   "metadata": {},
   "outputs": [
    {
     "name": "stdout",
     "output_type": "stream",
     "text": [
      "[Convergence Monitor] Initialization complete.\n"
     ]
    }
   ],
   "source": [
    "support = torch.abs(C).max(dim=0).values > 0\n",
    "\n",
    "cm = ConvergenceMonitor(support + torch.zeros(shape), support, logfile=None)\n",
    "\n",
    "solver = MIRAGE(\n",
    "    C[..., 0, 0],\n",
    "    AHd,\n",
    "    H,\n",
    "    lambda_wavelet=1e-3,\n",
    "    lambda_hankel=None,\n",
    "    lambda_casorati=None,\n",
    "    weight_wavelet=1,\n",
    "    weight_hankel=0.5,\n",
    "    weight_casorati=0.5,\n",
    "    cg_maxiter=5,\n",
    "    admm_maxiter=30,\n",
    "    callback=cm.callback,\n",
    ")"
   ]
  },
  {
   "cell_type": "code",
   "execution_count": 20,
   "metadata": {
    "tags": []
   },
   "outputs": [
    {
     "name": "stderr",
     "output_type": "stream",
     "text": [
      "[ADMM] Iter: 00 Prim Res: NAN Dual Res: NAN Rel Res: NAN:   3%|▎         | 1/30 [00:00<00:12,  2.31it/s]"
     ]
    },
    {
     "name": "stdout",
     "output_type": "stream",
     "text": [
      "[Convergence Monitor] Norm:        nan \t Time per Iteration:  0.000e+00\n"
     ]
    },
    {
     "name": "stderr",
     "output_type": "stream",
     "text": [
      "[ADMM] Iter: 01 Prim Res: NAN Dual Res: NAN Rel Res: NAN:   7%|▋         | 2/30 [00:00<00:11,  2.37it/s]"
     ]
    },
    {
     "name": "stdout",
     "output_type": "stream",
     "text": [
      "[Convergence Monitor] Norm:        nan \t Time per Iteration:  4.129e-01\n"
     ]
    },
    {
     "name": "stderr",
     "output_type": "stream",
     "text": [
      "[ADMM] Iter: 02 Prim Res: NAN Dual Res: NAN Rel Res: NAN:  10%|█         | 3/30 [00:01<00:11,  2.38it/s]"
     ]
    },
    {
     "name": "stdout",
     "output_type": "stream",
     "text": [
      "[Convergence Monitor] Norm:        nan \t Time per Iteration:  4.175e-01\n"
     ]
    },
    {
     "name": "stderr",
     "output_type": "stream",
     "text": [
      "[ADMM] Iter: 03 Prim Res: NAN Dual Res: NAN Rel Res: NAN:  13%|█▎        | 4/30 [00:01<00:11,  2.35it/s]"
     ]
    },
    {
     "name": "stdout",
     "output_type": "stream",
     "text": [
      "[Convergence Monitor] Norm:        nan \t Time per Iteration:  4.374e-01\n"
     ]
    },
    {
     "name": "stderr",
     "output_type": "stream",
     "text": [
      "[ADMM] Iter: 04 Prim Res: NAN Dual Res: NAN Rel Res: NAN:  17%|█▋        | 5/30 [00:02<00:10,  2.35it/s]"
     ]
    },
    {
     "name": "stdout",
     "output_type": "stream",
     "text": [
      "[Convergence Monitor] Norm:        nan \t Time per Iteration:  4.260e-01\n"
     ]
    },
    {
     "name": "stderr",
     "output_type": "stream",
     "text": [
      "[ADMM] Iter: 05 Prim Res: NAN Dual Res: NAN Rel Res: NAN:  20%|██        | 6/30 [00:02<00:10,  2.33it/s]"
     ]
    },
    {
     "name": "stdout",
     "output_type": "stream",
     "text": [
      "[Convergence Monitor] Norm:        nan \t Time per Iteration:  4.333e-01\n"
     ]
    },
    {
     "name": "stderr",
     "output_type": "stream",
     "text": [
      "[ADMM] Iter: 06 Prim Res: NAN Dual Res: NAN Rel Res: NAN:  23%|██▎       | 7/30 [00:02<00:09,  2.33it/s]"
     ]
    },
    {
     "name": "stdout",
     "output_type": "stream",
     "text": [
      "[Convergence Monitor] Norm:        nan \t Time per Iteration:  4.321e-01\n"
     ]
    },
    {
     "name": "stderr",
     "output_type": "stream",
     "text": [
      "[ADMM] Iter: 07 Prim Res: NAN Dual Res: NAN Rel Res: NAN:  27%|██▋       | 8/30 [00:03<00:09,  2.32it/s]"
     ]
    },
    {
     "name": "stdout",
     "output_type": "stream",
     "text": [
      "[Convergence Monitor] Norm:        nan \t Time per Iteration:  4.347e-01\n"
     ]
    },
    {
     "name": "stderr",
     "output_type": "stream",
     "text": [
      "[ADMM] Iter: 08 Prim Res: NAN Dual Res: NAN Rel Res: NAN:  30%|███       | 9/30 [00:03<00:09,  2.33it/s]"
     ]
    },
    {
     "name": "stdout",
     "output_type": "stream",
     "text": [
      "[Convergence Monitor] Norm:        nan \t Time per Iteration:  4.272e-01\n"
     ]
    },
    {
     "name": "stderr",
     "output_type": "stream",
     "text": [
      "[ADMM] Iter: 09 Prim Res: NAN Dual Res: NAN Rel Res: NAN:  33%|███▎      | 10/30 [00:04<00:08,  2.32it/s]"
     ]
    },
    {
     "name": "stdout",
     "output_type": "stream",
     "text": [
      "[Convergence Monitor] Norm:        nan \t Time per Iteration:  4.326e-01\n"
     ]
    },
    {
     "name": "stderr",
     "output_type": "stream",
     "text": [
      "[ADMM] Iter: 10 Prim Res: NAN Dual Res: NAN Rel Res: NAN:  37%|███▋      | 11/30 [00:04<00:08,  2.33it/s]"
     ]
    },
    {
     "name": "stdout",
     "output_type": "stream",
     "text": [
      "[Convergence Monitor] Norm:        nan \t Time per Iteration:  4.228e-01\n"
     ]
    },
    {
     "name": "stderr",
     "output_type": "stream",
     "text": [
      "[ADMM] Iter: 11 Prim Res: NAN Dual Res: NAN Rel Res: NAN:  40%|████      | 12/30 [00:05<00:07,  2.34it/s]"
     ]
    },
    {
     "name": "stdout",
     "output_type": "stream",
     "text": [
      "[Convergence Monitor] Norm:        nan \t Time per Iteration:  4.270e-01\n"
     ]
    },
    {
     "name": "stderr",
     "output_type": "stream",
     "text": [
      "[ADMM] Iter: 12 Prim Res: NAN Dual Res: NAN Rel Res: NAN:  43%|████▎     | 13/30 [00:05<00:07,  2.36it/s]"
     ]
    },
    {
     "name": "stdout",
     "output_type": "stream",
     "text": [
      "[Convergence Monitor] Norm:        nan \t Time per Iteration:  4.147e-01\n"
     ]
    },
    {
     "name": "stderr",
     "output_type": "stream",
     "text": [
      "[ADMM] Iter: 13 Prim Res: NAN Dual Res: NAN Rel Res: NAN:  47%|████▋     | 14/30 [00:05<00:06,  2.37it/s]"
     ]
    },
    {
     "name": "stdout",
     "output_type": "stream",
     "text": [
      "[Convergence Monitor] Norm:        nan \t Time per Iteration:  4.177e-01\n"
     ]
    },
    {
     "name": "stderr",
     "output_type": "stream",
     "text": [
      "[ADMM] Iter: 14 Prim Res: NAN Dual Res: NAN Rel Res: NAN:  50%|█████     | 15/30 [00:06<00:06,  2.38it/s]"
     ]
    },
    {
     "name": "stdout",
     "output_type": "stream",
     "text": [
      "[Convergence Monitor] Norm:        nan \t Time per Iteration:  4.156e-01\n"
     ]
    },
    {
     "name": "stderr",
     "output_type": "stream",
     "text": [
      "[ADMM] Iter: 15 Prim Res: NAN Dual Res: NAN Rel Res: NAN:  53%|█████▎    | 16/30 [00:06<00:05,  2.38it/s]"
     ]
    },
    {
     "name": "stdout",
     "output_type": "stream",
     "text": [
      "[Convergence Monitor] Norm:        nan \t Time per Iteration:  4.186e-01\n"
     ]
    },
    {
     "name": "stderr",
     "output_type": "stream",
     "text": [
      "[ADMM] Iter: 16 Prim Res: NAN Dual Res: NAN Rel Res: NAN:  57%|█████▋    | 17/30 [00:07<00:05,  2.35it/s]"
     ]
    },
    {
     "name": "stdout",
     "output_type": "stream",
     "text": [
      "[Convergence Monitor] Norm:        nan \t Time per Iteration:  4.358e-01\n"
     ]
    },
    {
     "name": "stderr",
     "output_type": "stream",
     "text": [
      "[ADMM] Iter: 17 Prim Res: NAN Dual Res: NAN Rel Res: NAN:  60%|██████    | 18/30 [00:07<00:05,  2.38it/s]"
     ]
    },
    {
     "name": "stdout",
     "output_type": "stream",
     "text": [
      "[Convergence Monitor] Norm:        nan \t Time per Iteration:  4.101e-01\n"
     ]
    },
    {
     "name": "stderr",
     "output_type": "stream",
     "text": [
      "[ADMM] Iter: 18 Prim Res: NAN Dual Res: NAN Rel Res: NAN:  63%|██████▎   | 19/30 [00:08<00:04,  2.38it/s]"
     ]
    },
    {
     "name": "stdout",
     "output_type": "stream",
     "text": [
      "[Convergence Monitor] Norm:        nan \t Time per Iteration:  4.171e-01\n"
     ]
    },
    {
     "name": "stderr",
     "output_type": "stream",
     "text": [
      "[ADMM] Iter: 19 Prim Res: NAN Dual Res: NAN Rel Res: NAN:  67%|██████▋   | 20/30 [00:08<00:04,  2.39it/s]"
     ]
    },
    {
     "name": "stdout",
     "output_type": "stream",
     "text": [
      "[Convergence Monitor] Norm:        nan \t Time per Iteration:  4.144e-01\n"
     ]
    },
    {
     "name": "stderr",
     "output_type": "stream",
     "text": [
      "[ADMM] Iter: 20 Prim Res: NAN Dual Res: NAN Rel Res: NAN:  70%|███████   | 21/30 [00:08<00:03,  2.40it/s]"
     ]
    },
    {
     "name": "stdout",
     "output_type": "stream",
     "text": [
      "[Convergence Monitor] Norm:        nan \t Time per Iteration:  4.157e-01\n"
     ]
    },
    {
     "name": "stderr",
     "output_type": "stream",
     "text": [
      "[ADMM] Iter: 21 Prim Res: NAN Dual Res: NAN Rel Res: NAN:  73%|███████▎  | 22/30 [00:09<00:03,  2.40it/s]"
     ]
    },
    {
     "name": "stdout",
     "output_type": "stream",
     "text": [
      "[Convergence Monitor] Norm:        nan \t Time per Iteration:  4.135e-01\n"
     ]
    },
    {
     "name": "stderr",
     "output_type": "stream",
     "text": [
      "[ADMM] Iter: 22 Prim Res: NAN Dual Res: NAN Rel Res: NAN:  77%|███████▋  | 23/30 [00:09<00:02,  2.40it/s]"
     ]
    },
    {
     "name": "stdout",
     "output_type": "stream",
     "text": [
      "[Convergence Monitor] Norm:        nan \t Time per Iteration:  4.185e-01\n"
     ]
    },
    {
     "name": "stderr",
     "output_type": "stream",
     "text": [
      "[ADMM] Iter: 23 Prim Res: NAN Dual Res: NAN Rel Res: NAN:  80%|████████  | 24/30 [00:10<00:02,  2.40it/s]"
     ]
    },
    {
     "name": "stdout",
     "output_type": "stream",
     "text": [
      "[Convergence Monitor] Norm:        nan \t Time per Iteration:  4.157e-01\n"
     ]
    },
    {
     "name": "stderr",
     "output_type": "stream",
     "text": [
      "[ADMM] Iter: 24 Prim Res: NAN Dual Res: NAN Rel Res: NAN:  83%|████████▎ | 25/30 [00:10<00:02,  2.40it/s]"
     ]
    },
    {
     "name": "stdout",
     "output_type": "stream",
     "text": [
      "[Convergence Monitor] Norm:        nan \t Time per Iteration:  4.161e-01\n"
     ]
    },
    {
     "name": "stderr",
     "output_type": "stream",
     "text": [
      "[ADMM] Iter: 25 Prim Res: NAN Dual Res: NAN Rel Res: NAN:  87%|████████▋ | 26/30 [00:10<00:01,  2.39it/s]"
     ]
    },
    {
     "name": "stdout",
     "output_type": "stream",
     "text": [
      "[Convergence Monitor] Norm:        nan \t Time per Iteration:  4.213e-01\n"
     ]
    },
    {
     "name": "stderr",
     "output_type": "stream",
     "text": [
      "[ADMM] Iter: 26 Prim Res: NAN Dual Res: NAN Rel Res: NAN:  90%|█████████ | 27/30 [00:11<00:01,  2.37it/s]"
     ]
    },
    {
     "name": "stdout",
     "output_type": "stream",
     "text": [
      "[Convergence Monitor] Norm:        nan \t Time per Iteration:  4.291e-01\n"
     ]
    },
    {
     "name": "stderr",
     "output_type": "stream",
     "text": [
      "[ADMM] Iter: 27 Prim Res: NAN Dual Res: NAN Rel Res: NAN:  93%|█████████▎| 28/30 [00:11<00:00,  2.35it/s]"
     ]
    },
    {
     "name": "stdout",
     "output_type": "stream",
     "text": [
      "[Convergence Monitor] Norm:        nan \t Time per Iteration:  4.335e-01\n"
     ]
    },
    {
     "name": "stderr",
     "output_type": "stream",
     "text": [
      "[ADMM] Iter: 28 Prim Res: NAN Dual Res: NAN Rel Res: NAN:  97%|█████████▋| 29/30 [00:12<00:00,  2.37it/s]"
     ]
    },
    {
     "name": "stdout",
     "output_type": "stream",
     "text": [
      "[Convergence Monitor] Norm:        nan \t Time per Iteration:  4.184e-01\n"
     ]
    },
    {
     "name": "stderr",
     "output_type": "stream",
     "text": [
      "[ADMM] Iter: 29 Prim Res: NAN Dual Res: NAN Rel Res: NAN: 100%|██████████| 30/30 [00:12<00:00,  2.36it/s]"
     ]
    },
    {
     "name": "stdout",
     "output_type": "stream",
     "text": [
      "[Convergence Monitor] Norm:        nan \t Time per Iteration:  4.409e-01\n"
     ]
    },
    {
     "name": "stderr",
     "output_type": "stream",
     "text": [
      "\n"
     ]
    },
    {
     "data": {
      "text/plain": [
       "tensor([nan, nan, nan,  ..., nan, nan, nan])"
      ]
     },
     "execution_count": 20,
     "metadata": {},
     "output_type": "execute_result"
    }
   ],
   "source": [
    "# Run MIRAGE reconstruction\n",
    "solver.solve()"
   ]
  },
  {
   "cell_type": "code",
   "execution_count": 21,
   "metadata": {},
   "outputs": [],
   "source": [
    "z_image = solver.solver.results[\"v\"].view(torch.complex64).reshape(shape)"
   ]
  },
  {
   "cell_type": "code",
   "execution_count": 22,
   "metadata": {},
   "outputs": [
    {
     "name": "stderr",
     "output_type": "stream",
     "text": [
      "/tmp/ipykernel_10825/2121847719.py:2: DeprecationWarning: __array_wrap__ must accept context and return_scalar arguments (positionally) in the future. (Deprecated NumPy 2.0)\n",
      "  np.abs(z_image[..., 0, 0, :, :]),\n"
     ]
    },
    {
     "data": {
      "text/plain": [
       "<juart.vis.MultiPlotter at 0xffff4462db50>"
      ]
     },
     "execution_count": 22,
     "metadata": {},
     "output_type": "execute_result"
    },
    {
     "data": {
      "image/png": "[encoded data removed]",
      "text/plain": [
       "<Figure size 1000x600 with 2 Axes>"
      ]
     },
     "metadata": {},
     "output_type": "display_data"
    }
   ],
   "source": [
    "MultiPlotter(\n",
    "    np.abs(z_image[..., 0, 0, :, :]),\n",
    "    (nTE, nTI),\n",
    "    axis=(3, 2),\n",
    "    fig=plt.figure(figsize=(10, 6)),\n",
    "    cmap=\"gray\",\n",
    "#     vmin=0,\n",
    "#     vmax=20,\n",
    "    cbar_size=\"2.5%\",\n",
    "    cbar_pad=0.1,\n",
    ")"
   ]
  },
  {
   "cell_type": "code",
   "execution_count": 23,
   "metadata": {},
   "outputs": [],
   "source": [
    "with h5py.File(full_h5_image_fname, \"w\", libver='latest') as h5_preproc_file:\n",
    "    dset = h5_preproc_file.create_dataset(\"x\", data=z_image, chunks=(nX, nY, nZ, 1, 1, 1))"
   ]
  },
  {
   "cell_type": "code",
   "execution_count": 24,
   "metadata": {},
   "outputs": [],
   "source": [
    "# plt.savefig(os.path.join(filepath, 'reconstruction_MR0.png'), dpi=1200, transparent=True)"
   ]
  },
  {
   "cell_type": "code",
   "execution_count": null,
   "metadata": {},
   "outputs": [],
   "source": []
  }
 ],
 "metadata": {
  "kernelspec": {
   "display_name": "base",
   "language": "python",
   "name": "python3"
  },
  "language_info": {
   "codemirror_mode": {
    "name": "ipython",
    "version": 3
   },
   "file_extension": ".py",
   "mimetype": "text/x-python",
   "name": "python",
   "nbconvert_exporter": "python",
   "pygments_lexer": "ipython3",
   "version": "3.12.11"
  }
 },
 "nbformat": 4,
 "nbformat_minor": 4
}
