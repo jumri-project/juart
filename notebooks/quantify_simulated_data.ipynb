{
 "cells": [
  {
   "cell_type": "markdown",
   "id": "fcd960d4-5521-4950-a153-650cd5b88eed",
   "metadata": {},
   "source": [
    "# Parameter estimation\n",
    "Tailored to work with the data produced after running the following notbooks:\n",
    "* Simulate_QRAGE_with_MRZERO.ipynb\n",
    "* preprocessing_simulated_data.ipynb\n",
    "* reconstruction_simulated_data.ipynb"
   ]
  },
  {
   "cell_type": "code",
   "execution_count": 1,
   "id": "54ffeea4",
   "metadata": {},
   "outputs": [],
   "source": [
    "# check for dependencies\n",
    "import importlib.util\n",
    "\n",
    "packages = ['joblib', 'git']\n",
    "for package in packages:\n",
    "    spec = importlib.util.find_spec(package)\n",
    "    if (spec==None):\n",
    "        print('Need to isntall package {}.'.format(package))\n",
    "        if package=='joblib':\n",
    "            %pip install joblib\n",
    "        elif package=='git':\n",
    "            %pip install gitpython"
   ]
  },
  {
   "cell_type": "code",
   "execution_count": 2,
   "id": "c68e76a7",
   "metadata": {},
   "outputs": [],
   "source": [
    "import os\n",
    "import git\n",
    "\n",
    "# clone qrage, if not present\n",
    "if( not os.path.isdir('../qrage') ):\n",
    "    print('qrage not installed, cloning ...')\n",
    "    git.Git('../').clone('https://jugit.fz-juelich.de/inm-4/mr/qrage.git')\n",
    "\n",
    "# clone parameter estimation, if not present\n",
    "if( not os.path.isdir('../parameter-estimation') ):\n",
    "    print('parameter-estimation not installed, cloning ...')\n",
    "    git.Git('../').clone('https://jugit.fz-juelich.de/inm-4/mr/parameter-estimation.git')"
   ]
  },
  {
   "cell_type": "code",
   "execution_count": 3,
   "id": "c29a4b91-5f16-4292-9fbc-ff62a397d387",
   "metadata": {},
   "outputs": [],
   "source": [
    "%load_ext autoreload\n",
    "%autoreload 2\n",
    "# %matplotlib widget\n",
    "\n",
    "import sys\n",
    "\n",
    "sys.path.insert(0, \"../src\")\n",
    "sys.path.insert(0, '../qrage')\n",
    "sys.path.insert(0, '../parameter-estimation')\n",
    "\n",
    "from qrage.sequence.qrage import QRAGE\n",
    "\n",
    "import h5py\n",
    "\n",
    "import matplotlib.pyplot as plt\n",
    "import numpy as np\n",
    "# import pypulseq as pp\n",
    "\n",
    "# from types import SimpleNamespace\n",
    "from scipy.ndimage import binary_fill_holes\n",
    "\n",
    "from juart.vis import MultiPlotter\n",
    "\n",
    "from parest.relaxometry.lm2d import lm_2D_VP"
   ]
  },
  {
   "cell_type": "markdown",
   "id": "598f4a83-fef9-4087-9585-222d6d038de3",
   "metadata": {},
   "source": [
    "## Load Sequence Parameter"
   ]
  },
  {
   "cell_type": "code",
   "execution_count": 4,
   "id": "c2ceda00",
   "metadata": {},
   "outputs": [],
   "source": [
    "with h5py.File(os.path.join('..', 'LocalData', 'Simulations', 'qrage_info.h5'), 'r') as f:\n",
    "    num_spokes = f['num_spokes'][...]\n",
    "    num_sets = f['num_sets'][...]\n",
    "    num_echoes = f['num_echoes'][...]\n",
    "    num_partitions_per_block = f['num_partitions_per_block'][...]\n",
    "    num_autocalibration_lines = f['num_autocalibration_lines'][...]\n",
    "    acceleration_factor = f['acceleration_factor'][...]\n",
    "    matrix_size = f['matrix_size'][...]\n",
    "    readout_bandwidth = f['readout_bandwidth'][...]\n",
    "    dTI = f['dTI'][...]\n",
    "    TI0 = f['TI0'][...]\n",
    "    dTE = f['dTE'][...]\n",
    "    TE0 = f['TE0'][...]\n",
    "    TR = f['TR'][...]"
   ]
  },
  {
   "cell_type": "markdown",
   "id": "3803dd4a-26e5-45b5-a744-1a64195fafb8",
   "metadata": {},
   "source": [
    "## Load Reonstructed Image"
   ]
  },
  {
   "cell_type": "code",
   "execution_count": 5,
   "id": "13cdc853-730c-4b37-8970-fcae6bcbe464",
   "metadata": {},
   "outputs": [],
   "source": [
    "nUS = num_spokes\n",
    "iS = matrix_size[2]//2"
   ]
  },
  {
   "cell_type": "code",
   "execution_count": 6,
   "id": "d5117869-884a-4240-ac84-c538b1b7b7d8",
   "metadata": {},
   "outputs": [],
   "source": [
    "filepath = '/workspaces/juart-dev'\n",
    "# filepath = '/home/jovyan/juart-dev'\n",
    "h5_image_fname =  os.path.join(filepath, 'LocalData', 'Simulations','mz_me_mpnrage3d_grappa_%s_%s.h5' % (iS, nUS))"
   ]
  },
  {
   "cell_type": "code",
   "execution_count": 7,
   "id": "abaabb00-7eab-4a1e-9452-ef606d367588",
   "metadata": {},
   "outputs": [],
   "source": [
    "with h5py.File(h5_image_fname, \"r\", libver=\"latest\", swmr=True) as h5_image_file:\n",
    "    z_image = h5_image_file[\"x\"][...]"
   ]
  },
  {
   "cell_type": "markdown",
   "id": "4a8be097-1642-434d-bf03-cad81cf7be5f",
   "metadata": {},
   "source": [
    "## Parameter Estimation\n",
    "Copied from \"Read_Signals.ipynb\" under \"SimulationStudies/ME_MPNRAGE\". "
   ]
  },
  {
   "cell_type": "code",
   "execution_count": 8,
   "id": "81f501f5-2fc8-446e-8be3-ea858cdd6979",
   "metadata": {},
   "outputs": [],
   "source": [
    "# Set additional parameters\n",
    "nTI = num_sets\n",
    "# dTI = qrage.dTI\n",
    "# TI0 = qrage.TI0\n",
    "nTE = num_echoes\n",
    "# dTE = qrage.dTE\n",
    "# TE0 = qrage.TE0\n",
    "FA = 5                   # This is currently fixed int the qrage sequence"
   ]
  },
  {
   "cell_type": "code",
   "execution_count": 9,
   "id": "4402f294-bf27-40d0-b206-2ccb94656ad4",
   "metadata": {},
   "outputs": [
    {
     "name": "stdout",
     "output_type": "stream",
     "text": [
      "Number of inversions = 9\n",
      "Inversion time TI0 = 55.91\n",
      "Delta inversion time DTI = 102.00000000000006\n",
      "Number of contrasts = 3\n",
      "Echo time TE0 = 4.525000000000002\n",
      "Delta echo time DTE = 7.850000000000001\n",
      "Excitation flip ange FA = 5\n"
     ]
    }
   ],
   "source": [
    "print('Number of inversions = {}'.format(nTI))\n",
    "print('Inversion time TI0 = {}'.format(TI0))\n",
    "print('Delta inversion time DTI = {}'.format(dTI))\n",
    "print('Number of contrasts = {}'.format(nTE))\n",
    "print('Echo time TE0 = {}'.format(TE0))\n",
    "print('Delta echo time DTE = {}'.format(dTE))\n",
    "print('Excitation flip ange FA = {}'.format(FA))"
   ]
  },
  {
   "cell_type": "code",
   "execution_count": 10,
   "id": "357e7883-1ba1-4dcb-aa3a-e0cf8075f19c",
   "metadata": {},
   "outputs": [],
   "source": [
    "# Magic angle\n",
    "alpha = np.deg2rad(FA)"
   ]
  },
  {
   "cell_type": "code",
   "execution_count": 21,
   "id": "b2fd97d3-7b24-4954-ad78-62930ae8bd95",
   "metadata": {},
   "outputs": [],
   "source": [
    "# Create mask by thresholding\n",
    "mask = np.mean(np.abs(z_image), axis=(-2, -1)) > 0.05 * np.max(z_image)"
   ]
  },
  {
   "cell_type": "code",
   "execution_count": 22,
   "id": "944e2d56-c0de-460a-ad5e-ebd917ade246",
   "metadata": {},
   "outputs": [],
   "source": [
    "# fill potential holes in the mask\n",
    "mask = binary_fill_holes(np.squeeze(mask))\n",
    "mask = mask[:,:,np.newaxis,np.newaxis]"
   ]
  },
  {
   "cell_type": "code",
   "execution_count": 23,
   "id": "5b64fa75-adca-4f1b-ac88-cd0110f77a1c",
   "metadata": {},
   "outputs": [
    {
     "data": {
      "text/plain": [
       "<juart.vis.MultiPlotter at 0xffff46e1e8d0>"
      ]
     },
     "execution_count": 23,
     "metadata": {},
     "output_type": "execute_result"
    },
    {
     "data": {
      "image/png": "[encoded data removed]",
      "text/plain": [
       "<Figure size 640x480 with 2 Axes>"
      ]
     },
     "metadata": {},
     "output_type": "display_data"
    }
   ],
   "source": [
    "MultiPlotter(np.abs(z_image)[:,:,:,:,0,0], (1,1), axis=(2, 3), vmin=0, fig=plt.figure(), cbar=True, cmap='gray')"
   ]
  },
  {
   "cell_type": "code",
   "execution_count": 24,
   "id": "4680573d-b37f-4b80-96d3-ac77a3f6ba73",
   "metadata": {},
   "outputs": [
    {
     "data": {
      "text/plain": [
       "<juart.vis.MultiPlotter at 0xffff4c0e0500>"
      ]
     },
     "execution_count": 24,
     "metadata": {},
     "output_type": "execute_result"
    },
    {
     "data": {
      "image/png": "[encoded data removed]",
      "text/plain": [
       "<Figure size 640x480 with 2 Axes>"
      ]
     },
     "metadata": {},
     "output_type": "display_data"
    }
   ],
   "source": [
    "# MultiPlotter(np.transpose(mask,(1,0,2,3)), (1,1), axis=(2, 3), vmin=0, vmax=1, fig=plt.figure(), cbar=True, cmap='gray')\n",
    "MultiPlotter(mask, (1,1), axis=(2, 3), vmin=0, vmax=1, fig=plt.figure(), cbar=True, cmap='gray')"
   ]
  },
  {
   "cell_type": "code",
   "execution_count": 25,
   "id": "bae8c2d7-784f-4775-9bab-70750ee00477",
   "metadata": {},
   "outputs": [],
   "source": [
    "# do the parameter estimation\n",
    "ti = np.arange(nTI)[:, None] * dTI + TI0\n",
    "te = np.arange(nTE)[None, :] * dTE + TE0\n",
    "tr = TR\n",
    "m0_est, r1_est, r2_est = lm_2D_VP(z_image[:, :, :, :, :, :], ti, te, tr, constrained=True, s1=1e3, s2=1e1, t1max=1e4, t2max=1e2)"
   ]
  },
  {
   "cell_type": "code",
   "execution_count": 26,
   "id": "9a312d69-1631-4a9b-a6c7-d455c609c87f",
   "metadata": {},
   "outputs": [],
   "source": [
    "# Create estimations for T1 and T2\n",
    "R1s = r1_est.real\n",
    "R2s = r2_est.real\n",
    "FM = r2_est.imag\n",
    "MSS = np.abs(m0_est)\n",
    "# Minv = m2_est\n",
    "T1s = 1 / R1s\n",
    "T1s[~np.isfinite(T1s)] = 0  \n",
    "T2s = 1 / R2s\n",
    "T2s[~np.isfinite(T2s)] = 0"
   ]
  },
  {
   "cell_type": "code",
   "execution_count": 27,
   "id": "558eb912-7c4d-43ec-ad67-60ac03fbc031",
   "metadata": {},
   "outputs": [],
   "source": [
    "# Assume constant B1\n",
    "B1p = 1"
   ]
  },
  {
   "cell_type": "code",
   "execution_count": 28,
   "id": "37b729c9-d3ff-4407-937b-f2cbf6450942",
   "metadata": {},
   "outputs": [],
   "source": [
    "# Recreate T1 from T1*\n",
    "T1est = 1 / (np.squeeze(1/T1s) + np.log( np.cos( np.abs(B1p) * alpha )) / dTI )\n",
    "T1est = np.expand_dims(T1est, axis=(2,3))"
   ]
  },
  {
   "cell_type": "code",
   "execution_count": 32,
   "id": "ac96857b-a1ff-45ae-97c0-6d9c12cb67e1",
   "metadata": {},
   "outputs": [
    {
     "data": {
      "text/plain": [
       "<juart.vis.MultiPlotter at 0xffff4c434fb0>"
      ]
     },
     "execution_count": 32,
     "metadata": {},
     "output_type": "execute_result"
    },
    {
     "data": {
      "image/png": "[encoded data removed]",
      "text/plain": [
       "<Figure size 640x480 with 2 Axes>"
      ]
     },
     "metadata": {},
     "output_type": "display_data"
    }
   ],
   "source": [
    "MultiPlotter(T1est * mask, (1, 1), axis=(2,3), vmin=0, vmax=2000, fig=plt.figure(), cmap='inferno', cbar_label='T1* [ms]')"
   ]
  },
  {
   "cell_type": "code",
   "execution_count": 31,
   "id": "7ad321b4-2942-4cb5-95cb-ce0b4f66e4cb",
   "metadata": {},
   "outputs": [
    {
     "data": {
      "text/plain": [
       "<juart.vis.MultiPlotter at 0xffff4df63410>"
      ]
     },
     "execution_count": 31,
     "metadata": {},
     "output_type": "execute_result"
    },
    {
     "data": {
      "image/png": "[encoded data removed]",
      "text/plain": [
       "<Figure size 640x480 with 2 Axes>"
      ]
     },
     "metadata": {},
     "output_type": "display_data"
    }
   ],
   "source": [
    "MultiPlotter(T2s * mask, (1, 1), axis=(2, 3), vmin=0, vmax=30, fig=plt.figure(), cmap='inferno', cbar_label='T2* [ms]')"
   ]
  },
  {
   "cell_type": "code",
   "execution_count": null,
   "id": "54c7ba90-e379-4f45-86de-110cc95adfdc",
   "metadata": {},
   "outputs": [],
   "source": []
  },
  {
   "cell_type": "code",
   "execution_count": null,
   "id": "ec183382",
   "metadata": {},
   "outputs": [],
   "source": []
  }
 ],
 "metadata": {
  "kernelspec": {
   "display_name": "base",
   "language": "python",
   "name": "python3"
  },
  "language_info": {
   "codemirror_mode": {
    "name": "ipython",
    "version": 3
   },
   "file_extension": ".py",
   "mimetype": "text/x-python",
   "name": "python",
   "nbconvert_exporter": "python",
   "pygments_lexer": "ipython3",
   "version": "3.12.10"
  }
 },
 "nbformat": 4,
 "nbformat_minor": 5
}
