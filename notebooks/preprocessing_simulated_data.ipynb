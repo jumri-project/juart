{
 "cells": [
  {
   "cell_type": "markdown",
   "id": "fbf9b1d1",
   "metadata": {},
   "source": [
    "# Process MRZERO simulated QRAGE data\n",
    "(C) 2025 Forschungszentrum Jülich\n",
    "\n",
    "Author: Jörg Felder"
   ]
  },
  {
   "cell_type": "code",
   "execution_count": 1,
   "id": "9781b9f0",
   "metadata": {},
   "outputs": [],
   "source": [
    "import os\n",
    "import sys\n",
    "\n",
    "sys.path.insert(0, \"../src\")\n",
    "\n",
    "os.environ[\"HDF5_USE_FILE_LOCKING\"] = \"FALSE\"\n",
    "\n",
    "import ismrmrd\n",
    "import torch\n",
    "import h5py\n",
    "\n",
    "import matplotlib.pyplot as plt\n",
    "import numpy as np\n",
    "\n",
    "from juart.preproc.data import KSpaceData\n",
    "from juart.conopt.functional.fourier import fourier_transform_adjoint\n",
    "from juart.preproc.trajectory import KSpaceTrajectory\n",
    "\n",
    "torch.set_num_threads(1)"
   ]
  },
  {
   "cell_type": "code",
   "execution_count": 2,
   "id": "7fb95e45",
   "metadata": {},
   "outputs": [],
   "source": [
    "filepath = '/workspaces/juart-dev'\n",
    "# filepath = '/home/jovyan/juart-dev'"
   ]
  },
  {
   "cell_type": "code",
   "execution_count": 3,
   "id": "e0b61d0a",
   "metadata": {},
   "outputs": [],
   "source": [
    "# load ISMRMRD File\n",
    "full_h5_ismrmrd_fname = os.path.join(filepath, 'LocalData', 'Simulations', 'qrage.h5')\n",
    "dataset = ismrmrd.Dataset(\n",
    "    full_h5_ismrmrd_fname,\n",
    "    dataset_name=\"dataset\",\n",
    "    create_if_needed=False,\n",
    ")"
   ]
  },
  {
   "cell_type": "code",
   "execution_count": 9,
   "id": "18e3e123",
   "metadata": {},
   "outputs": [],
   "source": [
    "with h5py.File(os.path.join('..', 'LocalData', 'Simulations', 'qrage_info.h5'), 'r') as f:\n",
    "    num_spokes = f['num_spokes'][...]\n",
    "    num_sets = f['num_sets'][...]\n",
    "    num_echoes = f['num_echoes'][...]\n",
    "    num_partitions_per_block = f['num_partitions_per_block'][...]\n",
    "    num_autocalibration_lines = f['num_autocalibration_lines'][...]\n",
    "    acceleration_factor = f['acceleration_factor'][...]\n",
    "    matrix_size = f['matrix_size'][...]\n",
    "    readout_bandwidth = f['readout_bandwidth'][...]"
   ]
  },
  {
   "cell_type": "code",
   "execution_count": 10,
   "id": "9d518058",
   "metadata": {},
   "outputs": [],
   "source": [
    "# get shape does not work, because of mssing xml header\n",
    "# NCha, NCol, NLin, NPar, NSli, NSet, NEco = get_shape(dataset)\n",
    "\n",
    "# copied from the simulation\n",
    "# Todo read from QRAGE h5 file\n",
    "# num_spokes = 8\n",
    "# num_sets = 19\n",
    "# num_echoes = 9\n",
    "# num_partitions_per_block = 16\n",
    "# num_autocalibration_lines = 32\n",
    "# acceleration_factor = 1\n",
    "# matrix_size = np.array([256, 256, 16])\n",
    "# readout_bandwidth = 390.625"
   ]
  },
  {
   "cell_type": "code",
   "execution_count": 11,
   "id": "751fa895",
   "metadata": {},
   "outputs": [],
   "source": [
    "NCha = 1\n",
    "NCol = matrix_size[1]\n",
    "NLin = num_spokes\n",
    "NPar = matrix_size[2]\n",
    "NSli = 1\n",
    "NSet = num_sets\n",
    "NEco = num_echoes\n",
    "\n",
    "NPar_post, NSli_post = NSli, NPar\n",
    "NCha_comp, ISet_comp, IEco_comp = NCha, slice(NSet - 1, NSet), slice(0, 1)\n",
    "NImx, NImy, ISet_coil, IEco_coil = 256, 256, slice(15, 19), slice(0, 1)\n",
    "\n",
    "NAcl = num_autocalibration_lines\n",
    "NUsf = acceleration_factor\n",
    "NLin_retro = NLin"
   ]
  },
  {
   "cell_type": "code",
   "execution_count": 12,
   "id": "d516a96d",
   "metadata": {},
   "outputs": [
    {
     "name": "stdout",
     "output_type": "stream",
     "text": [
      "1 256 8 16 1 19 9\n"
     ]
    }
   ],
   "source": [
    "print(NCha, NCol, NLin, NPar, NSli, NSet, NEco)"
   ]
  },
  {
   "cell_type": "code",
   "execution_count": 13,
   "id": "18017797",
   "metadata": {},
   "outputs": [
    {
     "name": "stderr",
     "output_type": "stream",
     "text": [
      "/opt/conda/lib/python3.12/multiprocessing/popen_fork.py:66: DeprecationWarning: This process (pid=3595) is multi-threaded, use of fork() may lead to deadlocks in the child.\n",
      "  self.pid = os.fork()\n"
     ]
    },
    {
     "data": {
      "application/vnd.jupyter.widget-view+json": {
       "model_id": "223f44a5d010453e89d5d8c05a004d3a",
       "version_major": 2,
       "version_minor": 0
      },
      "text/plain": [
       "  0%|          | 0/21888 [00:00<?, ?it/s]"
      ]
     },
     "metadata": {},
     "output_type": "display_data"
    }
   ],
   "source": [
    "# load kspace\n",
    "kdata = KSpaceData((NCha, NCol, NLin, NPar, NSli, NSet, NEco))\n",
    "kdata.read_data(dataset, is_pulseq=True)"
   ]
  },
  {
   "cell_type": "code",
   "execution_count": 14,
   "id": "9988c283",
   "metadata": {},
   "outputs": [],
   "source": [
    "# Undersample along line dimension\n",
    "# Here we keep the data size unchaged as we did not oversample in the simulation\n",
    "kdata.index_data([slice(None), slice(None), slice(NLin_retro), ...])"
   ]
  },
  {
   "cell_type": "code",
   "execution_count": 15,
   "id": "ac437045",
   "metadata": {},
   "outputs": [
    {
     "data": {
      "text/plain": [
       "<matplotlib.image.AxesImage at 0xffff7207b080>"
      ]
     },
     "execution_count": 15,
     "metadata": {},
     "output_type": "execute_result"
    },
    {
     "data": {
      "image/png": "[encoded data removed]",
      "text/plain": [
       "<Figure size 640x480 with 1 Axes>"
      ]
     },
     "metadata": {},
     "output_type": "display_data"
    }
   ],
   "source": [
    "plt.figure()\n",
    "plt.imshow(torch.log(torch.abs(kdata.kdata[0, :, 0, :, 0, 0, 0]) + 1e-16).numpy())"
   ]
  },
  {
   "cell_type": "markdown",
   "id": "dfae3099",
   "metadata": {},
   "source": [
    "### Grappa"
   ]
  },
  {
   "cell_type": "code",
   "execution_count": 16,
   "id": "a2d1d7f1",
   "metadata": {},
   "outputs": [
    {
     "data": {
      "application/vnd.jupyter.widget-view+json": {
       "model_id": "0213f4a31e9347d4b00c7e364cfba120",
       "version_major": 2,
       "version_minor": 0
      },
      "text/plain": [
       "  0%|          | 0/1368 [00:00<?, ?it/s]"
      ]
     },
     "metadata": {},
     "output_type": "display_data"
    }
   ],
   "source": [
    "kdata.apply_mask(NUsf, NAcl, is_pulseq=True)\n",
    "kdata.reconstruct_partitions()"
   ]
  },
  {
   "cell_type": "markdown",
   "id": "c064a745",
   "metadata": {},
   "source": [
    "### Coil compression"
   ]
  },
  {
   "cell_type": "code",
   "execution_count": 17,
   "id": "ae81d50a",
   "metadata": {},
   "outputs": [],
   "source": [
    "# Swap Par and Sli Partition\n",
    "kdata.swapaxes(3, 4)"
   ]
  },
  {
   "cell_type": "code",
   "execution_count": 18,
   "id": "31e34429",
   "metadata": {},
   "outputs": [],
   "source": [
    "# comp_matrix = kdata.compression_matrix(NCha_comp, ISet_comp, IEco_comp)\n",
    "# kdata.compress_data(comp_matrix)"
   ]
  },
  {
   "cell_type": "code",
   "execution_count": 19,
   "id": "e81163f4",
   "metadata": {},
   "outputs": [],
   "source": [
    "# Swap Col and Lin dimension\n",
    "kdata.swapaxes(1, 2)"
   ]
  },
  {
   "cell_type": "code",
   "execution_count": 20,
   "id": "a2a628d4",
   "metadata": {},
   "outputs": [],
   "source": [
    "NCha, NLin, NCol, NPar, NSli, NSet, NEco = kdata.kdata_shape"
   ]
  },
  {
   "cell_type": "code",
   "execution_count": 21,
   "id": "ff8cd71c",
   "metadata": {},
   "outputs": [
    {
     "name": "stdout",
     "output_type": "stream",
     "text": [
      "1 256 8 1 16 19 9\n"
     ]
    }
   ],
   "source": [
    "print(NCha, NCol, NLin, NPar, NSli, NSet, NEco)"
   ]
  },
  {
   "cell_type": "code",
   "execution_count": 22,
   "id": "87cda983",
   "metadata": {},
   "outputs": [
    {
     "name": "stdout",
     "output_type": "stream",
     "text": [
      "(4/4) Creating output file ....\n"
     ]
    }
   ],
   "source": [
    "print(\"(4/4) Creating output file ....\")\n",
    "full_h5_preproc_fname = os.path.join(filepath, 'LocalData', 'Simulations','qrage_grappa_pytorch.h5')\n",
    "\n",
    "with h5py.File(full_h5_preproc_fname, \"w\", libver=\"latest\") as out_file:\n",
    "    out_file.create_dataset(\n",
    "        \"d\", data=kdata.kdata.numpy(), chunks=(NCha, NLin, NCol, 1, 1, 1, 1)\n",
    "    )"
   ]
  },
  {
   "cell_type": "code",
   "execution_count": 23,
   "id": "38a20193",
   "metadata": {},
   "outputs": [
    {
     "data": {
      "text/plain": [
       "(np.float64(-0.5), np.float64(255.5), np.float64(15.5), np.float64(-0.5))"
      ]
     },
     "execution_count": 23,
     "metadata": {},
     "output_type": "execute_result"
    },
    {
     "data": {
      "image/png": "[encoded data removed]",
      "text/plain": [
       "<Figure size 640x480 with 1 Axes>"
      ]
     },
     "metadata": {},
     "output_type": "display_data"
    }
   ],
   "source": [
    "plt.imshow(\n",
    "    torch.log(torch.abs(kdata.kdata[0, 0, :, 0, :, 0, 0].T)).numpy())\n",
    "plt.axis(\"off\")"
   ]
  },
  {
   "cell_type": "code",
   "execution_count": 24,
   "id": "0e56d44e-ff5f-4eb7-8d24-f881c4c994c1",
   "metadata": {},
   "outputs": [
    {
     "data": {
      "text/plain": [
       "<matplotlib.image.AxesImage at 0xffff2531e5a0>"
      ]
     },
     "execution_count": 24,
     "metadata": {},
     "output_type": "execute_result"
    },
    {
     "data": {
      "image/png": "[encoded data removed]",
      "text/plain": [
       "<Figure size 640x480 with 1 Axes>"
      ]
     },
     "metadata": {},
     "output_type": "display_data"
    }
   ],
   "source": [
    "plt.figure()\n",
    "plt.imshow(\n",
    "    torch.abs(\n",
    "        fourier_transform_adjoint(kdata.kdata[0, 0, :, 0, :, 0, 0], axes=(0,)).T\n",
    "    ).numpy(),\n",
    "    vmin=0,\n",
    "    vmax=100,\n",
    ")"
   ]
  },
  {
   "cell_type": "code",
   "execution_count": 25,
   "id": "c3d6dd99-af8a-4f7f-848e-fb8e7c190122",
   "metadata": {},
   "outputs": [
    {
     "name": "stdout",
     "output_type": "stream",
     "text": [
      "torch.Size([1, 8, 256, 1, 16, 19, 9])\n"
     ]
    }
   ],
   "source": [
    "print(kdata.kdata.shape)"
   ]
  },
  {
   "cell_type": "markdown",
   "id": "745d6b72",
   "metadata": {},
   "source": [
    "### Gradient delay correction - here obsolete"
   ]
  },
  {
   "cell_type": "code",
   "execution_count": 26,
   "id": "c7d251cf",
   "metadata": {},
   "outputs": [],
   "source": [
    "ktraj = KSpaceTrajectory(NLin, NCol, NSet, NEco)"
   ]
  },
  {
   "cell_type": "code",
   "execution_count": 27,
   "id": "0cad0811",
   "metadata": {},
   "outputs": [],
   "source": [
    "with h5py.File(full_h5_preproc_fname, \"r+\", libver=\"latest\") as h5_preproc_file:\n",
    "    dset = h5_preproc_file.create_dataset(\n",
    "        \"k\", data=ktraj.ktraj_nom.numpy(), chunks=(2, NLin_retro, NCol, 1, 1, 1, 1)\n",
    "    )"
   ]
  },
  {
   "cell_type": "markdown",
   "id": "8d5fd57c",
   "metadata": {},
   "source": [
    "### Coil Sensitivity Estimation (SAKE + ESPIRiT)"
   ]
  },
  {
   "cell_type": "code",
   "execution_count": 28,
   "id": "5d157b9a",
   "metadata": {},
   "outputs": [
    {
     "data": {
      "application/vnd.jupyter.widget-view+json": {
       "model_id": "d989626045be4d8bb64c8f630057315c",
       "version_major": 2,
       "version_minor": 0
      },
      "text/plain": [
       "  0%|          | 0/16 [00:00<?, ?it/s]"
      ]
     },
     "metadata": {},
     "output_type": "display_data"
    }
   ],
   "source": [
    "sensmaps = kdata.get_sensmaps(ktraj.ktraj_nom, (NCha, NImx, NImy, 1, NSli, 1, 1),multi_contrast=False)"
   ]
  },
  {
   "cell_type": "code",
   "execution_count": 29,
   "id": "49e0f70a",
   "metadata": {},
   "outputs": [],
   "source": [
    "with h5py.File(full_h5_preproc_fname, \"r+\", libver=\"latest\") as h5_preproc_file:\n",
    "    dset = h5_preproc_file.create_dataset(\n",
    "        \"C\",\n",
    "        data=sensmaps.numpy(),\n",
    "        chunks=(NCha_comp, NImx, NImy, NPar_post, NSli_post, 1, 1),\n",
    "    )"
   ]
  },
  {
   "cell_type": "code",
   "execution_count": 30,
   "id": "a8fee5d8",
   "metadata": {},
   "outputs": [
    {
     "data": {
      "text/plain": [
       "<matplotlib.image.AxesImage at 0xffff254cbce0>"
      ]
     },
     "execution_count": 30,
     "metadata": {},
     "output_type": "execute_result"
    },
    {
     "data": {
      "image/png": "[encoded data removed]",
      "text/plain": [
       "<Figure size 640x480 with 3 Axes>"
      ]
     },
     "metadata": {},
     "output_type": "display_data"
    }
   ],
   "source": [
    "plt.figure()\n",
    "plt.subplot(1, 3, 1)\n",
    "plt.imshow(torch.abs(sensmaps[0, :, :, 0, 8, 0, 0]).numpy())\n",
    "plt.subplot(1, 3, 2)\n",
    "plt.imshow(torch.abs(sensmaps[0, :, 128, 0, :, 0, 0]).T.numpy())\n",
    "plt.subplot(1, 3, 3)\n",
    "plt.imshow(torch.abs(sensmaps[0, 128, :, 0, :, 0, 0]).T.numpy())"
   ]
  },
  {
   "cell_type": "code",
   "execution_count": 31,
   "id": "2a81fb5d",
   "metadata": {},
   "outputs": [
    {
     "data": {
      "text/plain": [
       "(np.float64(-0.5), np.float64(255.5), np.float64(15.5), np.float64(-0.5))"
      ]
     },
     "execution_count": 31,
     "metadata": {},
     "output_type": "execute_result"
    },
    {
     "data": {
      "image/png": "[encoded data removed]",
      "text/plain": [
       "<Figure size 640x480 with 2 Axes>"
      ]
     },
     "metadata": {},
     "output_type": "display_data"
    }
   ],
   "source": [
    "plt.figure()\n",
    "plt.subplot(1, 2, 1)\n",
    "plt.imshow(torch.abs(sensmaps[0, :, 128, 0, :, 0, 0].T).numpy(), vmin=0, vmax=1)\n",
    "plt.axis(\"off\")\n",
    "plt.subplot(1, 2, 2)\n",
    "plt.imshow(torch.abs(sensmaps[-1, :, 128, 0, :, 0, 0].T).numpy(), vmin=0, vmax=1)\n",
    "plt.axis(\"off\")"
   ]
  },
  {
   "cell_type": "code",
   "execution_count": null,
   "id": "f8825daf",
   "metadata": {},
   "outputs": [],
   "source": []
  }
 ],
 "metadata": {
  "kernelspec": {
   "display_name": "base",
   "language": "python",
   "name": "python3"
  },
  "language_info": {
   "codemirror_mode": {
    "name": "ipython",
    "version": 3
   },
   "file_extension": ".py",
   "mimetype": "text/x-python",
   "name": "python",
   "nbconvert_exporter": "python",
   "pygments_lexer": "ipython3",
   "version": "3.12.10"
  }
 },
 "nbformat": 4,
 "nbformat_minor": 5
}
