{
 "cells": [
  {
   "cell_type": "markdown",
   "metadata": {
    "editable": true,
    "slideshow": {
     "slide_type": ""
    },
    "tags": []
   },
   "source": [
    "# Accelerated Parameter Mapping of Multiple-Echo Gradient-Echo Data Using Model-Based Iterative Reconstruction"
   ]
  },
  {
   "cell_type": "markdown",
   "metadata": {},
   "source": [
    "*M. Zimmermann, Z. Abbas, K. Dzieciol and N. J. Shah, \"Accelerated Parameter Mapping of Multiple-Echo Gradient-Echo Data Using Model-Based Iterative Reconstruction,\" in IEEE Transactions on Medical Imaging, vol. 37, no. 2, pp. 626-637, Feb. 2018, doi: 10.1109/TMI.2017.2771504.*"
   ]
  },
  {
   "cell_type": "markdown",
   "metadata": {},
   "source": [
    "# Load data"
   ]
  },
  {
   "cell_type": "code",
   "execution_count": null,
   "metadata": {
    "editable": true,
    "slideshow": {
     "slide_type": ""
    },
    "tags": []
   },
   "outputs": [],
   "source": [
    "%load_ext autoreload\n",
    "%autoreload 2\n",
    "%matplotlib widget\n",
    "\n",
    "import sys\n",
    "\n",
    "sys.path.insert(0, \"../src\")\n",
    "\n",
    "import matplotlib.pyplot as plt\n",
    "import numpy as np\n",
    "import torch\n",
    "import zarr\n",
    "from s3fs import S3FileSystem\n",
    "\n",
    "from juart.conopt.functional.fourier import nonuniform_fourier_transform_adjoint\n",
    "from juart.conopt.tfs.fourier import nonuniform_transfer_function\n",
    "from juart.recon.mirage import MIRAGE\n",
    "from juart.recon.monitoring import ConvergenceMonitor\n",
    "from juart.vis import MultiPlotter\n",
    "\n",
    "torch.set_num_threads(16)\n",
    "torch.set_grad_enabled(False)"
   ]
  },
  {
   "cell_type": "code",
   "execution_count": null,
   "metadata": {
    "tags": [
     "parameters"
    ]
   },
   "outputs": [],
   "source": [
    "# session = \"7T1026\"\n",
    "session = \"7T1029\"\n",
    "nUS = 8\n",
    "iS = 80"
   ]
  },
  {
   "cell_type": "code",
   "execution_count": null,
   "metadata": {
    "tags": []
   },
   "outputs": [],
   "source": [
    "# zarr_preproc_fname = (\n",
    "#     \"qrage/sessions/%s/preproc.zarr/mz_me_mpnrage3d_grappa.zarr\" % session\n",
    "# )\n",
    "zarr_preproc_fname = \"qrage/sessions/%s/preproc.zarr/preproc.zarr\"\n",
    "zarr_image_fname = \"qrage/recons/%s/test.zarr/images.zarr\""
   ]
  },
  {
   "cell_type": "code",
   "execution_count": null,
   "metadata": {
    "editable": true,
    "slideshow": {
     "slide_type": ""
    },
    "tags": []
   },
   "outputs": [],
   "source": [
    "print(zarr_preproc_fname)\n",
    "print(zarr_image_fname)"
   ]
  },
  {
   "cell_type": "code",
   "execution_count": null,
   "metadata": {},
   "outputs": [],
   "source": [
    "# Check how to pass S3 credentials\n",
    "# https://s3fs.readthedocs.io/en/latest/#credentials\n",
    "\n",
    "fs = S3FileSystem(\n",
    "    anon=False,\n",
    "    endpoint_url=\"https://s3.fz-juelich.de\",\n",
    "    asynchronous=True,\n",
    ")\n",
    "store = zarr.storage.FsspecStore(\n",
    "    fs,\n",
    ")"
   ]
  },
  {
   "cell_type": "code",
   "execution_count": null,
   "metadata": {
    "editable": true,
    "slideshow": {
     "slide_type": ""
    },
    "tags": []
   },
   "outputs": [],
   "source": [
    "zarr_preproc_file = zarr.open_group(store, path=zarr_preproc_fname % session, mode=\"r\")\n",
    "\n",
    "nC, nX, nY, nZ, nS = zarr_preproc_file[\"C\"].shape[:5]\n",
    "nC, spokes, baseresolution, nZ, nS, nTI, nTE = zarr_preproc_file[\"d\"].shape\n",
    "\n",
    "nTI, nTE = 1, 1\n",
    "\n",
    "shape = (nX, nY, nZ, 1, nTI, nTE)\n",
    "\n",
    "print(\"Reconstructing slice %s of %s.\" % (iS, nS))\n",
    "\n",
    "nK = baseresolution * nUS\n",
    "\n",
    "# Read data\n",
    "C = zarr_preproc_file[\"C\"][:, :, :, :, iS : iS + 1, :, :]\n",
    "k = zarr_preproc_file[\"k\"][:, :nUS, :, :, :, :nTI, :nTE]\n",
    "d = zarr_preproc_file[\"d\"][:, :nUS, :, :, iS : iS + 1, :nTI, :nTE] / 1e-4\n",
    "\n",
    "k = k.reshape((2, nK, 1, nTI, nTE))\n",
    "d = d.reshape((8, 1, 1, nK, 1, nTI, nTE))\n",
    "\n",
    "C = torch.tensor(C, dtype=torch.complex64)\n",
    "k = torch.tensor(k, dtype=torch.float32)\n",
    "d = torch.tensor(d, dtype=torch.complex64)"
   ]
  },
  {
   "cell_type": "code",
   "execution_count": null,
   "metadata": {},
   "outputs": [],
   "source": [
    "MultiPlotter(\n",
    "    torch.abs(C[..., 0, 0]).cpu().numpy(),\n",
    "    (1, 8),\n",
    "    axis=0,\n",
    "    fig=plt.figure(figsize=(10, 3)),\n",
    "    cbar_size=\"2.5%\",\n",
    "    cbar_pad=0.1,\n",
    ")"
   ]
  },
  {
   "cell_type": "code",
   "execution_count": null,
   "metadata": {},
   "outputs": [],
   "source": [
    "MultiPlotter(\n",
    "    torch.abs(C[..., 0, 0]).cpu().numpy(),\n",
    "    (1, 8),\n",
    "    axis=0,\n",
    "    fig=plt.figure(figsize=(10, 3)),\n",
    "    cbar_size=\"2.5%\",\n",
    "    cbar_pad=0.1,\n",
    ")"
   ]
  },
  {
   "cell_type": "code",
   "execution_count": null,
   "metadata": {},
   "outputs": [],
   "source": [
    "MultiPlotter(\n",
    "    torch.angle(C[..., 0, 0]).cpu().numpy(),\n",
    "    (1, 8),\n",
    "    axis=0,\n",
    "    fig=plt.figure(figsize=(10, 3)),\n",
    "    cbar_size=\"2.5%\",\n",
    "    cbar_pad=0.1,\n",
    ")"
   ]
  },
  {
   "cell_type": "code",
   "execution_count": null,
   "metadata": {},
   "outputs": [],
   "source": [
    "AHd = nonuniform_fourier_transform_adjoint(\n",
    "    k, d, (nX, nY, nZ), (nC, nX, nY, nZ, 1, nTI, nTE)\n",
    ")\n",
    "AHd = torch.sum(torch.conj(C) * AHd, dim=0)"
   ]
  },
  {
   "cell_type": "code",
   "execution_count": null,
   "metadata": {},
   "outputs": [],
   "source": [
    "H = nonuniform_transfer_function(\n",
    "    k, (nX, nY, nZ, 1, nTI, nTE, nK), oversampling=(2, 2, 1)\n",
    ")"
   ]
  },
  {
   "cell_type": "code",
   "execution_count": null,
   "metadata": {},
   "outputs": [],
   "source": [
    "MultiPlotter(\n",
    "    torch.abs(H[0, :, :, 0, 0, :, :]).cpu().numpy(),\n",
    "    (nTE, nTI),\n",
    "    axis=(3, 2),\n",
    "    fig=plt.figure(figsize=(10, 6)),\n",
    "    cmap=\"viridis\",\n",
    "    vmin=0,\n",
    "    vmax=1,\n",
    "    cbar_size=\"2.5%\",\n",
    "    cbar_pad=0.1,\n",
    ")"
   ]
  },
  {
   "cell_type": "code",
   "execution_count": null,
   "metadata": {},
   "outputs": [],
   "source": [
    "MultiPlotter(\n",
    "    torch.abs(AHd[..., 0, 0, :, :]).cpu().numpy(),\n",
    "    (nTE, nTI),\n",
    "    axis=(3, 2),\n",
    "    fig=plt.figure(figsize=(10, 6)),\n",
    "    cmap=\"gray\",\n",
    "    vmin=0,\n",
    "    vmax=5,\n",
    "    cbar_size=\"2.5%\",\n",
    "    cbar_pad=0.1,\n",
    ")"
   ]
  },
  {
   "cell_type": "code",
   "execution_count": null,
   "metadata": {},
   "outputs": [],
   "source": [
    "MultiPlotter(\n",
    "    torch.angle(AHd[..., 0, 0, :, :]).cpu().numpy(),\n",
    "    (nTE, nTI),\n",
    "    axis=(3, 2),\n",
    "    fig=plt.figure(figsize=(10, 6)),\n",
    "    cmap=\"gray\",\n",
    "    vmin=-np.pi,\n",
    "    vmax=np.pi,\n",
    "    cbar_size=\"2.5%\",\n",
    "    cbar_pad=0.1,\n",
    ")"
   ]
  },
  {
   "cell_type": "code",
   "execution_count": null,
   "metadata": {},
   "outputs": [],
   "source": [
    "support = torch.abs(C).max(dim=0).values > 0\n",
    "\n",
    "cm = ConvergenceMonitor(support + torch.zeros(shape), support, logfile=None)\n",
    "\n",
    "solver = MIRAGE(\n",
    "    C[..., 0, 0],\n",
    "    AHd,\n",
    "    H,\n",
    "    lambda_wavelet=1e-3,\n",
    "    lambda_hankel=None,\n",
    "    lambda_casorati=None,\n",
    "    weight_wavelet=0.5,\n",
    "    weight_hankel=0.5,\n",
    "    weight_casorati=0.5,\n",
    "    cg_maxiter=5,\n",
    "    admm_maxiter=50,\n",
    "    callback=cm.callback,\n",
    ")"
   ]
  },
  {
   "cell_type": "code",
   "execution_count": null,
   "metadata": {
    "tags": []
   },
   "outputs": [],
   "source": [
    "# Run MIRAGE reconstruction\n",
    "solver.solve()"
   ]
  },
  {
   "cell_type": "code",
   "execution_count": null,
   "metadata": {},
   "outputs": [],
   "source": [
    "z_image = solver.solver.results[\"v\"].view(torch.complex64).reshape(shape)"
   ]
  },
  {
   "cell_type": "code",
   "execution_count": null,
   "metadata": {},
   "outputs": [],
   "source": [
    "MultiPlotter(\n",
    "    torch.abs(z_image[..., 0, 0, :, :]).cpu().numpy(),\n",
    "    (nTE, nTI),\n",
    "    axis=(3, 2),\n",
    "    fig=plt.figure(figsize=(10, 6)),\n",
    "    cmap=\"gray\",\n",
    "    vmin=0,\n",
    "    vmax=2,\n",
    "    cbar_size=\"2.5%\",\n",
    "    cbar_pad=0.1,\n",
    ")"
   ]
  },
  {
   "cell_type": "raw",
   "metadata": {},
   "source": [
    "with h5py.File(full_h5_image_fname, \"w\", libver='latest') as zarr_preproc_file:\n",
    "    dset = zarr_preproc_file.create_dataset(\"x\", data=z_image, chunks=(nX, nY, nZ, 1, 1, 1))"
   ]
  },
  {
   "cell_type": "raw",
   "metadata": {},
   "source": [
    "plt.savefig(\"/home/jovyan/reconstruction_idea.png\", dpi=1200, transparent=True)"
   ]
  },
  {
   "cell_type": "code",
   "execution_count": null,
   "metadata": {},
   "outputs": [],
   "source": []
  }
 ],
 "metadata": {
  "kernelspec": {
   "display_name": "Python 3 (ipykernel)",
   "language": "python",
   "name": "python3"
  },
  "language_info": {
   "codemirror_mode": {
    "name": "ipython",
    "version": 3
   },
   "file_extension": ".py",
   "mimetype": "text/x-python",
   "name": "python",
   "nbconvert_exporter": "python",
   "pygments_lexer": "ipython3",
   "version": "3.12.9"
  }
 },
 "nbformat": 4,
 "nbformat_minor": 4
}
