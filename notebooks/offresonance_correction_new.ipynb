{
 "cells": [
  {
   "cell_type": "code",
   "execution_count": null,
   "id": "d8c469f1",
   "metadata": {},
   "outputs": [],
   "source": [
    "%load_ext autoreload\n",
    "%autoreload 2\n",
    "%matplotlib widget\n",
    "\n",
    "import sys\n",
    "\n",
    "sys.path.insert(0, \"/home/jovyan/juart/src\")\n",
    "\n",
    "import math\n",
    "\n",
    "import matplotlib.pyplot as plt\n",
    "import numpy as np\n",
    "import torch\n",
    "\n",
    "from juart.conopt.functional.fourier import (\n",
    "    nonuniform_fourier_transform_adjoint,\n",
    ")\n",
    "from juart.conopt.linops.identity import IdentityOperator\n",
    "from juart.conopt.linops.tf import TransferFunctionOperator\n",
    "from juart.conopt.proxops.linear import conjugate_gradient\n",
    "from juart.conopt.tfs.fourier import nonuniform_transfer_function"
   ]
  },
  {
   "cell_type": "markdown",
   "id": "627e4283",
   "metadata": {},
   "source": [
    "Use MR0 to simulate "
   ]
  },
  {
   "cell_type": "code",
   "execution_count": null,
   "id": "bbffb7aa",
   "metadata": {
    "scrolled": true
   },
   "outputs": [],
   "source": [
    "%pip install git+https://github.com/mrphysics-bonn/spiraltraj.git\n",
    "%pip install MRzeroCore\n",
    "%pip install pypulseq\n",
    "\n",
    "import MRzeroCore as mr0\n",
    "import pypulseq as pp\n",
    "import spiraltraj"
   ]
  },
  {
   "cell_type": "code",
   "execution_count": null,
   "id": "c006594b",
   "metadata": {
    "scrolled": true
   },
   "outputs": [],
   "source": [
    "help(spiraltraj)"
   ]
  },
  {
   "cell_type": "markdown",
   "id": "351e7383",
   "metadata": {},
   "source": [
    "# Build simple 2D single-shot spiral-out GRE"
   ]
  },
  {
   "cell_type": "code",
   "execution_count": null,
   "id": "0945121f",
   "metadata": {},
   "outputs": [],
   "source": [
    "# choose the scanner limits\n",
    "system = pp.Opts(\n",
    "    max_grad=28,\n",
    "    grad_unit=\"mT/m\",\n",
    "    max_slew=150,\n",
    "    slew_unit=\"T/m/s\",\n",
    "    rf_ringdown_time=20e-6,\n",
    "    rf_dead_time=100e-6,\n",
    "    adc_dead_time=0,\n",
    "    grad_raster_time=10e-6,\n",
    "    adc_samples_limit=8192,\n",
    "    adc_samples_divisor=4,\n",
    ")\n",
    "\n",
    "seq = pp.Sequence()\n",
    "\n",
    "# Define FOV and resolution\n",
    "slice_thickness = 3e-3\n",
    "te_fill = 10e-3\n",
    "fov = [0.24, 0.24, slice_thickness]\n",
    "matrix = [96, 96, 1]\n",
    "\n",
    "# Define rf events\n",
    "rf, gz, gzr = pp.make_sinc_pulse(\n",
    "    flip_angle=90 * np.pi / 180,\n",
    "    duration=2e-3,\n",
    "    slice_thickness=slice_thickness,\n",
    "    apodization=0.5,\n",
    "    time_bw_product=4,\n",
    "    system=system,\n",
    "    return_gz=True,\n",
    ")\n",
    "\n",
    "# Define readout trajectory\n",
    "grad_samples = spiraltraj.calc_traj(\n",
    "    nitlv=1,\n",
    "    res=fov[0] / matrix[0] * 1e3,  # Resolution in mm\n",
    "    fov=fov[0] * 1e3,  # FOV in mm\n",
    "    max_amp=system.max_grad / system.gamma * 1e3,  # max gradient in mT/m\n",
    "    min_rise=1 / (system.max_slew / system.gamma) * 1e3,  # min rise time in us/mT/m\n",
    "    spiraltype=1,\n",
    ")\n",
    "\n",
    "grad_samples = np.array(grad_samples).T * 1e-3  # convert to T/m\n",
    "\n",
    "read_grads = []\n",
    "for i, wave in enumerate(grad_samples):\n",
    "    grad = pp.make_arbitrary_grad(\n",
    "        channel=\"x\" if i == 0 else \"y\",\n",
    "        waveform=wave * system.gamma,\n",
    "        first=0,\n",
    "        last=0,\n",
    "    )\n",
    "    read_grads.append(grad)\n",
    "\n",
    "# Define readout adc\n",
    "\n",
    "# Check maximal dwell for nyquist sampling\n",
    "max_g = np.max(np.linalg.norm([g.waveform for g in read_grads], axis=0)) / system.gamma\n",
    "min_dwell = 1 / (system.gamma * max_g * fov[0])\n",
    "min_dwell = (\n",
    "    math.floor(min_dwell / system.adc_raster_time) * system.adc_raster_time\n",
    ")  # Round to adc raster time\n",
    "\n",
    "# Get total number of samples for readout\n",
    "num_samples = math.ceil(pp.calc_duration(*read_grads) / min_dwell)\n",
    "\n",
    "# Create segmented adc object\n",
    "num_adc_seg, num_seg_samples = pp.calc_adc_segments(\n",
    "    num_samples=num_samples,\n",
    "    dwell=min_dwell,\n",
    "    system=system,\n",
    ")\n",
    "\n",
    "adc = pp.make_adc(\n",
    "    num_samples=num_seg_samples * num_adc_seg, dwell=min_dwell, system=system\n",
    ")\n",
    "adc_samples_overlap = adc.num_samples - num_seg_samples * num_adc_seg\n",
    "\n",
    "# Create sequence\n",
    "seq.add_block(rf, gz)\n",
    "seq.add_block(gzr)\n",
    "\n",
    "seq.add_block(pp.make_delay(te_fill))\n",
    "\n",
    "seq.add_block(*read_grads, adc)\n",
    "\n",
    "seq.write(\"spiral.seq\")"
   ]
  },
  {
   "cell_type": "markdown",
   "id": "49ace9c7",
   "metadata": {},
   "source": [
    "# Create MR0 Phantom"
   ]
  },
  {
   "cell_type": "code",
   "execution_count": null,
   "id": "861c20f5",
   "metadata": {},
   "outputs": [],
   "source": [
    "url = \"https://github.com/MRsources/MRzero-Core/raw/main/documentation/playground_mr0/subject05.npz\"\n",
    "\n",
    "phantom = mr0.util.load_phantom(url=url)\n",
    "\n",
    "phantom.size = torch.tensor(fov)\n",
    "phantom = phantom.interpolate(*matrix)\n",
    "\n",
    "phantom.B0 *= 1.5\n",
    "\n",
    "phantom.plot()\n",
    "data = phantom.build()"
   ]
  },
  {
   "cell_type": "markdown",
   "id": "58d5b60a",
   "metadata": {},
   "source": [
    "# Simulate Signal"
   ]
  },
  {
   "cell_type": "code",
   "execution_count": null,
   "id": "2be9bd5e",
   "metadata": {},
   "outputs": [],
   "source": [
    "seq_mr0 = mr0.Sequence.import_file(\"spiral.seq\")\n",
    "graph = mr0.compute_graph(\n",
    "    seq=seq_mr0, data=data, max_state_count=200, min_state_mag=1e-3\n",
    ")\n",
    "signal = mr0.execute_graph(graph=graph, seq=seq_mr0, data=data, print_progress=True)"
   ]
  },
  {
   "cell_type": "markdown",
   "id": "14966e15",
   "metadata": {},
   "source": [
    "# Reconstruction with CG-NUFFT"
   ]
  },
  {
   "cell_type": "markdown",
   "id": "ea333c80",
   "metadata": {},
   "source": [
    "Prepare kspace trajectory and signal for JUART reconstruction"
   ]
  },
  {
   "cell_type": "code",
   "execution_count": null,
   "id": "451d9274",
   "metadata": {},
   "outputs": [],
   "source": [
    "# Get kpsace trajectory\n",
    "k, _, _, _, _ = seq.calculate_kspace()\n",
    "k *= fov[0] / matrix[0]  # Scale from -0.5 to 0.5\n",
    "\n",
    "# We can save computation time by limiting trajectory to 2D\n",
    "k = k[:2]\n",
    "\n",
    "signal = torch.moveaxis(signal, 0, 1)  # Move channel axis to first axis\n",
    "\n",
    "k = torch.tensor(k, dtype=torch.float32)"
   ]
  },
  {
   "cell_type": "code",
   "execution_count": null,
   "id": "99eb0c33-4929-48ba-8605-e3ef996fd933",
   "metadata": {},
   "outputs": [],
   "source": [
    "from juart.recon.offres import OffResonanceCorrection"
   ]
  },
  {
   "cell_type": "code",
   "execution_count": null,
   "id": "c01d302b-7c3f-4d25-98b1-900090a1968d",
   "metadata": {},
   "outputs": [],
   "source": [
    "B0 = phantom.B0[None, ...].numpy()\n",
    "# TODO: Check why this is necessary\n",
    "B0 = B0[:, ::-1, ::-1, :]"
   ]
  },
  {
   "cell_type": "code",
   "execution_count": null,
   "id": "a8aa6d1c-99c5-48a3-b496-071035e80c08",
   "metadata": {},
   "outputs": [],
   "source": [
    "num_seg = 10\n",
    "num_samples = k.shape[1]\n",
    "\n",
    "offres = OffResonanceCorrection(B0, num_seg, num_samples, min_dwell)"
   ]
  },
  {
   "cell_type": "code",
   "execution_count": null,
   "id": "378c77aa-a203-4fcb-b939-cdaafc3d7569",
   "metadata": {},
   "outputs": [],
   "source": [
    "weights = [torch.from_numpy(offres.get_signal_weights(i)) for i in range(num_seg)]"
   ]
  },
  {
   "cell_type": "code",
   "execution_count": null,
   "id": "63ff3640-b8f7-452e-8762-7d4d7a21816d",
   "metadata": {},
   "outputs": [],
   "source": [
    "phases = [torch.from_numpy(offres.get_img_phase(i)) for i in range(num_seg)]"
   ]
  },
  {
   "cell_type": "markdown",
   "id": "213104d9",
   "metadata": {},
   "source": [
    "Perform CG-NUFFT"
   ]
  },
  {
   "cell_type": "code",
   "execution_count": null,
   "id": "f46d9e12",
   "metadata": {},
   "outputs": [],
   "source": [
    "transfer_function = nonuniform_transfer_function(\n",
    "    k, data_shape=(1, matrix[0], matrix[1], 1)\n",
    ")\n",
    "\n",
    "regridded_data = nonuniform_fourier_transform_adjoint(\n",
    "    k,\n",
    "    signal,\n",
    "    n_modes=tuple(matrix[:2]),\n",
    "    modeord=0,\n",
    ")\n",
    "\n",
    "transfer_function_operator = TransferFunctionOperator(\n",
    "    transfer_function, regridded_data.shape, axes=(1, 2)\n",
    ")\n",
    "\n",
    "ident_operator = IdentityOperator(\n",
    "    regridded_data.shape,\n",
    ")"
   ]
  },
  {
   "cell_type": "code",
   "execution_count": null,
   "id": "97ec5ee6-23e0-41ef-871e-71312d788d88",
   "metadata": {},
   "outputs": [],
   "source": [
    "from juart.conopt.linops.offres import OffresonaceTransferFunctionOperator"
   ]
  },
  {
   "cell_type": "code",
   "execution_count": null,
   "id": "56ff9825-42dc-4ccf-bda0-f492067154e2",
   "metadata": {},
   "outputs": [],
   "source": [
    "transfer_functions = list()\n",
    "\n",
    "for weight in weights:\n",
    "    transfer_functions.append(\n",
    "        nonuniform_transfer_function(\n",
    "            k,\n",
    "            data_shape=(1, matrix[0], matrix[1], 1),\n",
    "            weights=weight,\n",
    "        )\n",
    "    )"
   ]
  },
  {
   "cell_type": "code",
   "execution_count": null,
   "id": "b131ae55-2f97-412b-9f47-4b5531a0480f",
   "metadata": {},
   "outputs": [],
   "source": [
    "offres_transfer_function_operator = OffresonaceTransferFunctionOperator(\n",
    "    transfer_functions, phases, regridded_data.shape, axes=(1, 2)\n",
    ")"
   ]
  },
  {
   "cell_type": "code",
   "execution_count": null,
   "id": "232944ea-e9d2-481d-8ec1-f0589726045a",
   "metadata": {},
   "outputs": [],
   "source": [
    "regridded_data_offres = torch.zeros_like(regridded_data)\n",
    "\n",
    "for weight, phase in zip(weights, phases):\n",
    "    regridded_data_offres += torch.conj(phase) * nonuniform_fourier_transform_adjoint(\n",
    "        k,\n",
    "        weight * signal,\n",
    "        n_modes=tuple(matrix[:2]),\n",
    "        modeord=0,\n",
    "    )"
   ]
  },
  {
   "cell_type": "code",
   "execution_count": null,
   "id": "edbf9540",
   "metadata": {},
   "outputs": [],
   "source": [
    "# Calculate CG-NUFFT solution with regularization\n",
    "reg_param = 0.001\n",
    "d_vec = regridded_data.view(torch.float32).ravel()\n",
    "init_guess = torch.zeros(d_vec.shape, dtype=torch.float32)\n",
    "ATA = transfer_function_operator + reg_param * ident_operator\n",
    "\n",
    "img = conjugate_gradient(\n",
    "    A=ATA,\n",
    "    b=d_vec,\n",
    "    residual=[],\n",
    "    x=init_guess,\n",
    "    maxiter=40,\n",
    "    verbose=True,\n",
    ")[0]\n",
    "\n",
    "img = img.view(torch.complex64).reshape(regridded_data.shape)"
   ]
  },
  {
   "cell_type": "code",
   "execution_count": null,
   "id": "3a395882-a77c-4d0f-b673-e8825e7f7586",
   "metadata": {},
   "outputs": [],
   "source": [
    "# Calculate CG-NUFFT solution with regularization\n",
    "reg_param = 0.001\n",
    "d_vec = regridded_data_offres.ravel().view(torch.float32)\n",
    "init_guess = torch.zeros(d_vec.shape, dtype=torch.float32)\n",
    "ATA = offres_transfer_function_operator + reg_param * ident_operator\n",
    "\n",
    "img_offres = conjugate_gradient(\n",
    "    A=ATA,\n",
    "    b=d_vec,\n",
    "    residual=[],\n",
    "    x=init_guess,\n",
    "    maxiter=40,\n",
    "    verbose=True,\n",
    ")[0]\n",
    "\n",
    "img_offres = img_offres.view(torch.complex64).reshape(regridded_data.shape)"
   ]
  },
  {
   "cell_type": "code",
   "execution_count": null,
   "id": "41ebf1d3",
   "metadata": {},
   "outputs": [],
   "source": [
    "plt.figure(figsize=(10, 5))\n",
    "plt.subplot(1, 2, 1)\n",
    "plt.imshow(torch.abs(img[0, ..., 0]), vmin=0, vmax=150, cmap=\"gray\")\n",
    "plt.subplot(1, 2, 2)\n",
    "plt.imshow(torch.abs(img_offres[0, ..., 0]), vmax=150, cmap=\"gray\")"
   ]
  },
  {
   "cell_type": "code",
   "execution_count": null,
   "id": "93bd6372",
   "metadata": {},
   "outputs": [],
   "source": []
  }
 ],
 "metadata": {
  "kernelspec": {
   "display_name": "Python 3 (ipykernel)",
   "language": "python",
   "name": "python3"
  },
  "language_info": {
   "codemirror_mode": {
    "name": "ipython",
    "version": 3
   },
   "file_extension": ".py",
   "mimetype": "text/x-python",
   "name": "python",
   "nbconvert_exporter": "python",
   "pygments_lexer": "ipython3",
   "version": "3.12.10"
  }
 },
 "nbformat": 4,
 "nbformat_minor": 5
}
