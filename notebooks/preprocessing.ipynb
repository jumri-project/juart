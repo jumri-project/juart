{
 "cells": [
  {
   "cell_type": "markdown",
   "metadata": {
    "editable": true,
    "slideshow": {
     "slide_type": ""
    },
    "tags": []
   },
   "source": [
    "# Accelerated Parameter Mapping of Multiple-Echo Gradient-Echo Data Using Model-Based Iterative Reconstruction"
   ]
  },
  {
   "cell_type": "markdown",
   "metadata": {},
   "source": [
    "*M. Zimmermann, Z. Abbas, K. Dzieciol and N. J. Shah, \"Accelerated Parameter Mapping of Multiple-Echo Gradient-Echo Data Using Model-Based Iterative Reconstruction,\" in IEEE Transactions on Medical Imaging, vol. 37, no. 2, pp. 626-637, Feb. 2018, doi: 10.1109/TMI.2017.2771504.*"
   ]
  },
  {
   "cell_type": "markdown",
   "metadata": {},
   "source": [
    "# Imports"
   ]
  },
  {
   "cell_type": "code",
   "execution_count": null,
   "metadata": {
    "editable": true,
    "slideshow": {
     "slide_type": ""
    },
    "tags": []
   },
   "outputs": [],
   "source": [
    "%load_ext autoreload\n",
    "%autoreload 2\n",
    "%matplotlib widget\n",
    "\n",
    "import os\n",
    "import sys\n",
    "\n",
    "sys.path.insert(0, \"../src\")\n",
    "\n",
    "os.environ[\"HDF5_USE_FILE_LOCKING\"] = \"FALSE\"\n",
    "\n",
    "import h5py\n",
    "import ismrmrd\n",
    "import matplotlib.pyplot as plt\n",
    "import torch\n",
    "\n",
    "from juart.conopt.functional.fourier import fourier_transform_adjoint\n",
    "\n",
    "# from juart.preproc.aux import process_siemens_file\n",
    "from juart.preproc.data import KSpaceData, get_shape\n",
    "from juart.preproc.trajectory import KSpaceTrajectory\n",
    "\n",
    "torch.set_num_threads(1)"
   ]
  },
  {
   "cell_type": "code",
   "execution_count": null,
   "metadata": {
    "tags": [
     "parameters"
    ]
   },
   "outputs": [],
   "source": [
    "fname = \"7T1026\""
   ]
  },
  {
   "cell_type": "code",
   "execution_count": null,
   "metadata": {
    "editable": true,
    "slideshow": {
     "slide_type": ""
    },
    "tags": []
   },
   "outputs": [],
   "source": [
    "save = True\n",
    "pulseq = False"
   ]
  },
  {
   "cell_type": "raw",
   "metadata": {},
   "source": [
    "process_siemens_file(fname)"
   ]
  },
  {
   "cell_type": "code",
   "execution_count": null,
   "metadata": {
    "editable": true,
    "slideshow": {
     "slide_type": ""
    },
    "tags": []
   },
   "outputs": [],
   "source": [
    "full_session_dir = \"/home/projects/qrage/sessions/%s\" % fname\n",
    "h5_ismrmrd_fname = \"ismrmrd/mz_me_mpnrage3d.h5\"\n",
    "h5_preproc_fname = \"preproc/mz_me_mpnrage3d_grappa_pytorch.h5\""
   ]
  },
  {
   "cell_type": "code",
   "execution_count": null,
   "metadata": {
    "editable": true,
    "slideshow": {
     "slide_type": ""
    },
    "tags": []
   },
   "outputs": [],
   "source": [
    "full_h5_ismrmrd_fname = os.path.join(full_session_dir, h5_ismrmrd_fname)\n",
    "full_h5_preproc_fname = os.path.join(full_session_dir, h5_preproc_fname)"
   ]
  },
  {
   "cell_type": "code",
   "execution_count": null,
   "metadata": {},
   "outputs": [],
   "source": [
    "print(full_h5_ismrmrd_fname)\n",
    "print(full_h5_preproc_fname)"
   ]
  },
  {
   "cell_type": "markdown",
   "metadata": {
    "tags": []
   },
   "source": [
    "# Load Data"
   ]
  },
  {
   "cell_type": "code",
   "execution_count": null,
   "metadata": {},
   "outputs": [],
   "source": [
    "print(\"(1/2) Loading rawdata ...\")"
   ]
  },
  {
   "cell_type": "code",
   "execution_count": null,
   "metadata": {},
   "outputs": [],
   "source": [
    "dataset = ismrmrd.Dataset(\n",
    "    full_h5_ismrmrd_fname,\n",
    "    dataset_name=\"dataset\",\n",
    "    create_if_needed=False,\n",
    ")"
   ]
  },
  {
   "cell_type": "code",
   "execution_count": null,
   "metadata": {},
   "outputs": [],
   "source": [
    "NCha, NCol, NLin, NPar, NSli, NSet, NEco = get_shape(dataset)"
   ]
  },
  {
   "cell_type": "code",
   "execution_count": null,
   "metadata": {},
   "outputs": [],
   "source": [
    "# For now, manually set this to 160\n",
    "NPar = 160"
   ]
  },
  {
   "cell_type": "code",
   "execution_count": null,
   "metadata": {},
   "outputs": [],
   "source": [
    "print(NCha, NCol, NLin, NPar, NSli, NSet, NEco)"
   ]
  },
  {
   "cell_type": "code",
   "execution_count": null,
   "metadata": {},
   "outputs": [],
   "source": [
    "NLin_retro = 8\n",
    "NPar_post, NSli_post = NSli, NPar\n",
    "NCha_comp, ISet_comp, IEco_comp = 8, slice(NSet - 1, NSet), slice(0, 1)\n",
    "NImx, NImy, ISet_coil, IEco_coil = 256, 256, slice(15, 19), slice(0, 1)\n",
    "NAcl, NUsf = 32, 2"
   ]
  },
  {
   "cell_type": "code",
   "execution_count": null,
   "metadata": {},
   "outputs": [],
   "source": [
    "kdata = KSpaceData((NCha, NCol, NLin, NPar, NSli, NSet, NEco))"
   ]
  },
  {
   "cell_type": "code",
   "execution_count": null,
   "metadata": {},
   "outputs": [],
   "source": [
    "kdata.read_data(dataset, is_pulseq=True)"
   ]
  },
  {
   "cell_type": "code",
   "execution_count": null,
   "metadata": {},
   "outputs": [],
   "source": [
    "# Undersample along line dimension\n",
    "kdata.index_data([slice(None), slice(None), slice(NLin_retro), ...])"
   ]
  },
  {
   "cell_type": "code",
   "execution_count": null,
   "metadata": {},
   "outputs": [],
   "source": [
    "plt.figure()\n",
    "plt.imshow(torch.log(torch.abs(kdata.kdata[0, :, 0, :, 0, 0, 0]) + 1e-16).numpy())"
   ]
  },
  {
   "cell_type": "markdown",
   "metadata": {},
   "source": [
    "# GRAPPA"
   ]
  },
  {
   "cell_type": "code",
   "execution_count": null,
   "metadata": {},
   "outputs": [],
   "source": [
    "kdata.apply_mask(NUsf, NAcl, is_pulseq=True)"
   ]
  },
  {
   "cell_type": "code",
   "execution_count": null,
   "metadata": {},
   "outputs": [],
   "source": [
    "plt.figure()\n",
    "plt.imshow(torch.log(torch.abs(kdata.kdata[0, :, 0, :, 0, 0, 0]) + 1e-16).numpy())"
   ]
  },
  {
   "cell_type": "code",
   "execution_count": null,
   "metadata": {},
   "outputs": [],
   "source": [
    "kdata.reconstruct_partitions()"
   ]
  },
  {
   "cell_type": "code",
   "execution_count": null,
   "metadata": {},
   "outputs": [],
   "source": [
    "plt.figure()\n",
    "plt.imshow(torch.log(torch.abs(kdata.kdata[0, :, 0, :, 0, 0, 0]) + 1e-16).numpy())"
   ]
  },
  {
   "cell_type": "markdown",
   "metadata": {},
   "source": [
    "# Coil compression"
   ]
  },
  {
   "cell_type": "code",
   "execution_count": null,
   "metadata": {},
   "outputs": [],
   "source": [
    "# Swap Par and Sli Partition\n",
    "kdata.swapaxes(3, 4)"
   ]
  },
  {
   "cell_type": "code",
   "execution_count": null,
   "metadata": {},
   "outputs": [],
   "source": [
    "comp_matrix = kdata.compression_matrix(NCha_comp, ISet_comp, IEco_comp)"
   ]
  },
  {
   "cell_type": "code",
   "execution_count": null,
   "metadata": {},
   "outputs": [],
   "source": [
    "kdata.compress_data(comp_matrix)"
   ]
  },
  {
   "cell_type": "code",
   "execution_count": null,
   "metadata": {},
   "outputs": [],
   "source": [
    "# Swap Col and Lin dimension\n",
    "kdata.swapaxes(1, 2)"
   ]
  },
  {
   "cell_type": "code",
   "execution_count": null,
   "metadata": {},
   "outputs": [],
   "source": [
    "NCha, NLin, NCol, NPar, NSli, NSet, NEco = kdata.kdata_shape"
   ]
  },
  {
   "cell_type": "code",
   "execution_count": null,
   "metadata": {},
   "outputs": [],
   "source": [
    "print(\"(4/4) Creating output file ....\")\n",
    "\n",
    "if save:\n",
    "    with h5py.File(full_h5_preproc_fname, \"w\", libver=\"latest\") as out_file:\n",
    "        out_file.create_dataset(\n",
    "            \"d\", data=kdata.kdata.numpy(), chunks=(NCha, NLin, NCol, 1, 1, 1, 1)\n",
    "        )"
   ]
  },
  {
   "cell_type": "code",
   "execution_count": null,
   "metadata": {},
   "outputs": [],
   "source": [
    "plt.figure()\n",
    "plt.subplot(3, 2, 1)\n",
    "plt.imshow(\n",
    "    torch.log(torch.abs(kdata.kdata[0, 0, :, 0, :, 0, 0].T)).numpy(), vmin=-16, vmax=-7\n",
    ")\n",
    "plt.axis(\"off\")\n",
    "plt.subplot(3, 2, 2)\n",
    "plt.imshow(\n",
    "    torch.log(torch.abs(kdata.kdata[-1, 0, :, 0, :, 0, 0].T)).numpy(), vmin=-16, vmax=-7\n",
    ")\n",
    "plt.axis(\"off\")\n",
    "plt.subplot(3, 2, 3)\n",
    "plt.imshow(\n",
    "    torch.log(torch.abs(kdata.kdata[0, 1, :, 0, :, 0, 0].T)).numpy(), vmin=-16, vmax=-7\n",
    ")\n",
    "plt.axis(\"off\")\n",
    "plt.subplot(3, 2, 4)\n",
    "plt.imshow(\n",
    "    torch.log(torch.abs(kdata.kdata[-1, 1, :, 0, :, 0, 0].T)).numpy(), vmin=-16, vmax=-7\n",
    ")\n",
    "plt.axis(\"off\")\n",
    "plt.subplot(3, 2, 5)\n",
    "plt.imshow(\n",
    "    torch.log(torch.abs(kdata.kdata[0, 2, :, 0, :, 0, 0].T)).numpy(), vmin=-16, vmax=-7\n",
    ")\n",
    "plt.axis(\"off\")\n",
    "plt.subplot(3, 2, 6)\n",
    "plt.imshow(\n",
    "    torch.log(torch.abs(kdata.kdata[-1, 2, :, 0, :, 0, 0].T)).numpy(), vmin=-16, vmax=-7\n",
    ")\n",
    "plt.axis(\"off\")"
   ]
  },
  {
   "cell_type": "code",
   "execution_count": null,
   "metadata": {},
   "outputs": [],
   "source": [
    "vmax = 5e-4"
   ]
  },
  {
   "cell_type": "code",
   "execution_count": null,
   "metadata": {},
   "outputs": [],
   "source": [
    "plt.figure()\n",
    "plt.subplot(3, 2, 1)\n",
    "plt.imshow(\n",
    "    torch.abs(\n",
    "        fourier_transform_adjoint(kdata.kdata[0, 0, :, 0, :, 0, 0], axes=(0,)).T\n",
    "    ).numpy(),\n",
    "    vmin=0,\n",
    "    vmax=vmax,\n",
    ")\n",
    "plt.axis(\"off\")\n",
    "plt.subplot(3, 2, 2)\n",
    "plt.imshow(\n",
    "    torch.abs(\n",
    "        fourier_transform_adjoint(kdata.kdata[-1, 0, :, 0, :, 0, 0], axes=(0,)).T\n",
    "    ).numpy(),\n",
    "    vmin=0,\n",
    "    vmax=vmax,\n",
    ")\n",
    "plt.axis(\"off\")\n",
    "plt.subplot(3, 2, 3)\n",
    "plt.imshow(\n",
    "    torch.abs(\n",
    "        fourier_transform_adjoint(kdata.kdata[0, 1, :, 0, :, 0, 0], axes=(0,)).T\n",
    "    ).numpy(),\n",
    "    vmin=0,\n",
    "    vmax=vmax,\n",
    ")\n",
    "plt.axis(\"off\")\n",
    "plt.subplot(3, 2, 4)\n",
    "plt.imshow(\n",
    "    torch.abs(\n",
    "        fourier_transform_adjoint(kdata.kdata[-1, 1, :, 0, :, 0, 0], axes=(0,)).T\n",
    "    ).numpy(),\n",
    "    vmin=0,\n",
    "    vmax=vmax,\n",
    ")\n",
    "plt.axis(\"off\")\n",
    "plt.subplot(3, 2, 5)\n",
    "plt.imshow(\n",
    "    torch.abs(\n",
    "        fourier_transform_adjoint(kdata.kdata[0, 2, :, 0, :, 0, 0], axes=(0,)).T\n",
    "    ).numpy(),\n",
    "    vmin=0,\n",
    "    vmax=vmax,\n",
    ")\n",
    "plt.axis(\"off\")\n",
    "plt.subplot(3, 2, 6)\n",
    "plt.imshow(\n",
    "    torch.abs(\n",
    "        fourier_transform_adjoint(kdata.kdata[-1, 2, :, 0, :, 0, 0], axes=(0,)).T\n",
    "    ).numpy(),\n",
    "    vmin=0,\n",
    "    vmax=vmax,\n",
    ")\n",
    "plt.axis(\"off\")"
   ]
  },
  {
   "cell_type": "markdown",
   "metadata": {},
   "source": [
    "# Gradient Delay Correction (RING)"
   ]
  },
  {
   "cell_type": "code",
   "execution_count": null,
   "metadata": {},
   "outputs": [],
   "source": [
    "ktraj = KSpaceTrajectory(NLin, NCol, NSet, NEco)"
   ]
  },
  {
   "cell_type": "code",
   "execution_count": null,
   "metadata": {},
   "outputs": [],
   "source": [
    "S_corr = ktraj.estimate_gradient_delay(kdata.kdata)"
   ]
  },
  {
   "cell_type": "code",
   "execution_count": null,
   "metadata": {},
   "outputs": [],
   "source": [
    "S_corr"
   ]
  },
  {
   "cell_type": "code",
   "execution_count": null,
   "metadata": {},
   "outputs": [],
   "source": [
    "ktraj_corr = ktraj.correct_kspace_trajectory(S_corr)"
   ]
  },
  {
   "cell_type": "code",
   "execution_count": null,
   "metadata": {},
   "outputs": [],
   "source": [
    "if save:\n",
    "    with h5py.File(full_h5_preproc_fname, \"r+\", libver=\"latest\") as h5_preproc_file:\n",
    "        dset = h5_preproc_file.create_dataset(\n",
    "            \"k\", data=ktraj_corr.numpy(), chunks=(2, NLin_retro, NCol, 1, 1, 1, 1)\n",
    "        )"
   ]
  },
  {
   "cell_type": "markdown",
   "metadata": {},
   "source": [
    "# Coil Sensitivity Estimation (SAKE + ESPIRiT)"
   ]
  },
  {
   "cell_type": "code",
   "execution_count": null,
   "metadata": {},
   "outputs": [],
   "source": [
    "sensmaps = kdata.get_sensmaps(ktraj_corr, (NCha, NImx, NImy, 1, NSli, 1, 1))"
   ]
  },
  {
   "cell_type": "code",
   "execution_count": null,
   "metadata": {},
   "outputs": [],
   "source": [
    "if save:\n",
    "    with h5py.File(full_h5_preproc_fname, \"r+\", libver=\"latest\") as h5_preproc_file:\n",
    "        dset = h5_preproc_file.create_dataset(\n",
    "            \"C\",\n",
    "            data=sensmaps.numpy(),\n",
    "            chunks=(NCha_comp, NImx, NImy, NPar_post, NSli_post, 1, 1),\n",
    "        )"
   ]
  },
  {
   "cell_type": "code",
   "execution_count": null,
   "metadata": {},
   "outputs": [],
   "source": [
    "plt.figure()\n",
    "plt.subplot(1, 3, 1)\n",
    "plt.imshow(torch.abs(sensmaps[0, :, :, 0, 80, 0, 0]).numpy())\n",
    "plt.subplot(1, 3, 2)\n",
    "plt.imshow(torch.abs(sensmaps[0, :, 128, 0, :, 0, 0]).T.numpy())\n",
    "plt.subplot(1, 3, 3)\n",
    "plt.imshow(torch.abs(sensmaps[0, 128, :, 0, :, 0, 0]).T.numpy())"
   ]
  },
  {
   "cell_type": "code",
   "execution_count": null,
   "metadata": {},
   "outputs": [],
   "source": [
    "plt.figure()\n",
    "plt.subplot(1, 2, 1)\n",
    "plt.imshow(torch.abs(sensmaps[0, :, 128, 0, :, 0, 0].T).numpy(), vmin=0, vmax=1)\n",
    "plt.axis(\"off\")\n",
    "plt.subplot(1, 2, 2)\n",
    "plt.imshow(torch.abs(sensmaps[-1, :, 128, 0, :, 0, 0].T).numpy(), vmin=0, vmax=1)\n",
    "plt.axis(\"off\")"
   ]
  },
  {
   "cell_type": "code",
   "execution_count": null,
   "metadata": {},
   "outputs": [],
   "source": []
  },
  {
   "cell_type": "code",
   "execution_count": null,
   "metadata": {},
   "outputs": [],
   "source": []
  }
 ],
 "metadata": {
  "kernelspec": {
   "display_name": "Python 3 (ipykernel)",
   "language": "python",
   "name": "python3"
  },
  "language_info": {
   "codemirror_mode": {
    "name": "ipython",
    "version": 3
   },
   "file_extension": ".py",
   "mimetype": "text/x-python",
   "name": "python",
   "nbconvert_exporter": "python",
   "pygments_lexer": "ipython3",
   "version": "3.12.9"
  }
 },
 "nbformat": 4,
 "nbformat_minor": 4
}
