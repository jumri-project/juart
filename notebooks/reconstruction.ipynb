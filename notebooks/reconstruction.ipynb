{
 "cells": [
  {
   "cell_type": "markdown",
   "metadata": {
    "editable": true,
    "slideshow": {
     "slide_type": ""
    },
    "tags": []
   },
   "source": [
    "# Accelerated Parameter Mapping of Multiple-Echo Gradient-Echo Data Using Model-Based Iterative Reconstruction"
   ]
  },
  {
   "cell_type": "markdown",
   "metadata": {},
   "source": [
    "*M. Zimmermann, Z. Abbas, K. Dzieciol and N. J. Shah, \"Accelerated Parameter Mapping of Multiple-Echo Gradient-Echo Data Using Model-Based Iterative Reconstruction,\" in IEEE Transactions on Medical Imaging, vol. 37, no. 2, pp. 626-637, Feb. 2018, doi: 10.1109/TMI.2017.2771504.*"
   ]
  },
  {
   "cell_type": "markdown",
   "metadata": {},
   "source": [
    "# Load data"
   ]
  },
  {
   "cell_type": "code",
   "execution_count": null,
   "metadata": {
    "editable": true,
    "slideshow": {
     "slide_type": ""
    },
    "tags": []
   },
   "outputs": [],
   "source": [
    "%load_ext autoreload\n",
    "%autoreload 2\n",
    "%matplotlib widget\n",
    "\n",
    "import os\n",
    "\n",
    "import h5py\n",
    "import matplotlib.pyplot as plt\n",
    "import numpy as np\n",
    "import torch\n",
    "\n",
    "from juart.conopt.functional.fourier import nonuniform_fourier_transform_adjoint\n",
    "from juart.conopt.tfs.fourier import nonuniform_transfer_function\n",
    "from juart.recon.mirage import MIRAGE\n",
    "from juart.recon.monitoring import ConvergenceMonitor\n",
    "from juart.vis import MultiPlotter\n",
    "\n",
    "torch.set_num_threads(16)\n",
    "torch.set_grad_enabled(False)"
   ]
  },
  {
   "cell_type": "code",
   "execution_count": null,
   "metadata": {
    "tags": [
     "parameters"
    ]
   },
   "outputs": [],
   "source": [
    "fname = \"7T1541_pulseq_hypsecn_overdrive\"\n",
    "nUS = 8\n",
    "iS = 80"
   ]
  },
  {
   "cell_type": "code",
   "execution_count": null,
   "metadata": {
    "editable": true,
    "slideshow": {
     "slide_type": ""
    },
    "tags": []
   },
   "outputs": [],
   "source": [
    "full_session_dir = \"/home/projects/qrage/sessions/%s\" % fname\n",
    "h5_preproc_fname = \"preproc/mz_me_mpnrage3d_grappa.h5\"\n",
    "h5_image_fname = \"images/mz_me_mpnrage3d_grappa_%s_%s.h5\" % (iS, nUS)"
   ]
  },
  {
   "cell_type": "code",
   "execution_count": null,
   "metadata": {
    "tags": []
   },
   "outputs": [],
   "source": [
    "full_h5_preproc_fname = os.path.join(full_session_dir, h5_preproc_fname)\n",
    "full_h5_h5_image_fname = os.path.join(full_session_dir, h5_image_fname)"
   ]
  },
  {
   "cell_type": "code",
   "execution_count": null,
   "metadata": {
    "editable": true,
    "slideshow": {
     "slide_type": ""
    },
    "tags": []
   },
   "outputs": [],
   "source": [
    "print(full_h5_preproc_fname)\n",
    "print(full_h5_h5_image_fname)"
   ]
  },
  {
   "cell_type": "code",
   "execution_count": null,
   "metadata": {
    "editable": true,
    "slideshow": {
     "slide_type": ""
    },
    "tags": []
   },
   "outputs": [],
   "source": [
    "with h5py.File(\n",
    "    full_h5_preproc_fname,\n",
    "    \"r\",\n",
    "    libver=\"latest\",\n",
    "    swmr=True,\n",
    ") as h5_preproc_file:\n",
    "    nC, nX, nY, nZ, nS = h5_preproc_file[\"C\"].shape[:5]\n",
    "    nC, spokes, baseresolution, nZ, nS, nTI, nTE = h5_preproc_file[\"d\"].shape\n",
    "\n",
    "    shape = (nX, nY, nZ, 1, nTI, nTE)\n",
    "\n",
    "    print(\"Reconstructing slice %s of %s.\" % (iS, nS))\n",
    "\n",
    "    nK = baseresolution * nUS\n",
    "\n",
    "    # Read data\n",
    "    C = h5_preproc_file[\"C\"][:, :, :, :, iS : iS + 1, :, :]\n",
    "    k = h5_preproc_file[\"k\"][:, :nUS, :, :, :, :, :]\n",
    "    d = h5_preproc_file[\"d\"][:, :nUS, :, :, iS : iS + 1, :, :] / 1e-4\n",
    "\n",
    "    k = k.reshape((2, nK, 1, nTI, nTE))\n",
    "    d = d.reshape((8, 1, 1, nK, 1, nTI, nTE))\n",
    "\n",
    "    C = torch.tensor(C, dtype=torch.complex64)\n",
    "    k = torch.tensor(k, dtype=torch.float32)\n",
    "    d = torch.tensor(d, dtype=torch.complex64)"
   ]
  },
  {
   "cell_type": "code",
   "execution_count": null,
   "metadata": {},
   "outputs": [],
   "source": [
    "MultiPlotter(\n",
    "    np.abs(C[..., 0, 0].numpy()),\n",
    "    (1, 8),\n",
    "    axis=0,\n",
    "    fig=plt.figure(figsize=(10, 3)),\n",
    "    cbar_size=\"2.5%\",\n",
    "    cbar_pad=0.1,\n",
    ")"
   ]
  },
  {
   "cell_type": "code",
   "execution_count": null,
   "metadata": {},
   "outputs": [],
   "source": [
    "MultiPlotter(\n",
    "    np.angle(C[..., 0, 0].numpy()),\n",
    "    (1, 8),\n",
    "    axis=0,\n",
    "    fig=plt.figure(figsize=(10, 3)),\n",
    "    cbar_size=\"2.5%\",\n",
    "    cbar_pad=0.1,\n",
    ")"
   ]
  },
  {
   "cell_type": "code",
   "execution_count": null,
   "metadata": {},
   "outputs": [],
   "source": [
    "AHd = nonuniform_fourier_transform_adjoint(\n",
    "    k, d, (nX, nY, nZ), (nC, nX, nY, nZ, 1, nTI, nTE)\n",
    ")\n",
    "AHd = torch.sum(np.conj(C) * AHd, dim=0)"
   ]
  },
  {
   "cell_type": "code",
   "execution_count": null,
   "metadata": {},
   "outputs": [],
   "source": [
    "H = nonuniform_transfer_function(\n",
    "    k, (nX, nY, nZ, 1, nTI, nTE, nK), oversampling=(2, 2, 1)\n",
    ")"
   ]
  },
  {
   "cell_type": "code",
   "execution_count": null,
   "metadata": {},
   "outputs": [],
   "source": [
    "MultiPlotter(\n",
    "    np.abs(H[0, :, :, 0, 0, :, :].numpy()),\n",
    "    (nTE, nTI),\n",
    "    axis=(3, 2),\n",
    "    fig=plt.figure(figsize=(10, 6)),\n",
    "    cmap=\"viridis\",\n",
    "    vmin=0,\n",
    "    vmax=1,\n",
    "    cbar_size=\"2.5%\",\n",
    "    cbar_pad=0.1,\n",
    ")"
   ]
  },
  {
   "cell_type": "code",
   "execution_count": null,
   "metadata": {},
   "outputs": [],
   "source": [
    "MultiPlotter(\n",
    "    np.abs(AHd[..., 0, 0, :, :].numpy()),\n",
    "    (nTE, nTI),\n",
    "    axis=(3, 2),\n",
    "    fig=plt.figure(figsize=(10, 6)),\n",
    "    cmap=\"gray\",\n",
    "    vmin=0,\n",
    "    vmax=5,\n",
    "    cbar_size=\"2.5%\",\n",
    "    cbar_pad=0.1,\n",
    ")"
   ]
  },
  {
   "cell_type": "code",
   "execution_count": null,
   "metadata": {},
   "outputs": [],
   "source": [
    "MultiPlotter(\n",
    "    np.angle(AHd[..., 0, 0, :, :].numpy()),\n",
    "    (nTE, nTI),\n",
    "    axis=(3, 2),\n",
    "    fig=plt.figure(figsize=(10, 6)),\n",
    "    cmap=\"gray\",\n",
    "    vmin=-np.pi,\n",
    "    vmax=np.pi,\n",
    "    cbar_size=\"2.5%\",\n",
    "    cbar_pad=0.1,\n",
    ")"
   ]
  },
  {
   "cell_type": "code",
   "execution_count": null,
   "metadata": {},
   "outputs": [],
   "source": [
    "support = torch.abs(C).max(dim=0).values > 0\n",
    "\n",
    "cm = ConvergenceMonitor(support + torch.zeros(shape), support, logfile=None)\n",
    "\n",
    "solver = MIRAGE(\n",
    "    C[..., 0, 0],\n",
    "    AHd,\n",
    "    H,\n",
    "    (nX, nY, nZ, 1, nTI, nTE),\n",
    "    lambda_wavelet=1e-3,\n",
    "    lambda_hankel=1e-1,\n",
    "    lambda_casorati=1e-2,\n",
    "    weight_wavelet=0.5,\n",
    "    weight_hankel=0.5,\n",
    "    weight_casorati=0.5,\n",
    "    inner_iter=5,\n",
    "    outer_iter=10,\n",
    "    callback=cm.callback,\n",
    ")"
   ]
  },
  {
   "cell_type": "code",
   "execution_count": null,
   "metadata": {
    "tags": []
   },
   "outputs": [],
   "source": [
    "# Run MIRAGE reconstruction\n",
    "solver.solve()"
   ]
  },
  {
   "cell_type": "code",
   "execution_count": null,
   "metadata": {},
   "outputs": [],
   "source": [
    "z_image = solver.solver.results[\"v\"].view(torch.complex64).reshape(shape)"
   ]
  },
  {
   "cell_type": "code",
   "execution_count": null,
   "metadata": {},
   "outputs": [],
   "source": [
    "MultiPlotter(\n",
    "    np.abs(z_image[..., 0, 0, :, :]),\n",
    "    (nTE, nTI),\n",
    "    axis=(3, 2),\n",
    "    fig=plt.figure(figsize=(10, 6)),\n",
    "    cmap=\"gray\",\n",
    "    vmin=0,\n",
    "    vmax=2,\n",
    "    cbar_size=\"2.5%\",\n",
    "    cbar_pad=0.1,\n",
    ")"
   ]
  },
  {
   "cell_type": "raw",
   "metadata": {},
   "source": [
    "with h5py.File(full_h5_image_fname, \"w\", libver='latest') as h5_preproc_file:\n",
    "    dset = h5_preproc_file.create_dataset(\"x\", data=z_image, chunks=(nX, nY, nZ, 1, 1, 1))"
   ]
  },
  {
   "cell_type": "code",
   "execution_count": null,
   "metadata": {},
   "outputs": [],
   "source": [
    "plt.savefig(\"/home/jovyan/reconstruction_idea.png\", dpi=1200, transparent=True)"
   ]
  },
  {
   "cell_type": "code",
   "execution_count": null,
   "metadata": {},
   "outputs": [],
   "source": []
  }
 ],
 "metadata": {
  "kernelspec": {
   "display_name": "base",
   "language": "python",
   "name": "python3"
  },
  "language_info": {
   "codemirror_mode": {
    "name": "ipython",
    "version": 3
   },
   "file_extension": ".py",
   "mimetype": "text/x-python",
   "name": "python",
   "nbconvert_exporter": "python",
   "pygments_lexer": "ipython3",
   "version": "3.12.9"
  }
 },
 "nbformat": 4,
 "nbformat_minor": 4
}
