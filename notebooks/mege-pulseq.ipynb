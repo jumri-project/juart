{
 "cells": [
  {
   "cell_type": "code",
   "execution_count": 1,
   "id": "d18215bd-d2ba-4b70-91a6-66bccd25fe82",
   "metadata": {
    "editable": true,
    "slideshow": {
     "slide_type": ""
    },
    "tags": []
   },
   "outputs": [],
   "source": [
    "%load_ext autoreload\n",
    "%autoreload 2\n",
    "%matplotlib widget\n",
    "\n",
    "import sys\n",
    "from types import SimpleNamespace\n",
    "\n",
    "import numpy as np\n",
    "\n",
    "# sys.path.insert(0, \"/home/jovyan/pypulseq/src\")\n",
    "import pypulseq as pp\n",
    "\n",
    "# sys.path.insert(0, \"/home/jovyan/qrage/src\")\n",
    "sys.path.insert(0, '../qrage')\n",
    "from qrage.sequence.mege import MEGE"
   ]
  },
  {
   "cell_type": "code",
   "execution_count": 2,
   "id": "18d5d54d-928e-4cda-9d80-7bafb8aceb03",
   "metadata": {
    "editable": true,
    "slideshow": {
     "slide_type": ""
    },
    "tags": []
   },
   "outputs": [],
   "source": [
    "seq_write = False\n",
    "seq_debug = True\n",
    "seq_plot = True\n",
    "seq_calculate_gradient_spectrum = True\n",
    "seq_check_timing = True\n",
    "seq_test_report = True\n",
    "seq_filename = \"/home/jovyan/qrage/seq/mege.seq\""
   ]
  },
  {
   "cell_type": "code",
   "execution_count": 3,
   "id": "1f8c5ac6-1d40-4aac-9b9b-c534366ff61e",
   "metadata": {
    "editable": true,
    "slideshow": {
     "slide_type": ""
    },
    "tags": []
   },
   "outputs": [],
   "source": [
    "seq = pp.Sequence()\n",
    "\n",
    "system = pp.Opts(\n",
    "    max_grad=28,\n",
    "    grad_unit=\"mT/m\",\n",
    "    max_slew=200,\n",
    "    slew_unit=\"T/m/s\",\n",
    "    rf_ringdown_time=40e-6,\n",
    "    rf_dead_time=100e-6,\n",
    "    # adc_dead_time=0,\n",
    "    adc_dead_time=10e-6,\n",
    ")\n",
    "\n",
    "if seq_debug:\n",
    "    num_spokes = 2\n",
    "    num_echoes = 9\n",
    "    num_partitions_per_block = 16\n",
    "    num_autocalibration_lines = 0\n",
    "    acceleration_factor = 1\n",
    "    fov = np.array([256, 256, 16]) * 1e-3\n",
    "    matrix_size = np.array([256, 256, 16])\n",
    "    readout_bandwidth = 390.625\n",
    "else:\n",
    "    num_spokes = 32\n",
    "    num_echoes = 9\n",
    "    num_partitions_per_block = 160\n",
    "    num_autocalibration_lines = 32\n",
    "    acceleration_factor = 2\n",
    "    fov = np.array([256, 256, 160]) * 1e-3\n",
    "    matrix_size = np.array([256, 256, 160])\n",
    "    readout_bandwidth = 390.625\n",
    "\n",
    "axes = SimpleNamespace()\n",
    "\n",
    "xyz = [\"x\", \"y\", \"z\"]\n",
    "\n",
    "axes.d1 = \"x\"  # Readout dimension\n",
    "axes.d2 = \"y\"  # Inner phase-encoding loop\n",
    "axes.d3 = \"z\"  # Outer phase-enconding loop\n",
    "\n",
    "axes.n1 = xyz.index(axes.d1)\n",
    "axes.n2 = xyz.index(axes.d2)\n",
    "axes.n3 = xyz.index(axes.d3)"
   ]
  },
  {
   "cell_type": "code",
   "execution_count": 4,
   "id": "9661d556-f844-4980-a31b-d129c0176e13",
   "metadata": {},
   "outputs": [],
   "source": [
    "seq.set_definition(\"FOV\", fov.tolist())\n",
    "seq.set_definition(\"RES\", matrix_size.tolist())\n",
    "seq.set_definition(\"Name\", \"MEGE\")"
   ]
  },
  {
   "cell_type": "code",
   "execution_count": 5,
   "id": "ee2d2116-6b82-4309-b8a6-57bfb04e47ff",
   "metadata": {
    "editable": true,
    "slideshow": {
     "slide_type": ""
    },
    "tags": []
   },
   "outputs": [
    {
     "ename": "TypeError",
     "evalue": "ReadoutKernel.__init__() got multiple values for argument 'system'",
     "output_type": "error",
     "traceback": [
      "\u001b[31m---------------------------------------------------------------------------\u001b[39m",
      "\u001b[31mTypeError\u001b[39m                                 Traceback (most recent call last)",
      "\u001b[36mCell\u001b[39m\u001b[36m \u001b[39m\u001b[32mIn[5]\u001b[39m\u001b[32m, line 1\u001b[39m\n\u001b[32m----> \u001b[39m\u001b[32m1\u001b[39m mege = \u001b[43mMEGE\u001b[49m\u001b[43m(\u001b[49m\n\u001b[32m      2\u001b[39m \u001b[43m    \u001b[49m\u001b[43mfov\u001b[49m\u001b[43m,\u001b[49m\n\u001b[32m      3\u001b[39m \u001b[43m    \u001b[49m\u001b[43mmatrix_size\u001b[49m\u001b[43m,\u001b[49m\n\u001b[32m      4\u001b[39m \u001b[43m    \u001b[49m\u001b[43maxes\u001b[49m\u001b[43m,\u001b[49m\n\u001b[32m      5\u001b[39m \u001b[43m    \u001b[49m\u001b[43mreadout_bandwidth\u001b[49m\u001b[43m,\u001b[49m\n\u001b[32m      6\u001b[39m \u001b[43m    \u001b[49m\u001b[43mnum_spokes\u001b[49m\u001b[43m,\u001b[49m\n\u001b[32m      7\u001b[39m \u001b[43m    \u001b[49m\u001b[43mnum_echoes\u001b[49m\u001b[43m,\u001b[49m\n\u001b[32m      8\u001b[39m \u001b[43m    \u001b[49m\u001b[43mnum_partitions_per_block\u001b[49m\u001b[43m,\u001b[49m\n\u001b[32m      9\u001b[39m \u001b[43m    \u001b[49m\u001b[43mnum_autocalibration_lines\u001b[49m\u001b[43m,\u001b[49m\n\u001b[32m     10\u001b[39m \u001b[43m    \u001b[49m\u001b[43macceleration_factor\u001b[49m\u001b[43m,\u001b[49m\n\u001b[32m     11\u001b[39m \u001b[43m    \u001b[49m\u001b[43mdebug\u001b[49m\u001b[43m=\u001b[49m\u001b[38;5;28;43;01mFalse\u001b[39;49;00m\u001b[43m,\u001b[49m\n\u001b[32m     12\u001b[39m \u001b[43m    \u001b[49m\u001b[43msystem\u001b[49m\u001b[43m=\u001b[49m\u001b[43msystem\u001b[49m\u001b[43m,\u001b[49m\n\u001b[32m     13\u001b[39m \u001b[43m)\u001b[49m\n",
      "\u001b[36mFile \u001b[39m\u001b[32m/workspaces/juart-dev/notebooks/../qrage/qrage/sequence/mege.py:69\u001b[39m, in \u001b[36mMEGE.__init__\u001b[39m\u001b[34m(self, fov, matrix_size, axes, readout_bandwidth, num_spokes, num_echoes, num_partitions_per_block, num_autocalibration_lines, acceleration_factor, debug, system)\u001b[39m\n\u001b[32m     61\u001b[39m num_sets = \u001b[32m1\u001b[39m\n\u001b[32m     63\u001b[39m \u001b[38;5;28mself\u001b[39m.sampling = PartitionSampling(\n\u001b[32m     64\u001b[39m     matrix_size[axes.n3],\n\u001b[32m     65\u001b[39m     num_partitions_per_block,\n\u001b[32m     66\u001b[39m     num_autocalibration_lines,\n\u001b[32m     67\u001b[39m     acceleration_factor,\n\u001b[32m     68\u001b[39m )\n\u001b[32m---> \u001b[39m\u001b[32m69\u001b[39m \u001b[38;5;28mself\u001b[39m.readout_kernel = \u001b[43mReadoutKernel\u001b[49m\u001b[43m(\u001b[49m\n\u001b[32m     70\u001b[39m \u001b[43m    \u001b[49m\u001b[43mfov\u001b[49m\u001b[43m,\u001b[49m\n\u001b[32m     71\u001b[39m \u001b[43m    \u001b[49m\u001b[43mmatrix_size\u001b[49m\u001b[43m,\u001b[49m\n\u001b[32m     72\u001b[39m \u001b[43m    \u001b[49m\u001b[43maxes\u001b[49m\u001b[43m,\u001b[49m\n\u001b[32m     73\u001b[39m \u001b[43m    \u001b[49m\u001b[43mreadout_bandwidth\u001b[49m\u001b[43m=\u001b[49m\u001b[43mreadout_bandwidth\u001b[49m\u001b[43m,\u001b[49m\n\u001b[32m     74\u001b[39m \u001b[43m    \u001b[49m\u001b[43mnum_sets\u001b[49m\u001b[43m=\u001b[49m\u001b[43mnum_sets\u001b[49m\u001b[43m,\u001b[49m\n\u001b[32m     75\u001b[39m \u001b[43m    \u001b[49m\u001b[43mnum_echoes\u001b[49m\u001b[43m=\u001b[49m\u001b[43mnum_echoes\u001b[49m\u001b[43m,\u001b[49m\n\u001b[32m     76\u001b[39m \u001b[43m    \u001b[49m\u001b[43mdebug\u001b[49m\u001b[43m=\u001b[49m\u001b[43mdebug\u001b[49m\u001b[43m,\u001b[49m\n\u001b[32m     77\u001b[39m \u001b[43m    \u001b[49m\u001b[43msystem\u001b[49m\u001b[43m=\u001b[49m\u001b[43msystem\u001b[49m\u001b[43m,\u001b[49m\n\u001b[32m     78\u001b[39m \u001b[43m\u001b[49m\u001b[43m)\u001b[49m\n\u001b[32m     80\u001b[39m \u001b[38;5;28mself\u001b[39m.num_spokes = num_spokes\n\u001b[32m     81\u001b[39m \u001b[38;5;28mself\u001b[39m.num_sets = num_sets\n",
      "\u001b[31mTypeError\u001b[39m: ReadoutKernel.__init__() got multiple values for argument 'system'"
     ]
    }
   ],
   "source": [
    "mege = MEGE(\n",
    "    fov,\n",
    "    matrix_size,\n",
    "    axes,\n",
    "    readout_bandwidth,\n",
    "    num_spokes,\n",
    "    num_echoes,\n",
    "    num_partitions_per_block,\n",
    "    num_autocalibration_lines,\n",
    "    acceleration_factor,\n",
    "    debug=False,\n",
    "    system=system,\n",
    ")"
   ]
  },
  {
   "cell_type": "code",
   "execution_count": null,
   "id": "67043149-98d6-4a15-9a97-64e8bfa28724",
   "metadata": {
    "editable": true,
    "scrolled": true,
    "slideshow": {
     "slide_type": ""
    },
    "tags": []
   },
   "outputs": [],
   "source": [
    "mege.run(seq)"
   ]
  },
  {
   "cell_type": "code",
   "execution_count": null,
   "id": "b0e0932c-9dca-4905-a6f7-b89a4b716a9f",
   "metadata": {},
   "outputs": [],
   "source": [
    "mege.get_timing(seq)\n",
    "print(\n",
    "    \"dTE %s ms\" % np.round(mege.dTE, decimals=1),\n",
    "    \"TE0 %s ms\" % np.round(mege.TE0, decimals=1),\n",
    ")"
   ]
  },
  {
   "cell_type": "code",
   "execution_count": null,
   "id": "c887f5e8-6336-42a0-ae3c-e6f2e129b6c4",
   "metadata": {},
   "outputs": [],
   "source": [
    "if seq_plot:\n",
    "    seq.plot(time_range=[0, 0.1], grad_disp=\"mT/m\", time_disp=\"ms\", show_blocks=False)"
   ]
  },
  {
   "cell_type": "code",
   "execution_count": null,
   "id": "f560b7ec-dbb8-476c-9460-a5b529981446",
   "metadata": {},
   "outputs": [],
   "source": [
    "if seq_calculate_gradient_spectrum:\n",
    "    spects, spects_sos, freq, _ = seq.calculate_gradient_spectrum()\n",
    "    res_freqs = freq[np.argmax(spects, axis=1)]\n",
    "    print(\"Resonance frequencies of gradients (x, y, z) are: \", res_freqs)"
   ]
  },
  {
   "cell_type": "code",
   "execution_count": null,
   "id": "f2039637-0fd3-4506-965c-bb32330419e5",
   "metadata": {},
   "outputs": [],
   "source": [
    "if seq_check_timing:\n",
    "    ok, error_report = seq.check_timing()\n",
    "    if ok:\n",
    "        print(\"Timing check passed\")\n",
    "    else:\n",
    "        print(\"Timing check failed\")\n",
    "        [print(e) for e in error_report]"
   ]
  },
  {
   "cell_type": "code",
   "execution_count": null,
   "id": "a3ef0550-f1a4-4154-885a-72def75f428a",
   "metadata": {},
   "outputs": [],
   "source": [
    "if seq_test_report:\n",
    "    rep = seq.test_report()\n",
    "    print(rep)"
   ]
  },
  {
   "cell_type": "code",
   "execution_count": null,
   "id": "cbed62ce-767b-44a0-9c64-9f339f5141e4",
   "metadata": {},
   "outputs": [],
   "source": [
    "if seq_write:\n",
    "    seq.write(seq_filename)"
   ]
  },
  {
   "cell_type": "code",
   "execution_count": null,
   "id": "3eebdb1a-4653-4786-b5b4-33f541908214",
   "metadata": {},
   "outputs": [],
   "source": []
  }
 ],
 "metadata": {
  "kernelspec": {
   "display_name": "base",
   "language": "python",
   "name": "python3"
  },
  "language_info": {
   "codemirror_mode": {
    "name": "ipython",
    "version": 3
   },
   "file_extension": ".py",
   "mimetype": "text/x-python",
   "name": "python",
   "nbconvert_exporter": "python",
   "pygments_lexer": "ipython3",
   "version": "3.12.11"
  }
 },
 "nbformat": 4,
 "nbformat_minor": 5
}
